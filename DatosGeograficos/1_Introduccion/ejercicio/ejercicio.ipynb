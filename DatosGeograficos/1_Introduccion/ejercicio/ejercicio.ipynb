{
 "cells": [
  {
   "cell_type": "markdown",
   "metadata": {},
   "source": [
    "<h1 id=\"tocheading\">Tabla de contenidos</h1>\n",
    "<div id=\"toc\"></div>"
   ]
  },
  {
   "cell_type": "markdown",
   "metadata": {},
   "source": [
    "I. Tabla de contenidos\n",
    "\n",
    "    I. Ejercicios\n",
    "    II. Leemos y cargamos geometrías\n",
    "    III. Pasamos todo a GKBA\n",
    "    IV. Calculamos centroide y distancias\n",
    "    V. Graficamos y comparamos\n",
    "    VI. Barrio con mayor distancia a hospitales"
   ]
  },
  {
   "cell_type": "markdown",
   "metadata": {},
   "source": [
    "## Ejercicios\n",
    "\n",
    "Cuando uno realiza análisis urbanos es común intentar resumir la heterogeneidad de condiciones en pocas métricas, para poder entender cómo se fragmenta las ciudades con zonas de mayor o menor calidad de servicios, condiciones de vida, facilidad en circulación o conectividad, etc.\n",
    "\n",
    "En este caso vamos a tratar de generar indicadores de accesibilidad por barrios para analizar:\n",
    "\n",
    "- El acceso a la salud pública\n",
    "\n",
    "- El acceso a los servicios de bomberos\n",
    "\n",
    "1- Para ello, se propone calcular las siguientes métricas:\n",
    "\n",
    "    a- Obtener el centroide para cada barrio.\n",
    "\n",
    "    b- Medir la distancia de cada centroide a cada estación de bomberos (u hospital).\n",
    "    \n",
    "    c_1- Generamos la métrica \"Distancia a hospitales\":  entendiendo que a veces los hospitales pueden saturarse o tienen mayor diversidad de especializaciones (por ejemplo, hay hospitales especializados en niños o en problemas psiquiátricos) calculamos la distancia promedio a los 3 más cercanos. \n",
    "    c_2 - Generamos la métrica \"Distancia a bomberos\": en el caso de los bomberos se decide sólo tomar la distancia al más cercano.\n",
    "\n",
    "Para que la métrica sea más interpretable debemos calcular la distancia en metros o kilómetros.\n",
    "\n",
    "2- Luego analicemos los resultados. Para ello se propone:\n",
    "\n",
    "    a- comparar un histograma de la distribución de la distancia a bomberos y a hospitales por barrios. Deberían encontrar que la distribución a los hospitales presenta \"una cola más larga\". Es decir, hay barrios que están relativamente más lejos.\n",
    "\n",
    "    b- Finalmente, se pide que encuentren el barrio con mayor distancia a los hospitales y generen un mapa donde muestren en distintos colores:\n",
    "    \n",
    "    - Barrios\n",
    "    \n",
    "    - Hospitales\n",
    "    \n",
    "    - El barrio con mayor distancia"
   ]
  },
  {
   "cell_type": "markdown",
   "metadata": {},
   "source": [
    "## Leemos y cargamos geometrías"
   ]
  },
  {
   "cell_type": "code",
   "execution_count": null,
   "metadata": {},
   "outputs": [],
   "source": []
  },
  {
   "cell_type": "markdown",
   "metadata": {},
   "source": [
    "## Pasamos todo a GKBA"
   ]
  },
  {
   "cell_type": "code",
   "execution_count": null,
   "metadata": {},
   "outputs": [],
   "source": []
  },
  {
   "cell_type": "markdown",
   "metadata": {},
   "source": [
    "## Calculamos centroide y distancias"
   ]
  },
  {
   "cell_type": "code",
   "execution_count": null,
   "metadata": {},
   "outputs": [],
   "source": []
  },
  {
   "cell_type": "markdown",
   "metadata": {},
   "source": [
    "## Graficamos y comparamos"
   ]
  },
  {
   "cell_type": "code",
   "execution_count": null,
   "metadata": {},
   "outputs": [],
   "source": []
  },
  {
   "cell_type": "markdown",
   "metadata": {},
   "source": [
    "## Barrio con mayor distancia a hospitales"
   ]
  },
  {
   "cell_type": "code",
   "execution_count": null,
   "metadata": {},
   "outputs": [],
   "source": []
  }
 ],
 "metadata": {
  "kernelspec": {
   "display_name": "Python [conda env:geopandas_env]",
   "language": "python",
   "name": "conda-env-geopandas_env-py"
  },
  "language_info": {
   "codemirror_mode": {
    "name": "ipython",
    "version": 3
   },
   "file_extension": ".py",
   "mimetype": "text/x-python",
   "name": "python",
   "nbconvert_exporter": "python",
   "pygments_lexer": "ipython3",
   "version": "3.7.3"
  }
 },
 "nbformat": 4,
 "nbformat_minor": 2
}
