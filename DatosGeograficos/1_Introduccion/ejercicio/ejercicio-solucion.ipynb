{
 "cells": [
  {
   "cell_type": "markdown",
   "metadata": {},
   "source": [
    "[![Open In colab](https://colab.research.google.com/assets/colab-badge.svg)](https://colab.research.google.com/github/institutohumai/cursos-python/blob/master/DatosGeograficos/1_Introduccion/ejercicio/ejercicio-solucion.ipynb)"
   ]
  },
  {
   "cell_type": "markdown",
   "metadata": {},
   "source": [
    "<h1 id=\"tocheading\">Tabla de contenidos</h1>\n",
    "<div id=\"toc\"></div>"
   ]
  },
  {
   "cell_type": "markdown",
   "metadata": {},
   "source": [
    "I. Tabla de contenidos\n",
    "\n",
    "    I. Ejercicios\n",
    "    II. Leemos y cargamos geometrías\n",
    "    III. Pasamos todo a GKBA\n",
    "    IV. Calculamos centroide y distancias\n",
    "    V. Graficamos y comparamos\n",
    "    VI. Barrio con mayor distancia a hospitales"
   ]
  },
  {
   "cell_type": "markdown",
   "metadata": {},
   "source": [
    "## Ejercicios\n",
    "\n",
    "Cuando uno realiza análisis urbanos es común intentar resumir la heterogeneidad de condiciones en pocas métricas, para poder entender cómo se fragmenta las ciudades con zonas de mayor o menor calidad de servicios, condiciones de vida, facilidad en circulación o conectividad, etc.\n",
    "\n",
    "En este caso vamos a tratar de generar indicadores de accesibilidad por barrios para analizar:\n",
    "\n",
    "- El acceso a la salud pública\n",
    "\n",
    "- El acceso a los servicios de bomberos\n",
    "\n",
    "1- Para ello, se propone calcular las siguientes métricas:\n",
    "\n",
    "    a- Obtener el centroide para cada barrio.\n",
    "\n",
    "    b- Medir la distancia de cada centroide a cada estación de bomberos (u hospital).\n",
    "    \n",
    "    c_1- Generamos la métrica \"Distancia a hospitales\":  entendiendo que a veces los hospitales pueden saturarse o tienen mayor diversidad de especializaciones (por ejemplo, hay hospitales especializados en niños o en problemas psiquiátricos) calculamos la distancia promedio a los 3 más cercanos. \n",
    "    c_2 - Generamos la métrica \"Distancia a bomberos\": en el caso de los bomberos se decide sólo tomar la distancia al más cercano.\n",
    "\n",
    "Para que la métrica sea más interpretable debemos calcular la distancia en metros o kilómetros.\n",
    "\n",
    "2- Luego analicemos los resultados. Para ello se propone:\n",
    "\n",
    "    a- comparar un histograma de la distribución de la distancia a bomberos y a hospitales por barrios. Deberían encontrar que la distribución a los hospitales presenta \"una cola más larga\". Es decir, hay barrios que están relativamente más lejos.\n",
    "\n",
    "    b- Finalmente, se pide que encuentren el barrio con mayor distancia a los hospitales y generen un mapa donde muestren en distintos colores:\n",
    "    \n",
    "    - Barrios\n",
    "    \n",
    "    - Hospitales\n",
    "    \n",
    "    - El barrio con mayor distancia"
   ]
  },
  {
   "cell_type": "code",
   "execution_count": 1,
   "metadata": {},
   "outputs": [],
   "source": [
    "# !pip install geopandas"
   ]
  },
  {
   "cell_type": "code",
   "execution_count": 2,
   "metadata": {},
   "outputs": [],
   "source": [
    "# !apt install libspatialindex-dev\n",
    "# !pip install rtree"
   ]
  },
  {
   "cell_type": "code",
   "execution_count": 3,
   "metadata": {},
   "outputs": [],
   "source": [
    "import pandas as pd\n",
    "import geopandas\n",
    "from shapely.geometry import Point\n",
    "import shapely"
   ]
  },
  {
   "cell_type": "code",
   "execution_count": 4,
   "metadata": {},
   "outputs": [],
   "source": [
    "def from_x_y(df, x, y, crs='EPSG:4326'):\n",
    "    gdf = geopandas.GeoDataFrame(df.drop([x, y], axis=1), # eliminamos las columnas originales\n",
    "                                crs=crs, # Agregamos CRS\n",
    "                                geometry=geopandas.points_from_xy(df[x], df[y])) # junto \"x\" e \"y\" y lo paso a Point\n",
    "    return gdf"
   ]
  },
  {
   "cell_type": "code",
   "execution_count": 5,
   "metadata": {},
   "outputs": [],
   "source": [
    "def from_wkt(df, wkt_column, crs='EPSG:4326'):\n",
    "    \n",
    "    df[\"coordinates\"]= df[wkt_column].apply(shapely.wkt.loads) # empleamos una función de shapely para leer WKT\n",
    "        \n",
    "    gdf = geopandas.GeoDataFrame(barrios, geometry='coordinates', crs=crs) # seteamos la columna de geometría\n",
    "    \n",
    "    return gdf"
   ]
  },
  {
   "cell_type": "markdown",
   "metadata": {},
   "source": [
    "## Leemos y cargamos geometrías"
   ]
  },
  {
   "cell_type": "code",
   "execution_count": 6,
   "metadata": {},
   "outputs": [],
   "source": [
    "hospitales = pd.read_csv(\"https://datasets-humai.s3.amazonaws.com/datasets/hospitales.csv\")"
   ]
  },
  {
   "cell_type": "code",
   "execution_count": 7,
   "metadata": {},
   "outputs": [],
   "source": [
    "hospitales = from_x_y(hospitales, \"long\", \"lat\")"
   ]
  },
  {
   "cell_type": "code",
   "execution_count": 8,
   "metadata": {},
   "outputs": [],
   "source": [
    "bomberos = pd.read_csv(\"https://datasets-humai.s3.amazonaws.com/datasets/bomberos.csv\")"
   ]
  },
  {
   "cell_type": "code",
   "execution_count": 9,
   "metadata": {},
   "outputs": [],
   "source": [
    "bomberos = from_x_y(bomberos, \"long\",\"lat\")"
   ]
  },
  {
   "cell_type": "code",
   "execution_count": 10,
   "metadata": {},
   "outputs": [],
   "source": [
    "barrios = pd.read_csv(\"https://datasets-humai.s3.amazonaws.com/datasets/barrios.csv\", encoding='latin1')"
   ]
  },
  {
   "cell_type": "code",
   "execution_count": 11,
   "metadata": {},
   "outputs": [],
   "source": [
    "barrios = from_wkt(barrios, \"WKT\")"
   ]
  },
  {
   "cell_type": "markdown",
   "metadata": {},
   "source": [
    "## Pasamos todo a GKBA"
   ]
  },
  {
   "cell_type": "code",
   "execution_count": 12,
   "metadata": {},
   "outputs": [],
   "source": [
    "gkba_proj = \"+proj=tmerc +lat_0=-34.629269 +lon_0=-58.4633 +k=0.9999980000000001 +x_0=100000 +y_0=100000 +ellps=intl +units=m +no_defs\""
   ]
  },
  {
   "cell_type": "code",
   "execution_count": 13,
   "metadata": {},
   "outputs": [],
   "source": [
    "barrios_gkba = barrios.to_crs(crs = gkba_proj)"
   ]
  },
  {
   "cell_type": "code",
   "execution_count": 14,
   "metadata": {},
   "outputs": [],
   "source": [
    "bomberos_gkba = bomberos.to_crs(crs = gkba_proj)"
   ]
  },
  {
   "cell_type": "code",
   "execution_count": 15,
   "metadata": {},
   "outputs": [],
   "source": [
    "hospitales_gkba = hospitales.to_crs(crs = gkba_proj)"
   ]
  },
  {
   "cell_type": "markdown",
   "metadata": {},
   "source": [
    "## Calculamos centroide y distancias"
   ]
  },
  {
   "cell_type": "code",
   "execution_count": 16,
   "metadata": {},
   "outputs": [],
   "source": [
    "barrios_gkba[\"centroide\"] = barrios_gkba.centroid"
   ]
  },
  {
   "cell_type": "code",
   "execution_count": 17,
   "metadata": {},
   "outputs": [],
   "source": [
    "def promedio_a_punto(geometria, punto, n=1):\n",
    "    return geometria.geometry.apply(lambda x: x.distance(punto)).nsmallest(n).mean()"
   ]
  },
  {
   "cell_type": "code",
   "execution_count": 18,
   "metadata": {},
   "outputs": [],
   "source": [
    "barrios_gkba[\"dist_a_bomberos\"] = barrios_gkba[\"centroide\"].apply(lambda x: promedio_a_punto(bomberos_gkba, x))"
   ]
  },
  {
   "cell_type": "code",
   "execution_count": 19,
   "metadata": {},
   "outputs": [],
   "source": [
    "barrios_gkba[\"dist_a_hospitales\"] = barrios_gkba[\"centroide\"].apply(lambda x: promedio_a_punto(hospitales_gkba, x, n=3))"
   ]
  },
  {
   "cell_type": "markdown",
   "metadata": {},
   "source": [
    "## Graficamos y comparamos"
   ]
  },
  {
   "cell_type": "code",
   "execution_count": 20,
   "metadata": {},
   "outputs": [],
   "source": [
    "import matplotlib.pyplot as plt\n",
    "%matplotlib inline"
   ]
  },
  {
   "cell_type": "code",
   "execution_count": 21,
   "metadata": {},
   "outputs": [
    {
     "data": {
      "text/plain": [
       "<matplotlib.axes._subplots.AxesSubplot at 0x7f6b6d6e17f0>"
      ]
     },
     "execution_count": 21,
     "metadata": {},
     "output_type": "execute_result"
    },
    {
     "data": {
      "image/png": "[encoded data removed]",
      "text/plain": [
       "<Figure size 432x288 with 1 Axes>"
      ]
     },
     "metadata": {
      "needs_background": "light"
     },
     "output_type": "display_data"
    }
   ],
   "source": [
    "barrios_gkba[\"dist_a_bomberos\"].hist()"
   ]
  },
  {
   "cell_type": "code",
   "execution_count": 22,
   "metadata": {},
   "outputs": [
    {
     "data": {
      "text/plain": [
       "<matplotlib.axes._subplots.AxesSubplot at 0x7f6b6d3de358>"
      ]
     },
     "execution_count": 22,
     "metadata": {},
     "output_type": "execute_result"
    },
    {
     "data": {
      "image/png": "[encoded data removed]",
      "text/plain": [
       "<Figure size 432x288 with 1 Axes>"
      ]
     },
     "metadata": {
      "needs_background": "light"
     },
     "output_type": "display_data"
    }
   ],
   "source": [
    "barrios_gkba[\"dist_a_hospitales\"].hist()"
   ]
  },
  {
   "cell_type": "markdown",
   "metadata": {},
   "source": [
    "## Barrio con mayor distancia a hospitales"
   ]
  },
  {
   "cell_type": "code",
   "execution_count": 23,
   "metadata": {},
   "outputs": [
    {
     "data": {
      "text/plain": [
       "WKT                  POLYGON ((-58.4497832682116 -34.6806103119189,...\n",
       "BARRIO                                                 VILLA RIACHUELO\n",
       "COMUNA                                                               8\n",
       "PERIMETRO                                                      10597.3\n",
       "AREA                                                       4.23287e+06\n",
       "coordinates          POLYGON ((101238.7450197537 94304.27703230902,...\n",
       "centroide                   POINT (99995.4345033409 93056.51643583336)\n",
       "dist_a_bomberos                                                1075.12\n",
       "dist_a_hospitales                                              4809.03\n",
       "Name: 34, dtype: object"
      ]
     },
     "execution_count": 23,
     "metadata": {},
     "output_type": "execute_result"
    }
   ],
   "source": [
    "barrios_gkba.loc[barrios_gkba[\"dist_a_hospitales\"].idxmax()]"
   ]
  },
  {
   "cell_type": "code",
   "execution_count": 24,
   "metadata": {},
   "outputs": [
    {
     "data": {
      "image/png": "[encoded data removed]",
      "text/plain": [
       "<Figure size 432x288 with 1 Axes>"
      ]
     },
     "metadata": {
      "needs_background": "light"
     },
     "output_type": "display_data"
    }
   ],
   "source": [
    "fig, ax = plt.subplots()\n",
    "ax.set_aspect('equal')\n",
    "barrios_gkba.plot(ax=ax, color='white', edgecolor='black')\n",
    "hospitales_gkba.plot(ax=ax, color='red')\n",
    "barrios_gkba.query(\"BARRIO == 'VILLA RIACHUELO'\").plot(ax=ax, color='blue', edgecolor='black')\n",
    "plt.show();"
   ]
  }
 ],
 "metadata": {
  "kernelspec": {
   "display_name": "Python [conda env:geopandas_env]",
   "language": "python",
   "name": "conda-env-geopandas_env-py"
  },
  "language_info": {
   "codemirror_mode": {
    "name": "ipython",
    "version": 3
   },
   "file_extension": ".py",
   "mimetype": "text/x-python",
   "name": "python",
   "nbconvert_exporter": "python",
   "pygments_lexer": "ipython3",
   "version": "3.7.3"
  }
 },
 "nbformat": 4,
 "nbformat_minor": 2
}
