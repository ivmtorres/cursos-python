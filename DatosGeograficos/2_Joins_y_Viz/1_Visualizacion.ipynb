{
 "cells": [
  {
   "cell_type": "markdown",
   "metadata": {},
   "source": [
    "[![Open In colab](https://colab.research.google.com/assets/colab-badge.svg)](https://colab.research.google.com/github/institutohumai/cursos-python/blob/master/DatosGeograficos/2_Joins_y_Viz/1_Visualizacion.ipynb)"
   ]
  },
  {
   "cell_type": "markdown",
   "metadata": {},
   "source": [
    "<h1 id=\"tocheading\">Tabla de contenidos</h1>\n",
    "<div id=\"toc\"></div>"
   ]
  },
  {
   "cell_type": "markdown",
   "metadata": {},
   "source": [
    "I. Tabla de contenidos\n",
    "II. Geodatos y transporte\n",
    "\n",
    "    I. Cargamos datos\n",
    "    II. Explorando polígonos\n",
    "        I. Ejercicio\n",
    "    III. Usando máscaras\n",
    "        I. Ejercicio\n",
    "    IV. Coropletas\n",
    "    V. Mapas interactivos\n",
    "        I. Ejercicio\n",
    "        II. Agregando marcadores\n",
    "        III. Agregando capas a Folium\n",
    "        IV. Clusters de marcadores\n",
    "        V. Ejercicio"
   ]
  },
  {
   "cell_type": "code",
   "execution_count": null,
   "metadata": {},
   "outputs": [],
   "source": [
    "!pip install geopandas\n",
    "!apt install libspatialindex-dev\n",
    "!pip install rtree\n",
    "\n",
    "!pip install pysal\n",
    "!pip install contextily #--> Para importar mapa base\n",
    "!pip install folium"
   ]
  },
  {
   "cell_type": "code",
   "execution_count": null,
   "metadata": {},
   "outputs": [],
   "source": [
    "import pandas as pd\n",
    "import geopandas\n",
    "import shapely\n",
    "import pysal\n",
    "import zipfile\n",
    "import matplotlib.pyplot as plt\n",
    "%matplotlib inline"
   ]
  },
  {
   "cell_type": "markdown",
   "metadata": {},
   "source": [
    "# Geodatos y transporte"
   ]
  },
  {
   "cell_type": "markdown",
   "metadata": {},
   "source": [
    "Sin lugar a dudas el entorno urbano es el lugar predilecto para los análisis con datos vectoriales y, además, el transporte es una de las fuentes de información más atractivas. No sólo por su riqueza como información en sí sino también por la relevancia del transporte en la vida cotidiana en las grandes ciudades, especialmente en América Latina donde el transporte suele ser un problema en sí mismo.\n",
    "\n",
    "Es así que encontramos todo tipo de información en este rubro:\n",
    "\n",
    "- Polígonos estáticos como barrios o jurisdicciones administrativas (educativas, por ej.) o censales (como radio o fracción censal en Argentina).\n",
    "\n",
    "- Líneas o multilíneas estáticas como las rutas de los colectivos o el callejeros de la ciudad.\n",
    "\n",
    "- Puntos estáticos como paradas de colectivos, estaciones de subtes y trenes.\n",
    "\n",
    "- Puntos en tiempo real como la posición de colectivos, camiones de basura, cortes de tránsito, accidentes, etc."
   ]
  },
  {
   "cell_type": "markdown",
   "metadata": {},
   "source": [
    "## Cargamos datos"
   ]
  },
  {
   "cell_type": "markdown",
   "metadata": {},
   "source": [
    "Vamos a leer la información. Noten que en todos los casos vamos a usar WGS 84."
   ]
  },
  {
   "cell_type": "code",
   "execution_count": null,
   "metadata": {},
   "outputs": [],
   "source": [
    "def from_wkt(df, wkt_column, crs='EPSG:4326'):\n",
    "    \n",
    "    df[\"coordinates\"]= df[wkt_column].apply(shapely.wkt.loads) # empleamos una función de shapely para leer WKT\n",
    "        \n",
    "    gdf = geopandas.GeoDataFrame(df, geometry='coordinates', crs=crs) # seteamos la columna de geometría\n",
    "    \n",
    "    return gdf"
   ]
  },
  {
   "cell_type": "markdown",
   "metadata": {},
   "source": [
    "Es común que los archivos shapefile incluyan la información sobre el sistema de coordenadas empleado. Esta información se encuentra incluida en el archivo .prj"
   ]
  },
  {
   "cell_type": "markdown",
   "metadata": {},
   "source": [
    "En esta notebook vamos a trabajar con las paradas y recorridos de colectivos, la información del censo 2010 (el último en Argentina al momento de escribir ésto) y las geometrías de los barrios.\n",
    "\n",
    "Acá pueden ver los links de los archivos originales:\n",
    "\n",
    "- https://data.buenosaires.gob.ar/dataset/colectivos-paradas\n",
    "- https://data.buenosaires.gob.ar/dataset/colectivos-recorridos\n",
    "- https://data.buenosaires.gob.ar/dataset/informacion-censal-por-radio/archivo/juqdkmgo-1214-resource"
   ]
  },
  {
   "cell_type": "code",
   "execution_count": null,
   "metadata": {},
   "outputs": [],
   "source": [
    "!wget \"https://datasets-humai.s3.amazonaws.com/datasets/recorrido-colectivos.zip\""
   ]
  },
  {
   "cell_type": "code",
   "execution_count": null,
   "metadata": {},
   "outputs": [],
   "source": [
    "folder = \"recorrido-colectivos\"\n",
    "with zipfile.ZipFile(f\"{folder}.zip\", 'r') as f:\n",
    "    f.extractall(folder)"
   ]
  },
  {
   "cell_type": "code",
   "execution_count": null,
   "metadata": {},
   "outputs": [],
   "source": [
    "recorridos = geopandas.read_file(\"recorrido-colectivos/recorrido-colectivos.shp\")"
   ]
  },
  {
   "cell_type": "code",
   "execution_count": null,
   "metadata": {},
   "outputs": [],
   "source": [
    "recorridos.crs.name"
   ]
  },
  {
   "cell_type": "code",
   "execution_count": null,
   "metadata": {},
   "outputs": [],
   "source": [
    "!wget 'https://datasets-humai.s3.amazonaws.com/datasets/paradas-de-colectivo.zip'"
   ]
  },
  {
   "cell_type": "code",
   "execution_count": null,
   "metadata": {},
   "outputs": [],
   "source": [
    "folder = \"paradas-de-colectivo\"\n",
    "with zipfile.ZipFile(f\"{folder}.zip\", 'r') as f:\n",
    "    f.extractall(folder)"
   ]
  },
  {
   "cell_type": "code",
   "execution_count": null,
   "metadata": {},
   "outputs": [],
   "source": [
    "paradas = geopandas.read_file(\"paradas-de-colectivo/paradas-de-colectivo.shp\")"
   ]
  },
  {
   "cell_type": "code",
   "execution_count": null,
   "metadata": {},
   "outputs": [],
   "source": [
    "paradas.crs.name"
   ]
  },
  {
   "cell_type": "code",
   "execution_count": null,
   "metadata": {},
   "outputs": [],
   "source": [
    "barrios = pd.read_csv(\"https://datasets-humai.s3.amazonaws.com/datasets/barrios.csv\", encoding='latin1')"
   ]
  },
  {
   "cell_type": "code",
   "execution_count": null,
   "metadata": {},
   "outputs": [],
   "source": [
    "barrios = from_wkt(barrios, \"WKT\")"
   ]
  },
  {
   "cell_type": "code",
   "execution_count": null,
   "metadata": {},
   "outputs": [],
   "source": [
    "barrios.crs.name"
   ]
  },
  {
   "cell_type": "code",
   "execution_count": null,
   "metadata": {},
   "outputs": [],
   "source": [
    "!wget 'https://datasets-humai.s3.amazonaws.com/datasets/informacion-censal-por-radio-2010.zip'"
   ]
  },
  {
   "cell_type": "code",
   "execution_count": null,
   "metadata": {},
   "outputs": [],
   "source": [
    "folder = \"informacion-censal-por-radio-2010\"\n",
    "with zipfile.ZipFile(f\"{folder}.zip\", 'r') as f:\n",
    "    f.extractall(folder)"
   ]
  },
  {
   "cell_type": "code",
   "execution_count": null,
   "metadata": {},
   "outputs": [],
   "source": [
    "radios = geopandas.read_file(\"informacion-censal-por-radio-2010/informacion_censal_por_radio_2010.shp\")"
   ]
  },
  {
   "cell_type": "code",
   "execution_count": null,
   "metadata": {},
   "outputs": [],
   "source": [
    "radios.crs.name"
   ]
  },
  {
   "cell_type": "markdown",
   "metadata": {},
   "source": [
    "## Explorando polígonos"
   ]
  },
  {
   "cell_type": "markdown",
   "metadata": {},
   "source": [
    "Un problema común suele ser tener una ruta o un callejero mucho más grande que el área que necesitamos analizar, por ejemplo, una ciudad, un barrio o una región delimitada arbitrariamente."
   ]
  },
  {
   "cell_type": "markdown",
   "metadata": {},
   "source": [
    "Para comenzar veamos las rutas de colectivos en el Área Metropolitana de Buenos Aires."
   ]
  },
  {
   "cell_type": "code",
   "execution_count": null,
   "metadata": {},
   "outputs": [],
   "source": [
    "recorridos.plot(color=\"red\")"
   ]
  },
  {
   "cell_type": "markdown",
   "metadata": {},
   "source": [
    "Ok, eso no nos dice demasiado... Sí podemos ver que hay a la izquierda una serie de rutas que no está muy claro qué son... Filtrémoslas y volvamos a plotear. Para ello vamos a quedarnos con las rutas al este de la longitud -60.5.\n",
    "\n",
    "### Ejercicio \n",
    "Filtrar los recorridos que están al oeste de la longiud -60.5. Tip: pueden tomar las coordenadas del centroide de las rutas. Guardar el resultado en recorridos_amba y graficar."
   ]
  },
  {
   "cell_type": "code",
   "execution_count": null,
   "metadata": {},
   "outputs": [],
   "source": []
  },
  {
   "cell_type": "markdown",
   "metadata": {},
   "source": [
    "Bueno, ahora que filtramos se vé más prolijo pero, ¿qué estamos viendo realmente? Para entender un poco mejor qué estamos viendo sumemos la capa de barrios de capa y grafiquemos."
   ]
  },
  {
   "cell_type": "code",
   "execution_count": null,
   "metadata": {},
   "outputs": [],
   "source": []
  },
  {
   "cell_type": "markdown",
   "metadata": {},
   "source": [
    "Mmm no podemos ver nada, ¿qué podemos hacer? El método plot incluye un parámetro alpha que regula la opacidad de la misma. Ajustando eso vamos a tener un mejor resultado. Además, vamos a agrandar la imagen para poder verla mejor."
   ]
  },
  {
   "cell_type": "code",
   "execution_count": null,
   "metadata": {},
   "outputs": [],
   "source": [
    "type(ax)"
   ]
  },
  {
   "cell_type": "code",
   "execution_count": null,
   "metadata": {},
   "outputs": [],
   "source": [
    "fig, ax = plt.subplots(figsize=(12, 8))\n",
    "recorridos_amba.plot(ax=ax, color=\"red\", alpha=0.008)\n",
    "barrios.plot(ax=ax, color=\"black\")\n",
    "plt.show()"
   ]
  },
  {
   "cell_type": "markdown",
   "metadata": {},
   "source": [
    "Ok, ahora sí podemos notar que las rutas exceden en mucho la ciudad de Buenos Aires. Para trabajar con esta información va a ser conveniente reducir el tamaño de las rutas sólo a la ciudad de Buenos Aires."
   ]
  },
  {
   "cell_type": "markdown",
   "metadata": {},
   "source": [
    "## Usando máscaras"
   ]
  },
  {
   "cell_type": "markdown",
   "metadata": {},
   "source": [
    "Es común que en situaciones nos encontremos con que un polígono es demasiado grande para lo que necesitamos o que excede en tamaño a otro polígono. En estos casos vamos a tener que \"cortar\" un polígono para reducirlo al tamaño y forma necesarios."
   ]
  },
  {
   "cell_type": "markdown",
   "metadata": {},
   "source": [
    "Para poder usar los polígonos de CABA vamos a comenzar uniendo los barrios en un solo polígono (en vez de tener un polígono por barrio nos vamos a quedar con un solo polígono de todo CABA). Recordando la clase pasada, para hacer eso necesitamos agregar una columna constante, en este caso \"ciudad\" que sólo va a tener el valor \"CABA\" y luego aplicar **disolve**."
   ]
  },
  {
   "cell_type": "code",
   "execution_count": null,
   "metadata": {},
   "outputs": [],
   "source": [
    "barrios[\"ciudad\"] = \"CABA\"\n",
    "mascara = barrios.dissolve(by=\"ciudad\")"
   ]
  },
  {
   "cell_type": "markdown",
   "metadata": {},
   "source": [
    "A continuación podemos \"clipear\" la capa de recorridos con la máscara."
   ]
  },
  {
   "cell_type": "code",
   "execution_count": null,
   "metadata": {},
   "outputs": [],
   "source": [
    "recorridos_caba = geopandas.clip(recorridos, mascara)"
   ]
  },
  {
   "cell_type": "markdown",
   "metadata": {},
   "source": [
    "Ahora sí, sólo veremos los recorridos dentro de CABA. Pero antes de hacer el gráfico vamos a incluir algunas mejoras. Por empezar vamos a ver paletas de color de CartoDB (una empresa que provee visualizaciones de mapas) en https://carto.com/carto-colors/ . En este caso vamos a querer sólo pintar los barrios y las calles, así que vamos a elegir una paleta cualitativa.\n",
    "Elegimos la paleta **prism**. De allí tomamos, por ejemplo, el verde claro para marcar CABA y el gris oscuro para las calles."
   ]
  },
  {
   "cell_type": "code",
   "execution_count": null,
   "metadata": {},
   "outputs": [],
   "source": [
    "# paleta: #5F4690,#1D6996,#38A6A5,#0F8554,#73AF48,#EDAD08,#E17C05,#CC503E,#94346E,#6F4070,#994E95,#666666"
   ]
  },
  {
   "cell_type": "markdown",
   "metadata": {},
   "source": [
    "Además, vamos a agregar un mapa de fondo. Para ello vamos a usar la librería contextily, que nos provee acceso a una enorme variedad de proveedores de mapas."
   ]
  },
  {
   "cell_type": "code",
   "execution_count": null,
   "metadata": {},
   "outputs": [],
   "source": [
    "import contextily as cx"
   ]
  },
  {
   "cell_type": "markdown",
   "metadata": {},
   "source": [
    "En ctx.providers van a ver toda la lista:"
   ]
  },
  {
   "cell_type": "code",
   "execution_count": null,
   "metadata": {},
   "outputs": [],
   "source": [
    "cx.providers"
   ]
  },
  {
   "cell_type": "code",
   "execution_count": null,
   "metadata": {},
   "outputs": [],
   "source": [
    "cx.providers.keys() # cada proveedor tiene a su vez distintos estilos"
   ]
  },
  {
   "cell_type": "code",
   "execution_count": null,
   "metadata": {},
   "outputs": [],
   "source": [
    "cx.providers.Stamen.TonerBackground"
   ]
  },
  {
   "cell_type": "markdown",
   "metadata": {},
   "source": [
    "Contextily hace muy sencillo incluir un mapa base con la función add_basemap, allí tenemos que establecer los axes a usar, la fuente del mapa (source) y la proyección. Contextily sólo funciona con las proyecciones WGS84 (EPSG:4326) y Spheric Mercator (EPSG: 3857). \n",
    "Spheric Mercator que es un sistema de coordenadas proyectadas (sobre un plano), usado en Google Maps. Se basa en el mismo datum y elipsoide que EPSG:4326(WGS84), pero proyectando las coordenadas en un plano (en vez de sobre el elispoide). Para ver más en detalles las diferencias dejamos los siguientes links:\n",
    "- https://gis.stackexchange.com/questions/48949/epsg-3857-or-4326-for-googlemaps-openstreetmap-and-leaflet\n",
    "- https://gis.stackexchange.com/questions/3334/difference-between-wgs84-and-epsg4326\n",
    "- https://epsg.io/4326\n",
    "- https://epsg.io/3857\n",
    "\n",
    "\n",
    "Pueden consultar la documentación acá: https://contextily.readthedocs.io/en/latest/. \n",
    "Por default, la función supone que la proyección es Spheric Mercator, como estamos trabajando en WGS84 tenemos que setear el parámetro **crs** a 4326."
   ]
  },
  {
   "cell_type": "code",
   "execution_count": null,
   "metadata": {},
   "outputs": [],
   "source": [
    "fig, ax = plt.subplots(figsize=(16, 12))\n",
    "barrios.plot(ax=ax, color=\"#73AF48\", alpha=0.3) # seteamos color y alpha\n",
    "recorridos_caba.plot(ax=ax, color=\"#666666\", alpha=0.5) # seteamos color y alpha\n",
    "cx.add_basemap(ax, source=cx.providers.OpenStreetMap.Mapnik, crs=4326)"
   ]
  },
  {
   "cell_type": "markdown",
   "metadata": {},
   "source": [
    "### Ejercicio\n",
    "\n",
    "1- Explorar el DataFrame de paradas.\n",
    "\n",
    "2- Filtrar las paradas en Mataderos, usando para ello una máscara.\n",
    "\n",
    "3- Generar un mapa mostrando estas paradas y usando algún fondo de contextily, busquen un estilo que les guste :-)"
   ]
  },
  {
   "cell_type": "code",
   "execution_count": null,
   "metadata": {},
   "outputs": [],
   "source": []
  },
  {
   "cell_type": "code",
   "execution_count": null,
   "metadata": {},
   "outputs": [],
   "source": []
  },
  {
   "cell_type": "markdown",
   "metadata": {},
   "source": [
    "## Coropletas"
   ]
  },
  {
   "cell_type": "markdown",
   "metadata": {},
   "source": [
    "Por otra parte, nos gustaría agregar más información al mapa. Para eso vamos a usar la capa de radios censales, veamos qué información tiene."
   ]
  },
  {
   "cell_type": "code",
   "execution_count": null,
   "metadata": {},
   "outputs": [],
   "source": [
    "radios.head()"
   ]
  },
  {
   "cell_type": "markdown",
   "metadata": {},
   "source": [
    "Podemos ver que contamos con la población en el radio, la suma nos da el total de población de CABA (en 2010)."
   ]
  },
  {
   "cell_type": "code",
   "execution_count": null,
   "metadata": {},
   "outputs": [],
   "source": [
    "radios[\"POBLACI\"].sum()"
   ]
  },
  {
   "cell_type": "markdown",
   "metadata": {},
   "source": [
    "Vamos a pintar los radios por población, vamos a probar dos maneras:\n",
    "\n",
    "1- Generar una mapa de color propio y pasárselo a la función. Esto es útil si queremos darle nuestro propio estilo al mapa y nos da mayor flexibilidad.\n",
    "\n",
    "2- Usar los mapas de color predefinidos por matplotlib.\n",
    "\n",
    "Por último, este tipo de gráficos se conoce como mapa de coropletas, porque agregan una capa de información basado en el color sobre las dimensiones geográficas. En este caso, vamos a pintar los radios censales según la cantidad de población."
   ]
  },
  {
   "cell_type": "markdown",
   "metadata": {},
   "source": [
    "Para crear nuestro propio **colormap** en matplotlib usamos LinearSegmentedColormap y pasamos una lista de colores. Esta lista es la paleta OrYel de CartoDB. Es lo que se conoce como una paleta secuencial, porque el tono va creciendo continuamente."
   ]
  },
  {
   "cell_type": "code",
   "execution_count": null,
   "metadata": {},
   "outputs": [],
   "source": [
    "from matplotlib.colors import LinearSegmentedColormap\n",
    "\n",
    "cmap = LinearSegmentedColormap.from_list(\n",
    "    \"mycmap\",['#ee4d5a', '#f66356', '#f97b57', '#f7945d', '#f3ad6a', '#efc47e', '#ecda9a']\n",
    ")"
   ]
  },
  {
   "cell_type": "markdown",
   "metadata": {},
   "source": [
    "Para pasar el mapa de color usamos el parámetro **cmap**, **scheme** sirve para definir qué valor numérico de población mapear contra que valor de color y **k** es la cantidad de colores distintos a usar."
   ]
  },
  {
   "cell_type": "code",
   "execution_count": null,
   "metadata": {},
   "outputs": [],
   "source": [
    "fig, ax = plt.subplots(figsize=(16, 12))\n",
    "mapa = radios.plot(ax=ax, column=\"POBLACI\", linewidth=0.03, cmap=cmap, scheme=\"quantiles\", k=7, alpha=0.8)\n",
    "recorridos_caba.plot(ax=ax, color=\"#666666\", linewidth=1)\n",
    "cx.add_basemap(ax, source=cx.providers.CartoDB.PositronNoLabels, crs=4326)"
   ]
  },
  {
   "cell_type": "markdown",
   "metadata": {},
   "source": [
    "Ahora veamos la segunda opción, que es por lo general la opción preferida. En esta referencia podrán encontrar las distintas paletas.\n",
    "Vamos a elegir una opción divergente: RdYlBu. Para valores altos usa rojo, para valores bajos usa azul, y en los valores centrales coloca amarillo. "
   ]
  },
  {
   "cell_type": "code",
   "execution_count": null,
   "metadata": {},
   "outputs": [],
   "source": [
    "fig, ax = plt.subplots(figsize=(16, 12))\n",
    "mapa = radios.plot(ax=ax, column=\"POBLACI\", linewidth=0.03, cmap=\"RdYlBu\", scheme=\"quantiles\", k=7, alpha=0.6)\n",
    "recorridos_caba.plot(ax=ax, color=\"#666666\", linewidth=1)\n",
    "cx.add_basemap(ax, source=cx.providers.CartoDB.PositronNoLabels, crs=4326)\n",
    "\n",
    "salida = \"mapa_1.svg\"\n",
    "plt.savefig(salida, format='svg') # con este comando guardamos la imagen"
   ]
  },
  {
   "cell_type": "markdown",
   "metadata": {},
   "source": [
    "## Mapas interactivos"
   ]
  },
  {
   "cell_type": "markdown",
   "metadata": {},
   "source": [
    "Hasta el momento trabajamos con mapas estáticos, en ciertos ocasiones puede ser útil contar con un mapa interactivo. Para eso vamos a emplear la librería folium."
   ]
  },
  {
   "cell_type": "code",
   "execution_count": null,
   "metadata": {},
   "outputs": [],
   "source": [
    "import folium\n",
    "\n",
    "# Obelisco de Buenos Aires\n",
    "lat, lon = -34.603668, -58.381345 "
   ]
  },
  {
   "cell_type": "code",
   "execution_count": null,
   "metadata": {
    "scrolled": true
   },
   "outputs": [],
   "source": [
    "# En folium el crs default es EPSG:3857 vamos a usarlo porque encontramos problemas con 4326\n",
    "m = folium.Map(location=(lat, lon), zoom_start=15) \n",
    "m"
   ]
  },
  {
   "cell_type": "markdown",
   "metadata": {},
   "source": [
    "Folium permite usar distintos estilos de mapas. Algunos requieren de API key y otros no:\n",
    "\n",
    "- OpenStreetMap\n",
    "- Mapbox Bright (Niveles de zoom limitados para capa gratuita)\n",
    "- Mapbox Control Room (Niveles de zoom limitados para capa gratuita)\n",
    "- Stamen (Terrain, Toner, and Watercolor)\n",
    "- Cloudmade (Must pass API key)\n",
    "- Mapbox (Must pass API key)\n",
    "- CartoDB (positron and dark_matter)"
   ]
  },
  {
   "cell_type": "markdown",
   "metadata": {},
   "source": [
    "### Ejercicio\n",
    "\n",
    "1- Prueben los parámetros zoom_start y tiles"
   ]
  },
  {
   "cell_type": "code",
   "execution_count": null,
   "metadata": {},
   "outputs": [],
   "source": []
  },
  {
   "cell_type": "code",
   "execution_count": null,
   "metadata": {},
   "outputs": [],
   "source": []
  },
  {
   "cell_type": "markdown",
   "metadata": {},
   "source": [
    "### Agregando marcadores"
   ]
  },
  {
   "cell_type": "markdown",
   "metadata": {},
   "source": [
    "Folium también nos permite agregar marcadores... Recordemos que las coordenadas originales son del Obelisco..."
   ]
  },
  {
   "cell_type": "code",
   "execution_count": null,
   "metadata": {},
   "outputs": [],
   "source": [
    "m = folium.Map(location=(lat, lon), zoom_start=16)\n",
    "\n",
    "lat_colon, lon_colon = -34.600917, -58.382692 # agregamos las coordenadas del Colón\n",
    "\n",
    "folium.Marker(\n",
    "    [lat_colon, lon_colon],\n",
    "    popup=\"Teatro Colon\", # Problema al pasar tildes\n",
    "    icon=folium.Icon(color='green')).add_to(m)\n",
    "\n",
    "folium.Marker(\n",
    "    [lat, lon],\n",
    "    popup='Obelisco',\n",
    "    icon=folium.Icon(color='red')).add_to(m)"
   ]
  },
  {
   "cell_type": "code",
   "execution_count": null,
   "metadata": {
    "scrolled": true
   },
   "outputs": [],
   "source": [
    "m # Prueben hacer clic!"
   ]
  },
  {
   "cell_type": "markdown",
   "metadata": {},
   "source": [
    "### Agregando capas a Folium\n",
    "\n",
    "Ahora vamos a ver cómo agregar capas a folium desde GeoPandas. Para eso vamos a comenzar filtrando una línea de colectivos, luego exportamos el objeto a JSON (lo que se conoce como GeoJSON, ya que tiene las coordenadas de los vértices). Finalmente lo importamos desde folium y lo agregamos al mapa \"m\"."
   ]
  },
  {
   "cell_type": "code",
   "execution_count": null,
   "metadata": {},
   "outputs": [],
   "source": [
    "from folium.plugins import MarkerCluster"
   ]
  },
  {
   "cell_type": "code",
   "execution_count": null,
   "metadata": {},
   "outputs": [],
   "source": [
    "recorrido_132 = recorridos_caba.query(\"linea == '132'\")"
   ]
  },
  {
   "cell_type": "code",
   "execution_count": null,
   "metadata": {},
   "outputs": [],
   "source": [
    "recorrido_132_json = recorrido_132.to_json()"
   ]
  },
  {
   "cell_type": "code",
   "execution_count": null,
   "metadata": {},
   "outputs": [],
   "source": [
    "folium.GeoJson(\n",
    "    recorrido_132_json,\n",
    "    name='recorrido'\n",
    ").add_to(m)"
   ]
  },
  {
   "cell_type": "code",
   "execution_count": null,
   "metadata": {},
   "outputs": [],
   "source": [
    "m # prueben el zoom out"
   ]
  },
  {
   "cell_type": "markdown",
   "metadata": {},
   "source": [
    "Para agregar estilo tenemos el parámetro **style_function**, el cual requiere que le pasemos una función, para lo cual empleamos una función **lambda**. Además, folium nos permite \"prender\" o \"apagar\" capas con LayerControl"
   ]
  },
  {
   "cell_type": "code",
   "execution_count": null,
   "metadata": {},
   "outputs": [],
   "source": [
    "estilo = {'fillColor': '#73AF48', 'color': '#73AF48'}"
   ]
  },
  {
   "cell_type": "code",
   "execution_count": null,
   "metadata": {},
   "outputs": [],
   "source": [
    "folium.GeoJson(\n",
    "    barrios,\n",
    "    name='barrios',\n",
    "    style_function=lambda x: estilo\n",
    ").add_to(m)\n",
    "\n",
    "folium.LayerControl(autoZIndex=False, collapsed=False).add_to(m)"
   ]
  },
  {
   "cell_type": "code",
   "execution_count": null,
   "metadata": {
    "scrolled": true
   },
   "outputs": [],
   "source": [
    "m"
   ]
  },
  {
   "cell_type": "markdown",
   "metadata": {},
   "source": [
    "### Clusters de marcadores\n",
    "\n",
    "Folium también nos permite ver muchos marcadores en simultaneo y agruparlos o desagregarlos según el nivel de zoom. Para ello usamos MarkerCluster. Este objeto se instancia pasándole una lista de tuplas, donde para cada tupla el primer elemento es la latitud y el segundo elemento es la longitud. Además, podemos incluir como popup el nombre pasándole una lista de la misma extensión.\n",
    "\n",
    "Vamos a mapear las paradas de la línea 132, para eso filtramos usando *.str*"
   ]
  },
  {
   "cell_type": "code",
   "execution_count": null,
   "metadata": {},
   "outputs": [],
   "source": [
    "paradas_132 = paradas[paradas[\"route_shor\"].str.contains(\"132\")] # filtro\n",
    "\n",
    "puntos_paradas = list(zip(paradas_132.geometry.y, paradas_132.geometry.x)) # lista de tuplas"
   ]
  },
  {
   "cell_type": "code",
   "execution_count": null,
   "metadata": {},
   "outputs": [],
   "source": [
    "# Armamos un nuevo mapa\n",
    "m = folium.Map(location=(lat, lon), zoom_start=16)\n",
    "\n",
    "folium.GeoJson(\n",
    "    recorrido_132_json,\n",
    "    name='recorrido'\n",
    ").add_to(m)\n",
    "\n",
    "folium.GeoJson(\n",
    "    barrios,\n",
    "    name='barrios',\n",
    "    style_function=lambda x: estilo\n",
    ").add_to(m)\n",
    "\n",
    "marker_cluster = MarkerCluster(puntos_paradas, popups = paradas_132[\"stop_name\"].tolist(), name=\"paradas\")\n",
    "\n",
    "marker_cluster.add_to(m)"
   ]
  },
  {
   "cell_type": "code",
   "execution_count": null,
   "metadata": {},
   "outputs": [],
   "source": [
    "folium.LayerControl(autoZIndex=False, collapsed=False).add_to(m)"
   ]
  },
  {
   "cell_type": "code",
   "execution_count": null,
   "metadata": {
    "scrolled": true
   },
   "outputs": [],
   "source": [
    "m"
   ]
  },
  {
   "cell_type": "markdown",
   "metadata": {},
   "source": [
    "### Ejercicio"
   ]
  },
  {
   "cell_type": "markdown",
   "metadata": {},
   "source": [
    "Un tipo de visualización muy popular es el mapa de calor (heatmap en inglés), el cual representa en una escala de color divergente la distribución de valores (en este caso paradas de colectivos) en un mapa. Por lo general, se usa el color rojo para valores altos y el azul o celeste para valores bajos.\n",
    "\n",
    "Vamos a graficar un HeatMap para lo cual deben:\n",
    "\n",
    "1- Importar la clase HeatMap del módulo plugins de folium\n",
    "\n",
    "2- Instanciar un mapa\n",
    "\n",
    "3- Graficar un HeatMap de todas las paradas del AMBA, para lo cual les recomendamos leer a documentación (accesible desde Jupyter)\n",
    "\n",
    "\n",
    "Prueben variar el parámetro **radius** , **max_zoom**, **max_val**"
   ]
  },
  {
   "cell_type": "code",
   "execution_count": null,
   "metadata": {},
   "outputs": [],
   "source": []
  },
  {
   "cell_type": "code",
   "execution_count": null,
   "metadata": {},
   "outputs": [],
   "source": []
  }
 ],
 "metadata": {
  "kernelspec": {
   "display_name": "Python [conda env:geopandas_env]",
   "language": "python",
   "name": "conda-env-geopandas_env-py"
  },
  "language_info": {
   "codemirror_mode": {
    "name": "ipython",
    "version": 3
   },
   "file_extension": ".py",
   "mimetype": "text/x-python",
   "name": "python",
   "nbconvert_exporter": "python",
   "pygments_lexer": "ipython3",
   "version": "3.7.3"
  }
 },
 "nbformat": 4,
 "nbformat_minor": 2
}
