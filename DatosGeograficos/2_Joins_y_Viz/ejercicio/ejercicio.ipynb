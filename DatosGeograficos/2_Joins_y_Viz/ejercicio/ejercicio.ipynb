{
 "cells": [
  {
   "cell_type": "markdown",
   "metadata": {},
   "source": [
    "[![Open In colab](https://colab.research.google.com/assets/colab-badge.svg)](https://colab.research.google.com/github/institutohumai/cursos-python/blob/master/DatosGeograficos/2_Joins_y_Viz/ejercicio/ejercicio.ipynb)"
   ]
  },
  {
   "cell_type": "markdown",
   "metadata": {},
   "source": [
    "## Introducción"
   ]
  },
  {
   "cell_type": "markdown",
   "metadata": {},
   "source": [
    "Trabajás en una importante Secretaría del Gobierno de la Ciudad de Buenos Aires, cumpliste tus tareas del día y, cuando te estás preparando para irte, escuchás que gritan tu nombre desde el final del pasillo... \n",
    "\n",
    "    - ¡Vení! ¡Rápido!, te vuelven a llamar...\n",
    "    - Uy, justo me estaba yendo, es fin de semana largo, ¿vió?, decís en tu mejor tono de 'me quiero ir'...\n",
    "    - Mirá, el tema es así, me llegó un mail pidiéndome información para hoy mismo acerca de qué tan lejos le quedan las comisarias a la gente en Buenos Aires. Está la hipótesis de que la gente no realiza denuncias porque la comisaria más cercana les queda muy lejos. Igual, no nos piden testear la hipótesis pero sí tener una noción de qué tan lejos estpan. \n",
    "    - Ok, me quedo tranquilo, decís, sin saber bien qué acotar...\n",
    "    - Tranquilo o intranquilo, no importa eso, lo que sí importa es que tenemos que entregar algo bien hecho y ya mismo. Te pido lo siguiente, necesitamos saber cuál es la distancia promedio de una persona a la comisaria más cercana... \n",
    "    - Mmm, hay 3 millones de personas, ¿cómo hacemos?\n",
    "    - Vamos a samplear puntos...\n",
    "    - ¿Eh?\n",
    "    - Sí, vamos a tirar puntos al azar en la ciudad y de ahí vamos a calcular la distancia a la comisaria más cercana.\n",
    "    - ¿Y pero cómo hago para generar un punto al azar? ¿Miro el mapa y decido más o menos a ojo?\n",
    "    - No, no, ¿cómo vas a hacer eso? Vamos a usar GeoPandas, generamos 1000 valores representativos de la superficie de la ciudad, luego calculamos la distancia de cada punto a la comisaria más cercana y mostramos cómo se distribuye esa distancia. Ojo, no es un problema trivial generar un punto al azar dentro de una geometría. Pensá que hay que garantizarse que caiga dentro del polígono... \n",
    "    - ¿y algo más?\n",
    "    - Si, si, obviamente hay que mostrar un mapa, dónde cayeron los puntos, dónde están las comisarias... y también agregá la capa de los barrios. Todo filtrable, interactivo y lindo, nada de un .plot así nomás...\n",
    "\n",
    "Y así, arrancaba la noche...Pasando en limpio el ejercio y algunos tips.\n",
    "\n",
    "1) Cargar barrios y comisarias y pasar a GKBA. Esto después nos va a servir para que la distancia que calculamos quede en metros.\n",
    "\n",
    "2) Los GeoDataFrames tienen el atributo .bounds que nos devuelve los valores más extremos de longitud y latitud. Esto es muy útil para acotar los valores de las muestras que vamos a tomar. Como queremos que caigan en la Ciudad de Buenos Aires pero sólo tenemos los barrios tenemos que usar **.dissolve** para quedarnos con un solo polígono. Luego, miren el .bounds de ese polígono.\n",
    "\n",
    "2bis) BONUS TRACK: generar un mapa donde se muestren los barrios y los 4 puntos más extremos según los valores obtenidos por .bounds. O sea, el valor más al SURESTE, SUROESTE, NORESTE Y NOROESTE.\n",
    "\n",
    "3) Generar una función que genere **n** puntos dentro de un polígono distribuidos al azar. Para hacer eso la función va a tomar los .bounds del polígono, generar un valor al azar de longitud y latitud (pueden usar **random.uniform** (googleen o pregunten si no lo encuentran) y luego fijarse si el polígono lo **contiene**. Si lo contiene guardar el punto en una lista y si no agregar += a un contador que registre cuántos puntos caen afuera (al final. Acuérdense de contar cuántos caen adentro para frenar el loop.\n",
    "\n",
    "4) Para cada punto calcular la distancia a la comisaria más cercana.\n",
    "\n",
    "5) Graficar un histograma.\n",
    "\n",
    "6) Con folium (u otra librería interactiva) mostrar los puntos, los barrios y las comisarias.\n",
    "    Para los puntos incluir como popup la distancia y el color del icono pintarlo en base a las siguientes reglas:\n",
    "    \n",
    "    if distancia < 500:\n",
    "        color = \"green\"\n",
    "    elif distancia > 500 and distancia < 1500:\n",
    "        color = \"blue\"\n",
    "    else:\n",
    "        color = \"red\"\n",
    "    \n",
    "    Para las comisarias incluir como popup el nombre.\n",
    "\n",
    "    - Bueno... me voy yendo, acordate de mandar eso cuando lo tengas... ¡Buen finde!\n",
    "    - ¿Eh?, ¿no me vas a ayudar?, no lo podés creer...\n",
    "    - ¡No te escucho! ¿Saludos? Ah, sí, gracias y, ¡saludos también para tu familia! ¡Y usá GeoSeries.representative_point  de CABA, no para cada barrio!"
   ]
  },
  {
   "cell_type": "code",
   "execution_count": null,
   "metadata": {},
   "outputs": [],
   "source": [
    "# !pip install geopandas\n",
    "# !apt install libspatialindex-dev\n",
    "# !pip install rtree\n",
    "\n",
    "# !pip install pysal\n",
    "# !pip install contextily #--> Para importar mapa base\n",
    "# !pip install folium"
   ]
  },
  {
   "cell_type": "code",
   "execution_count": 12,
   "metadata": {},
   "outputs": [],
   "source": [
    "import pandas as pd\n",
    "import geopandas\n",
    "import shapely.wkt\n",
    "import matplotlib.pyplot as plt\n",
    "%matplotlib inline"
   ]
  },
  {
   "cell_type": "markdown",
   "metadata": {},
   "source": [
    "## Leo datasets"
   ]
  },
  {
   "cell_type": "code",
   "execution_count": 13,
   "metadata": {},
   "outputs": [],
   "source": [
    "def from_wkt(df, wkt_column, crs='EPSG:4326'):\n",
    "    \n",
    "    df[\"coordinates\"]= df[wkt_column].apply(shapely.wkt.loads) # empleamos una función de shapely para leer WKT\n",
    "        \n",
    "    gdf = geopandas.GeoDataFrame(df, geometry='coordinates', crs=crs) # seteamos la columna de geometría\n",
    "    \n",
    "    return gdf"
   ]
  },
  {
   "cell_type": "code",
   "execution_count": 14,
   "metadata": {},
   "outputs": [],
   "source": [
    "def from_x_y(df, x, y, crs='EPSG:4326'):\n",
    "    gdf = geopandas.GeoDataFrame(df.drop([x, y], axis=1), # eliminamos las columnas originales\n",
    "                                crs=crs, # Agregamos CRS\n",
    "                                geometry=geopandas.points_from_xy(df[x], df[y])) # junto \"x\" e \"y\" y lo paso a Point\n",
    "    return gdf"
   ]
  },
  {
   "cell_type": "code",
   "execution_count": 49,
   "metadata": {},
   "outputs": [],
   "source": [
    "barrios = pd.read_csv(\"https://datasets-humai.s3.amazonaws.com/datasets/barrios.csv\", encoding='latin1')"
   ]
  },
  {
   "cell_type": "code",
   "execution_count": 51,
   "metadata": {},
   "outputs": [],
   "source": [
    "barrios_gkba = barrios.to_crs(crs = \"+proj=tmerc +lat_0=-34.629269 +lon_0=-58.4633 +k=0.9999980000000001 +x_0=100000 +y_0=100000 +ellps=intl +units=m +no_defs\")"
   ]
  },
  {
   "cell_type": "markdown",
   "metadata": {},
   "source": [
    "## Grafico .bounds"
   ]
  },
  {
   "cell_type": "code",
   "execution_count": 1,
   "metadata": {},
   "outputs": [],
   "source": [
    "# nota: depende la versión de GeoPandas tal vez puedan encontrarse con este error: ValueError: 'box_aspect' and 'fig_aspect' must be positive\n",
    "# si ese es el caso cambien gdf.plot(ax=ax,color=\"red\") por gdf.plot(ax=ax,color=\"red\", aspect=1) "
   ]
  },
  {
   "cell_type": "code",
   "execution_count": null,
   "metadata": {},
   "outputs": [],
   "source": []
  },
  {
   "cell_type": "markdown",
   "metadata": {},
   "source": [
    "## Armo función para samplear"
   ]
  },
  {
   "cell_type": "code",
   "execution_count": null,
   "metadata": {},
   "outputs": [],
   "source": []
  },
  {
   "cell_type": "markdown",
   "metadata": {},
   "source": [
    "## Calculo distancias y grafico histograma"
   ]
  },
  {
   "cell_type": "code",
   "execution_count": null,
   "metadata": {},
   "outputs": [],
   "source": []
  },
  {
   "cell_type": "markdown",
   "metadata": {},
   "source": [
    "## Mapa con folium"
   ]
  },
  {
   "cell_type": "code",
   "execution_count": null,
   "metadata": {},
   "outputs": [],
   "source": [
    "# nota: depende la versión el parámetro popup de Marker puede ser popup=folium.Popup(#valor a mostrar)\n",
    "# o sólo popup=#valor a mostrar\n",
    "# si tienen error vean https://stackoverflow.com/questions/46225588/folium-popup-gets-syntax-error-message"
   ]
  }
 ],
 "metadata": {
  "kernelspec": {
   "display_name": "Python [conda env:geopandas_env]",
   "language": "python",
   "name": "conda-env-geopandas_env-py"
  },
  "language_info": {
   "codemirror_mode": {
    "name": "ipython",
    "version": 3
   },
   "file_extension": ".py",
   "mimetype": "text/x-python",
   "name": "python",
   "nbconvert_exporter": "python",
   "pygments_lexer": "ipython3",
   "version": "3.7.3"
  }
 },
 "nbformat": 4,
 "nbformat_minor": 2
}
