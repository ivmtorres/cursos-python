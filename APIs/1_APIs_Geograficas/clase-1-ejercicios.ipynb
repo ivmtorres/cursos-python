{
 "cells": [
  {
   "cell_type": "code",
   "execution_count": null,
   "metadata": {},
   "outputs": [],
   "source": [
    "<a href=\"https://colab.research.google.com/github/institutohumai/cursos-python/blob/master/APIs/1_APIs_Geograficas/clase-1-ejercicios.ipynb\"> <img src='https://colab.research.google.com/assets/colab-badge.svg' /> </a>\n",
    "<div align=\"center\"> Recordá abrir en una nueva pestaña </div>"
   ]
  },
  {
   "cell_type": "markdown",
   "metadata": {},
   "source": [
    "# Clase 1: ejercicios prácticos"
   ]
  },
  {
   "cell_type": "code",
   "execution_count": 1,
   "metadata": {},
   "outputs": [],
   "source": [
    "import requests\n",
    "import pandas as pd\n",
    "import geopandas as gpd\n",
    "from urllib.parse import urlencode, urljoin\n",
    "import matplotlib \n",
    "import helpers\n",
    "%matplotlib inline"
   ]
  },
  {
   "cell_type": "markdown",
   "metadata": {},
   "source": [
    "## Ejercicio 1: API Georef "
   ]
  },
  {
   "cell_type": "markdown",
   "metadata": {},
   "source": [
    "* Genera una lista en un dataframe de todas las calles que se llaman \"San Martin\" en la Argentina. Cuantas son?"
   ]
  },
  {
   "cell_type": "code",
   "execution_count": null,
   "metadata": {},
   "outputs": [],
   "source": []
  },
  {
   "cell_type": "markdown",
   "metadata": {},
   "source": [
    "* Hace un mapa de las representaciones diplomaticas extranjeras en la Argentina. Para esto descarga las direcciones del dataset [\"Guia Diplomatica\"](https://datos.gob.ar/dataset/exterior-guia-diplomatica), georreferencialas, crea un GeoDataframe con ellas y mapealas sobre una capa de provincias de Argentina. Sugerencias:\n",
    "    - Usa `pd.read_excel()` directamente con la URL de descarga de la lista de representaciones extranjeras.\n",
    "    - Cuando descargues las embajadas, elimina aquellas que no tengan direccion, porque hace fallar la georreferenciacion (`embajadas.dropna(subset=['representacion_direccion']`)"
   ]
  },
  {
   "cell_type": "code",
   "execution_count": null,
   "metadata": {},
   "outputs": [],
   "source": []
  },
  {
   "cell_type": "markdown",
   "metadata": {},
   "source": [
    "## Ejercicio 2: API Nominatim"
   ]
  },
  {
   "cell_type": "markdown",
   "metadata": {},
   "source": [
    "Crea distintos mapas que tengan al mapa de las comunas de la Ciudad de Buenos Aires como base, y sobre el dibujen los puntos de coordenadas de:\n",
    "\n",
    "* Los 10 restaurantes mas cercanos al centroide del barrio de Almagro\n",
    "* Los 10 hospitales mas cercanos al centroide de Villa Urquiza\n",
    "* Las 10 escuelas mas cercanas al centroide de Villa Devoto\n",
    "\n",
    "Sugerencia: crea una funcion \"buscar\" que tome un texto de busqueda y haga la consulta a la API de Nominatim, y otra funcion \"mapear\" que tome un texto de busqueda y haga el mapa de los puntos sobre las comunas de la CABA. Usa la funcion mapear() para hacer los 3 mapas solicitados."
   ]
  },
  {
   "cell_type": "code",
   "execution_count": null,
   "metadata": {},
   "outputs": [],
   "source": []
  }
 ],
 "metadata": {
  "kernelspec": {
   "display_name": "Python 3",
   "language": "python",
   "name": "python3"
  },
  "language_info": {
   "codemirror_mode": {
    "name": "ipython",
    "version": 3
   },
   "file_extension": ".py",
   "mimetype": "text/x-python",
   "name": "python",
   "nbconvert_exporter": "python",
   "pygments_lexer": "ipython3",
   "version": "3.7.3"
  },
  "toc": {
   "base_numbering": 1,
   "nav_menu": {},
   "number_sections": true,
   "sideBar": true,
   "skip_h1_title": false,
   "title_cell": "Table of Contents",
   "title_sidebar": "Contents",
   "toc_cell": false,
   "toc_position": {},
   "toc_section_display": true,
   "toc_window_display": false
  }
 },
 "nbformat": 4,
 "nbformat_minor": 2
}
