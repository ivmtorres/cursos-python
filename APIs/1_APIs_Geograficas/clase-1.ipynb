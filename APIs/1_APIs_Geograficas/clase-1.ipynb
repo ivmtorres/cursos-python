{
 "cells": [
  {
   "cell_type": "markdown",
   "metadata": {},
   "source": [
    "[![Open In colab](https://colab.research.google.com/assets/colab-badge.svg)](https://colab.research.google.com/github/institutohumai/cursos-python/blob/master/APIs/1_APIs_Geograficas/clase-1.ipynb)"
   ]
  },
  {
   "cell_type": "markdown",
   "metadata": {},
   "source": [
    "# Clase 1: APIs geográficas"
   ]
  },
  {
   "cell_type": "code",
   "execution_count": 1,
   "metadata": {},
   "outputs": [],
   "source": [
    "import requests\n",
    "import pandas as pd\n",
    "import geopandas as gpd\n",
    "import helpers\n",
    "import json"
   ]
  },
  {
   "cell_type": "markdown",
   "metadata": {},
   "source": [
    "## Requests"
   ]
  },
  {
   "cell_type": "markdown",
   "metadata": {},
   "source": [
    "### Interfaces de aplicaciones"
   ]
  },
  {
   "cell_type": "markdown",
   "metadata": {},
   "source": [
    "¿Qué es una API? Los sistemas tienen distintos tipos de interfaces que permiten interactuar con ellos.\n",
    "\n",
    "* **GUI (Graphical User Interface)**: El usuario clickea e interactúa con distintos objetos para ejecutar acciones y lograr sus objetivos. Las páginas web tienen interfaces gráficas.\n",
    "* **API (Application Programming Interface)**: El usuario escribe líneas de código para interactuar con el sistema, ejecutar acciones y lograr sus objetivos.\n",
    "\n",
    "Todos los sitios web tienen una interfaz gráfica con la que estamos acostumbrados a interactuar, y también tienen una interfaz de programación más o menos desarrollada, o más o menos expuesta, con la cual tal vez no estemos tan acostumbrados a interactuar.\n",
    "\n",
    "Ejemplo: \n",
    "\n",
    "Si van a https://www.mercadolibre.com.ar/ pueden hacer click en un input box, escribir \"pelotas\", apretar \"Enter\" y el sistema les devolverá el resultado de una búsqueda. Si lo cambian por \"pelotas futbol\" y hacen \"Enter\" de nuevo, cambiará el resultado de la búsqueda. Esta es la **interfaz gráfica del sitio**.\n",
    "\n",
    "Sin embargo también podrían cumplir el mismo objetivo sólo escribiendo distintas URLs en el navegador:\n",
    "\n",
    "* https://listado.mercadolibre.com.ar/pelotas\n",
    "* https://listado.mercadolibre.com.ar/pelotas-futbol\n",
    "\n",
    "Esto es más parecido a lo que llamaríamos una **interfaz de programación**."
   ]
  },
  {
   "cell_type": "markdown",
   "metadata": {},
   "source": [
    "### APIs REST"
   ]
  },
  {
   "cell_type": "markdown",
   "metadata": {},
   "source": [
    "En la web, las interfaces de programación de uso más difundido son las APIs REST ([Representational state transfer](https://es.wikipedia.org/wiki/Transferencia_de_Estado_Representacional)) que especifica protocolos y métodos para interactuar con los vastos recursos de internet, escribiendo líneas de código.\n",
    "\n",
    "La web utiliza ampliamente el protocolo HTTP para interactuar con sus recursos. Este protocolo indica cómo estructurar un mensaje de texto que describa la petición (**request**) del usuario a un servidor. Hay distintos tipos de peticios que un usuario puede realizar, algunas de ellas son:\n",
    "\n",
    "* **GET**: Solicita una representación de un recurso alojado en el servidor.\n",
    "* **POST**: Envía datos al servidor para crear un recurso nuevo.\n",
    "* **PUT**: Crea o modifica un recurso del servidor.\n",
    "* **DELETE**: Elimina un recurso del servidor.\n",
    "\n",
    "Existen otros métodos que hoy no nos interesan."
   ]
  },
  {
   "cell_type": "markdown",
   "metadata": {},
   "source": [
    "### GET request "
   ]
  },
  {
   "cell_type": "markdown",
   "metadata": {},
   "source": [
    "Cada vez que vamos al navegador y escribimos la dirección de una página web, **estamos haciendo un GET request** a un servidor. Esto es una petición para adquirir el código de un recurso que queremos visualizar en el navegador. \n",
    "\n",
    "La URL es la parte más importante de la definición de un GET request (aunque el navegador agrega otras cosas también, que no vemos) y nos permite cambiar la representación deseada de ese mismo recurso de distintas maneras:\n",
    "\n",
    "* https://deportes.mercadolibre.com.ar/pelotas-futbol pide al servidor pelotas de fútbol.\n",
    "* https://deportes.mercadolibre.com.ar/pelotas-futbol_OrderId_PRICE pide al servidor pelotas de fútbol ordenadas por precio.\n",
    "\n",
    "Cuando escribimos una URL en un navegador, la mayoría de las veces hacemos GET requests que devuelven código HTML (es el código que usa el navegador para renderizar una página web) pero las GET requests pueden devolver datos en otros formatos (por ejemplo en JSON y en CSV). \n",
    "\n",
    "**Las APIs REST que definen GET requests capaces de devolver datos en formato JSON y CSV, son particularmente interesantes para enriquecer nuestras capacidades de análisis de datos.**\n",
    "\n",
    "Ahora vamos a conocer algunas de ellas."
   ]
  },
  {
   "cell_type": "markdown",
   "metadata": {},
   "source": [
    "## API Georef "
   ]
  },
  {
   "cell_type": "markdown",
   "metadata": {},
   "source": [
    "La [API Georef](http://apis.datos.gob.ar/georef) o, en su nombre más largo, el **Servicio de Normalización de Datos Geográficos de Argentina** es una API REST desarrollada y mantenida por el Estado Nacional de Argentina para la normalización de datos geográficos, que es capaz de:\n",
    "\n",
    "* Georreferenciar una dirección\n",
    "* Normalizar nombres de provincias, departamentos y otras entidades\n",
    "* Devolver los nombres de provincias, departamentos y otras entidades que contienen a un par de coordenadas (georreferenciación inversa)\n",
    "* Sirve de referencia, devolviendo las listas canónicas con nombres y códigos oficiales de estas entidades, en formato CSV, JSON, SHP y otros.\n",
    "\n",
    "A continuación, vamos a ver algunos de los usos que tienen los recursos de esta API para potenciar nuestras capacidades de analizar datos."
   ]
  },
  {
   "cell_type": "markdown",
   "metadata": {},
   "source": [
    "### Referencia "
   ]
  },
  {
   "cell_type": "markdown",
   "metadata": {},
   "source": [
    "La API Georef contiene las listas con nombres y códigos oficiales de Argentina para, entre otras, las siguientes entidades:\n",
    "\n",
    "* Provinicias\n",
    "* Departamentos\n",
    "* Municipios\n",
    "* Localidades\n",
    "* Calles\n",
    "\n",
    "Cada una de ellas se consulta usando un **recurso** de la API."
   ]
  },
  {
   "cell_type": "markdown",
   "metadata": {},
   "source": [
    "#### Librería `requests` y formato JSON"
   ]
  },
  {
   "cell_type": "markdown",
   "metadata": {},
   "source": [
    "Si estuviéramos desarrollando una aplicación web que contiene, por ejemplo, un formulario donde el usurio debe elegir el nombre de la provincia donde vive con el objeto de guardar la información en una base de datos, podríamos usar la API Georef para obtener esa lista.\n",
    "\n",
    "La librería `requests` en python permite hacer todo tipo de requests APIs REST y es sencilla de utilizar."
   ]
  },
  {
   "cell_type": "code",
   "execution_count": 3,
   "metadata": {},
   "outputs": [],
   "source": [
    "response = requests.get(\"https://apis.datos.gob.ar/georef/api/provincias\")"
   ]
  },
  {
   "cell_type": "code",
   "execution_count": 4,
   "metadata": {},
   "outputs": [
    {
     "data": {
      "text/plain": [
       "200"
      ]
     },
     "execution_count": 4,
     "metadata": {},
     "output_type": "execute_result"
    }
   ],
   "source": [
    "# el status code de una request indica si esta fue realizada con éxito o no, y por qué\n",
    "# el código 200 indica que una request fue realizada exitosamente\n",
    "response.status_code"
   ]
  },
  {
   "cell_type": "code",
   "execution_count": 5,
   "metadata": {},
   "outputs": [
    {
     "data": {
      "text/plain": [
       "{'cantidad': 24,\n",
       " 'inicio': 0,\n",
       " 'parametros': {},\n",
       " 'provincias': [{'centroide': {'lat': -26.8753965086829,\n",
       "    'lon': -54.6516966230371},\n",
       "   'id': '54',\n",
       "   'nombre': 'Misiones'},\n",
       "  {'centroide': {'lat': -33.7577257449137, 'lon': -66.0281298195836},\n",
       "   'id': '74',\n",
       "   'nombre': 'San Luis'},\n",
       "  {'centroide': {'lat': -30.8653679979618, 'lon': -68.8894908486844},\n",
       "   'id': '70',\n",
       "   'nombre': 'San Juan'},\n",
       "  {'centroide': {'lat': -32.0588735436448, 'lon': -59.2014475514635},\n",
       "   'id': '30',\n",
       "   'nombre': 'Entre Ríos'},\n",
       "  {'centroide': {'lat': -48.8154851827063, 'lon': -69.9557621671973},\n",
       "   'id': '78',\n",
       "   'nombre': 'Santa Cruz'},\n",
       "  {'centroide': {'lat': -40.4057957178801, 'lon': -67.229329893694},\n",
       "   'id': '62',\n",
       "   'nombre': 'Río Negro'},\n",
       "  {'centroide': {'lat': -43.7886233529878, 'lon': -68.5267593943345},\n",
       "   'id': '26',\n",
       "   'nombre': 'Chubut'},\n",
       "  {'centroide': {'lat': -32.142932663607, 'lon': -63.8017532741662},\n",
       "   'id': '14',\n",
       "   'nombre': 'Córdoba'},\n",
       "  {'centroide': {'lat': -34.6298873058957, 'lon': -68.5831228183798},\n",
       "   'id': '50',\n",
       "   'nombre': 'Mendoza'},\n",
       "  {'centroide': {'lat': -29.685776298315, 'lon': -67.1817359694432},\n",
       "   'id': '46',\n",
       "   'nombre': 'La Rioja'},\n",
       "  {'centroide': {'lat': -27.3358332810217, 'lon': -66.9476824299928},\n",
       "   'id': '10',\n",
       "   'nombre': 'Catamarca'},\n",
       "  {'centroide': {'lat': -37.1315537735949, 'lon': -65.4466546606951},\n",
       "   'id': '42',\n",
       "   'nombre': 'La Pampa'},\n",
       "  {'centroide': {'lat': -27.7824116550944, 'lon': -63.2523866568588},\n",
       "   'id': '86',\n",
       "   'nombre': 'Santiago del Estero'},\n",
       "  {'centroide': {'lat': -28.7743047046407, 'lon': -57.8012191977913},\n",
       "   'id': '18',\n",
       "   'nombre': 'Corrientes'},\n",
       "  {'centroide': {'lat': -30.7069271588117, 'lon': -60.9498369430241},\n",
       "   'id': '82',\n",
       "   'nombre': 'Santa Fe'},\n",
       "  {'centroide': {'lat': -26.9478001830786, 'lon': -65.3647579441481},\n",
       "   'id': '90',\n",
       "   'nombre': 'Tucumán'},\n",
       "  {'centroide': {'lat': -38.6417575824599, 'lon': -70.1185705180601},\n",
       "   'id': '58',\n",
       "   'nombre': 'Neuquén'},\n",
       "  {'centroide': {'lat': -24.2991344492002, 'lon': -64.8144629600627},\n",
       "   'id': '66',\n",
       "   'nombre': 'Salta'},\n",
       "  {'centroide': {'lat': -26.3864309061226, 'lon': -60.7658307438603},\n",
       "   'id': '22',\n",
       "   'nombre': 'Chaco'},\n",
       "  {'centroide': {'lat': -24.894972594871, 'lon': -59.9324405800872},\n",
       "   'id': '34',\n",
       "   'nombre': 'Formosa'},\n",
       "  {'centroide': {'lat': -23.3200784211351, 'lon': -65.7642522180337},\n",
       "   'id': '38',\n",
       "   'nombre': 'Jujuy'},\n",
       "  {'centroide': {'lat': -34.6144934119689, 'lon': -58.4458563545429},\n",
       "   'id': '02',\n",
       "   'nombre': 'Ciudad Autónoma de Buenos Aires'},\n",
       "  {'centroide': {'lat': -36.6769415180527, 'lon': -60.5588319815719},\n",
       "   'id': '06',\n",
       "   'nombre': 'Buenos Aires'},\n",
       "  {'centroide': {'lat': -82.52151781221, 'lon': -50.7427486049785},\n",
       "   'id': '94',\n",
       "   'nombre': 'Tierra del Fuego, Antártida e Islas del Atlántico Sur'}],\n",
       " 'total': 24}"
      ]
     },
     "execution_count": 5,
     "metadata": {},
     "output_type": "execute_result"
    }
   ],
   "source": [
    "provincias = response.json()\n",
    "provincias"
   ]
  },
  {
   "cell_type": "markdown",
   "metadata": {},
   "source": [
    "El método `response.json()` de la librería `requests` devuelve una respuesta de formato JSON, en un familiar diccionario de python."
   ]
  },
  {
   "cell_type": "code",
   "execution_count": 6,
   "metadata": {},
   "outputs": [
    {
     "data": {
      "text/plain": [
       "{'centroide': {'lat': -26.8753965086829, 'lon': -54.6516966230371},\n",
       " 'id': '54',\n",
       " 'nombre': 'Misiones'}"
      ]
     },
     "execution_count": 6,
     "metadata": {},
     "output_type": "execute_result"
    }
   ],
   "source": [
    "provincias[\"provincias\"][0]"
   ]
  },
  {
   "cell_type": "markdown",
   "metadata": {},
   "source": [
    "Las APIs tienen distintos parámetros que permiten modificar la consulta a un recurso determinado, estos se agregan al final usando un signo de interrogación `?` y separándolos con el caracter _ampersand_ `&`.\n",
    "\n",
    "* **Recurso**: apis.datos.gob.ar/georef/api/provincias\n",
    "* **Parámetros**: ?orden=nombre&aplanar\n",
    "* **URL completa**: apis.datos.gob.ar/georef/api/provincias?orden=nombre&aplanar\n",
    "\n",
    "El parámetro \"orden\" permite elegir un campo por el cual ordenar los resultados. El parámetro \"aplanar\" devuelve una estructura plana o no anidada de los resultados que a veces es más fácil de utilizar, dependiendo de lo que estemos haciendo.\n",
    "\n",
    "Podés consultar los otros parámetros disponibles para el recurso \"provincias\" en https://datosgobar.github.io/georef-ar-api/open-api/#/Recursos/get_provincias"
   ]
  },
  {
   "cell_type": "markdown",
   "metadata": {},
   "source": [
    "**Ejercicio:** crea una lista ordenada alfabéticamente con tuplas que contengan id y nombre de cada provincia, que usarías para armar tu selector de provincias en una página web."
   ]
  },
  {
   "cell_type": "code",
   "execution_count": null,
   "metadata": {},
   "outputs": [],
   "source": []
  },
  {
   "cell_type": "markdown",
   "metadata": {},
   "source": [
    "#### `pandas` y formato CSV "
   ]
  },
  {
   "cell_type": "markdown",
   "metadata": {},
   "source": [
    "Si estamos creando una tabla auxiliar o de consulta para obtener los nombres y códigos oficiales de las provincias, es posible que queramos descargarla en CSV o leerla directamente en un dataframe de pandas."
   ]
  },
  {
   "cell_type": "code",
   "execution_count": 7,
   "metadata": {},
   "outputs": [],
   "source": [
    "df = pd.read_csv('https://apis.datos.gob.ar/georef/api/provincias?formato=csv')"
   ]
  },
  {
   "cell_type": "code",
   "execution_count": 8,
   "metadata": {},
   "outputs": [
    {
     "data": {
      "text/html": [
       "<div>\n",
       "<style scoped>\n",
       "    .dataframe tbody tr th:only-of-type {\n",
       "        vertical-align: middle;\n",
       "    }\n",
       "\n",
       "    .dataframe tbody tr th {\n",
       "        vertical-align: top;\n",
       "    }\n",
       "\n",
       "    .dataframe thead th {\n",
       "        text-align: right;\n",
       "    }\n",
       "</style>\n",
       "<table border=\"1\" class=\"dataframe\">\n",
       "  <thead>\n",
       "    <tr style=\"text-align: right;\">\n",
       "      <th></th>\n",
       "      <th>provincia_id</th>\n",
       "      <th>provincia_nombre</th>\n",
       "      <th>provincia_centroide_lat</th>\n",
       "      <th>provincia_centroide_lon</th>\n",
       "    </tr>\n",
       "  </thead>\n",
       "  <tbody>\n",
       "    <tr>\n",
       "      <td>0</td>\n",
       "      <td>54</td>\n",
       "      <td>Misiones</td>\n",
       "      <td>-26.875397</td>\n",
       "      <td>-54.651697</td>\n",
       "    </tr>\n",
       "    <tr>\n",
       "      <td>1</td>\n",
       "      <td>74</td>\n",
       "      <td>San Luis</td>\n",
       "      <td>-33.757726</td>\n",
       "      <td>-66.028130</td>\n",
       "    </tr>\n",
       "    <tr>\n",
       "      <td>2</td>\n",
       "      <td>70</td>\n",
       "      <td>San Juan</td>\n",
       "      <td>-30.865368</td>\n",
       "      <td>-68.889491</td>\n",
       "    </tr>\n",
       "    <tr>\n",
       "      <td>3</td>\n",
       "      <td>30</td>\n",
       "      <td>Entre Ríos</td>\n",
       "      <td>-32.058874</td>\n",
       "      <td>-59.201448</td>\n",
       "    </tr>\n",
       "    <tr>\n",
       "      <td>4</td>\n",
       "      <td>78</td>\n",
       "      <td>Santa Cruz</td>\n",
       "      <td>-48.815485</td>\n",
       "      <td>-69.955762</td>\n",
       "    </tr>\n",
       "    <tr>\n",
       "      <td>5</td>\n",
       "      <td>62</td>\n",
       "      <td>Río Negro</td>\n",
       "      <td>-40.405796</td>\n",
       "      <td>-67.229330</td>\n",
       "    </tr>\n",
       "    <tr>\n",
       "      <td>6</td>\n",
       "      <td>26</td>\n",
       "      <td>Chubut</td>\n",
       "      <td>-43.788623</td>\n",
       "      <td>-68.526759</td>\n",
       "    </tr>\n",
       "    <tr>\n",
       "      <td>7</td>\n",
       "      <td>14</td>\n",
       "      <td>Córdoba</td>\n",
       "      <td>-32.142933</td>\n",
       "      <td>-63.801753</td>\n",
       "    </tr>\n",
       "    <tr>\n",
       "      <td>8</td>\n",
       "      <td>50</td>\n",
       "      <td>Mendoza</td>\n",
       "      <td>-34.629887</td>\n",
       "      <td>-68.583123</td>\n",
       "    </tr>\n",
       "    <tr>\n",
       "      <td>9</td>\n",
       "      <td>46</td>\n",
       "      <td>La Rioja</td>\n",
       "      <td>-29.685776</td>\n",
       "      <td>-67.181736</td>\n",
       "    </tr>\n",
       "    <tr>\n",
       "      <td>10</td>\n",
       "      <td>10</td>\n",
       "      <td>Catamarca</td>\n",
       "      <td>-27.335833</td>\n",
       "      <td>-66.947682</td>\n",
       "    </tr>\n",
       "    <tr>\n",
       "      <td>11</td>\n",
       "      <td>42</td>\n",
       "      <td>La Pampa</td>\n",
       "      <td>-37.131554</td>\n",
       "      <td>-65.446655</td>\n",
       "    </tr>\n",
       "    <tr>\n",
       "      <td>12</td>\n",
       "      <td>86</td>\n",
       "      <td>Santiago del Estero</td>\n",
       "      <td>-27.782412</td>\n",
       "      <td>-63.252387</td>\n",
       "    </tr>\n",
       "    <tr>\n",
       "      <td>13</td>\n",
       "      <td>18</td>\n",
       "      <td>Corrientes</td>\n",
       "      <td>-28.774305</td>\n",
       "      <td>-57.801219</td>\n",
       "    </tr>\n",
       "    <tr>\n",
       "      <td>14</td>\n",
       "      <td>82</td>\n",
       "      <td>Santa Fe</td>\n",
       "      <td>-30.706927</td>\n",
       "      <td>-60.949837</td>\n",
       "    </tr>\n",
       "    <tr>\n",
       "      <td>15</td>\n",
       "      <td>90</td>\n",
       "      <td>Tucumán</td>\n",
       "      <td>-26.947800</td>\n",
       "      <td>-65.364758</td>\n",
       "    </tr>\n",
       "    <tr>\n",
       "      <td>16</td>\n",
       "      <td>58</td>\n",
       "      <td>Neuquén</td>\n",
       "      <td>-38.641758</td>\n",
       "      <td>-70.118571</td>\n",
       "    </tr>\n",
       "    <tr>\n",
       "      <td>17</td>\n",
       "      <td>66</td>\n",
       "      <td>Salta</td>\n",
       "      <td>-24.299134</td>\n",
       "      <td>-64.814463</td>\n",
       "    </tr>\n",
       "    <tr>\n",
       "      <td>18</td>\n",
       "      <td>22</td>\n",
       "      <td>Chaco</td>\n",
       "      <td>-26.386431</td>\n",
       "      <td>-60.765831</td>\n",
       "    </tr>\n",
       "    <tr>\n",
       "      <td>19</td>\n",
       "      <td>34</td>\n",
       "      <td>Formosa</td>\n",
       "      <td>-24.894973</td>\n",
       "      <td>-59.932441</td>\n",
       "    </tr>\n",
       "    <tr>\n",
       "      <td>20</td>\n",
       "      <td>38</td>\n",
       "      <td>Jujuy</td>\n",
       "      <td>-23.320078</td>\n",
       "      <td>-65.764252</td>\n",
       "    </tr>\n",
       "    <tr>\n",
       "      <td>21</td>\n",
       "      <td>2</td>\n",
       "      <td>Ciudad Autónoma de Buenos Aires</td>\n",
       "      <td>-34.614493</td>\n",
       "      <td>-58.445856</td>\n",
       "    </tr>\n",
       "    <tr>\n",
       "      <td>22</td>\n",
       "      <td>6</td>\n",
       "      <td>Buenos Aires</td>\n",
       "      <td>-36.676942</td>\n",
       "      <td>-60.558832</td>\n",
       "    </tr>\n",
       "    <tr>\n",
       "      <td>23</td>\n",
       "      <td>94</td>\n",
       "      <td>Tierra del Fuego, Antártida e Islas del Atlánt...</td>\n",
       "      <td>-82.521518</td>\n",
       "      <td>-50.742749</td>\n",
       "    </tr>\n",
       "  </tbody>\n",
       "</table>\n",
       "</div>"
      ],
      "text/plain": [
       "    provincia_id                                   provincia_nombre  \\\n",
       "0             54                                           Misiones   \n",
       "1             74                                           San Luis   \n",
       "2             70                                           San Juan   \n",
       "3             30                                         Entre Ríos   \n",
       "4             78                                         Santa Cruz   \n",
       "5             62                                          Río Negro   \n",
       "6             26                                             Chubut   \n",
       "7             14                                            Córdoba   \n",
       "8             50                                            Mendoza   \n",
       "9             46                                           La Rioja   \n",
       "10            10                                          Catamarca   \n",
       "11            42                                           La Pampa   \n",
       "12            86                                Santiago del Estero   \n",
       "13            18                                         Corrientes   \n",
       "14            82                                           Santa Fe   \n",
       "15            90                                            Tucumán   \n",
       "16            58                                            Neuquén   \n",
       "17            66                                              Salta   \n",
       "18            22                                              Chaco   \n",
       "19            34                                            Formosa   \n",
       "20            38                                              Jujuy   \n",
       "21             2                    Ciudad Autónoma de Buenos Aires   \n",
       "22             6                                       Buenos Aires   \n",
       "23            94  Tierra del Fuego, Antártida e Islas del Atlánt...   \n",
       "\n",
       "    provincia_centroide_lat  provincia_centroide_lon  \n",
       "0                -26.875397               -54.651697  \n",
       "1                -33.757726               -66.028130  \n",
       "2                -30.865368               -68.889491  \n",
       "3                -32.058874               -59.201448  \n",
       "4                -48.815485               -69.955762  \n",
       "5                -40.405796               -67.229330  \n",
       "6                -43.788623               -68.526759  \n",
       "7                -32.142933               -63.801753  \n",
       "8                -34.629887               -68.583123  \n",
       "9                -29.685776               -67.181736  \n",
       "10               -27.335833               -66.947682  \n",
       "11               -37.131554               -65.446655  \n",
       "12               -27.782412               -63.252387  \n",
       "13               -28.774305               -57.801219  \n",
       "14               -30.706927               -60.949837  \n",
       "15               -26.947800               -65.364758  \n",
       "16               -38.641758               -70.118571  \n",
       "17               -24.299134               -64.814463  \n",
       "18               -26.386431               -60.765831  \n",
       "19               -24.894973               -59.932441  \n",
       "20               -23.320078               -65.764252  \n",
       "21               -34.614493               -58.445856  \n",
       "22               -36.676942               -60.558832  \n",
       "23               -82.521518               -50.742749  "
      ]
     },
     "execution_count": 8,
     "metadata": {},
     "output_type": "execute_result"
    }
   ],
   "source": [
    "df"
   ]
  },
  {
   "cell_type": "markdown",
   "metadata": {},
   "source": [
    "Notá que la respuesta viene \"aplanada\" por defecto, ya que el CSV es un formato tabular (no anidado)."
   ]
  },
  {
   "cell_type": "markdown",
   "metadata": {},
   "source": [
    "**Ejercicio:** crea una tabla con la lista de departamentos de la provincia de Santa Fé. Para esto usa el recurso \"departamentos\" y el parámetro \"provincia\" para filtrarlo con los resultados de la provincia de Santa Fé. \n",
    "\n",
    "Puedes usar tanto el id como el nombre de la provincia para filtrar."
   ]
  },
  {
   "cell_type": "code",
   "execution_count": null,
   "metadata": {},
   "outputs": [],
   "source": []
  },
  {
   "cell_type": "markdown",
   "metadata": {},
   "source": [
    "#### `geopandas` y el formato SHP (shapefile) "
   ]
  },
  {
   "cell_type": "markdown",
   "metadata": {},
   "source": [
    "La API georef también permite obtener las geometrías de las entidades para, por ejemplo, graficarlas en un mapa. Sólo debe cambiarse el formato por \"shp\".\n",
    "\n",
    "Geopandas puede leer un shapefile directo de la URL, tal como hicimos con el CSV."
   ]
  },
  {
   "cell_type": "code",
   "execution_count": 9,
   "metadata": {},
   "outputs": [],
   "source": [
    "gdf = gpd.read_file('https://apis.datos.gob.ar/georef/api/departamentos?formato=shp&provincia=82')"
   ]
  },
  {
   "cell_type": "code",
   "execution_count": 10,
   "metadata": {},
   "outputs": [
    {
     "data": {
      "text/plain": [
       "<matplotlib.axes._subplots.AxesSubplot at 0x7f4159ab4fd0>"
      ]
     },
     "execution_count": 10,
     "metadata": {},
     "output_type": "execute_result"
    }
   ],
   "source": [
    "gdf.plot()"
   ]
  },
  {
   "cell_type": "code",
   "execution_count": 11,
   "metadata": {},
   "outputs": [
    {
     "data": {
      "text/plain": [
       "10"
      ]
     },
     "execution_count": 11,
     "metadata": {},
     "output_type": "execute_result"
    }
   ],
   "source": [
    "len(gdf)"
   ]
  },
  {
   "cell_type": "markdown",
   "metadata": {},
   "source": [
    "Por qué faltan departamentos? La API devuelve 10 resultados como máximo por defecto, pero se puede aumentar la cantidad de resultados con el parámetro \"max\" hasta 5000."
   ]
  },
  {
   "cell_type": "code",
   "execution_count": 12,
   "metadata": {},
   "outputs": [],
   "source": [
    "gdf = gpd.read_file('https://apis.datos.gob.ar/georef/api/departamentos?formato=shp&provincia=82&max=5000')"
   ]
  },
  {
   "cell_type": "code",
   "execution_count": 13,
   "metadata": {},
   "outputs": [
    {
     "data": {
      "text/plain": [
       "<matplotlib.axes._subplots.AxesSubplot at 0x7f4159dfc9d0>"
      ]
     },
     "execution_count": 13,
     "metadata": {},
     "output_type": "execute_result"
    },
    {
     "data": {
      "image/png": "[encoded data removed]",
      "text/plain": [
       "<Figure size 720x720 with 1 Axes>"
      ]
     },
     "metadata": {
      "needs_background": "light"
     },
     "output_type": "display_data"
    }
   ],
   "source": [
    "gdf.plot(figsize=(10, 10))"
   ]
  },
  {
   "cell_type": "markdown",
   "metadata": {},
   "source": [
    "**Ejercicio:** crea un mapa de los departamentos de la provincia de Buenos Aires. Y luego crea otro solamente de aquellos departamentos con nombres de santos.\n",
    "\n",
    "Podés usar el parámetro \"nombre\" para filtrar los nombres de los departamentos que contengan la palabra \"san\"."
   ]
  },
  {
   "cell_type": "code",
   "execution_count": null,
   "metadata": {},
   "outputs": [],
   "source": []
  },
  {
   "cell_type": "markdown",
   "metadata": {},
   "source": [
    "### Normalización"
   ]
  },
  {
   "cell_type": "markdown",
   "metadata": {},
   "source": [
    "#### Métodos POST y consultas bulk "
   ]
  },
  {
   "cell_type": "markdown",
   "metadata": {},
   "source": [
    "Los recursos se pueden usar para normalizar nombres de unidades territoriales mal escritos, corrigiendo con el nombre oficial y agregando el código oficial. Esto facilita enormemente la cruza de datos."
   ]
  },
  {
   "cell_type": "code",
   "execution_count": 14,
   "metadata": {},
   "outputs": [
    {
     "data": {
      "text/plain": [
       "{'cantidad': 1,\n",
       " 'inicio': 0,\n",
       " 'parametros': {'nombre': 'sant fe'},\n",
       " 'provincias': [{'centroide': {'lat': -30.7069271588117,\n",
       "    'lon': -60.9498369430241},\n",
       "   'id': '82',\n",
       "   'nombre': 'Santa Fe'}],\n",
       " 'total': 1}"
      ]
     },
     "execution_count": 14,
     "metadata": {},
     "output_type": "execute_result"
    }
   ],
   "source": [
    "requests.get(\"https://apis.datos.gob.ar/georef/api/provincias?nombre=sant fe\").json()"
   ]
  },
  {
   "cell_type": "markdown",
   "metadata": {},
   "source": [
    "Sin embargo, los datasets a normalizar generalmente tendrán muchas filas y el método GET en este caso no nos llevará muy lejos.. Consumiremos rápidamente la cuota de la API y no conseguiremos el objetivo.\n",
    "\n",
    "Para esto podemos usar la versión \"bulk\" del recurso, y realizar una request POST.\n",
    "\n",
    "Imaginemos que tenemos un dataset con varias filas a normalizar."
   ]
  },
  {
   "cell_type": "code",
   "execution_count": 15,
   "metadata": {},
   "outputs": [],
   "source": [
    "bioetanol = pd.read_csv('http://datos.minem.gob.ar/dataset/5ce77ad1-c729-42cd-a8b5-2407de005e5b/resource/0df1eeda-854b-44b0-8ea6-1a537f167fa4/download/bioetanol.csv')"
   ]
  },
  {
   "cell_type": "code",
   "execution_count": 16,
   "metadata": {},
   "outputs": [
    {
     "data": {
      "text/html": [
       "<div>\n",
       "<style scoped>\n",
       "    .dataframe tbody tr th:only-of-type {\n",
       "        vertical-align: middle;\n",
       "    }\n",
       "\n",
       "    .dataframe tbody tr th {\n",
       "        vertical-align: top;\n",
       "    }\n",
       "\n",
       "    .dataframe thead th {\n",
       "        text-align: right;\n",
       "    }\n",
       "</style>\n",
       "<table border=\"1\" class=\"dataframe\">\n",
       "  <thead>\n",
       "    <tr style=\"text-align: right;\">\n",
       "      <th></th>\n",
       "      <th>fecha</th>\n",
       "      <th>empresa</th>\n",
       "      <th>localidad</th>\n",
       "      <th>provincia</th>\n",
       "      <th>insumo</th>\n",
       "      <th>cupo_total_asignado_m3</th>\n",
       "      <th>produccion__m3</th>\n",
       "      <th>ventas_totales__m3</th>\n",
       "      <th>ventas_a_axion_m3</th>\n",
       "      <th>ventas_a_petrobras_m3</th>\n",
       "      <th>ventas_a_fox_petrol_m3</th>\n",
       "      <th>ventas_a_refineria_del_norte_m3</th>\n",
       "      <th>ventas_a_shell_m3</th>\n",
       "      <th>ventas_a_ypf_m3</th>\n",
       "      <th>ventas_a_energia_derivada_del_petroleo_m3</th>\n",
       "      <th>ventas_a_oil_combustibles_m3</th>\n",
       "      <th>ventas_a_trafigura_oil_m3</th>\n",
       "    </tr>\n",
       "  </thead>\n",
       "  <tbody>\n",
       "    <tr>\n",
       "      <td>0</td>\n",
       "      <td>1/1/2012</td>\n",
       "      <td>ALCONOA S.R.L.</td>\n",
       "      <td>EL TABACAL</td>\n",
       "      <td>SALTA</td>\n",
       "      <td>CAÑA DE AZÚCAR</td>\n",
       "      <td>3500.0</td>\n",
       "      <td>6767.997473</td>\n",
       "      <td>3565.003159</td>\n",
       "      <td>298.00</td>\n",
       "      <td>0.00</td>\n",
       "      <td>0.0</td>\n",
       "      <td>0.00</td>\n",
       "      <td>1366.00</td>\n",
       "      <td>1901.00</td>\n",
       "      <td>0.00</td>\n",
       "      <td>0.00</td>\n",
       "      <td>0.0</td>\n",
       "    </tr>\n",
       "    <tr>\n",
       "      <td>1</td>\n",
       "      <td>1/1/2012</td>\n",
       "      <td>BIO SAN ISIDRO S.A.</td>\n",
       "      <td>CAMPO SANTO</td>\n",
       "      <td>SALTA</td>\n",
       "      <td>CAÑA DE AZÚCAR</td>\n",
       "      <td>300.0</td>\n",
       "      <td>0</td>\n",
       "      <td>476.651927</td>\n",
       "      <td>0.00</td>\n",
       "      <td>0.00</td>\n",
       "      <td>0.0</td>\n",
       "      <td>0.00</td>\n",
       "      <td>0.00</td>\n",
       "      <td>476.65</td>\n",
       "      <td>0.00</td>\n",
       "      <td>0.00</td>\n",
       "      <td>0.0</td>\n",
       "    </tr>\n",
       "    <tr>\n",
       "      <td>2</td>\n",
       "      <td>1/1/2012</td>\n",
       "      <td>BIOENERGÍA LA CORONA S.A.</td>\n",
       "      <td>CONCEPCIÓN</td>\n",
       "      <td>TUCUMÁN</td>\n",
       "      <td>CAÑA DE AZÚCAR</td>\n",
       "      <td>670.0</td>\n",
       "      <td>0</td>\n",
       "      <td>654.403032</td>\n",
       "      <td>0.00</td>\n",
       "      <td>0.00</td>\n",
       "      <td>0.0</td>\n",
       "      <td>0.00</td>\n",
       "      <td>0.00</td>\n",
       "      <td>654.41</td>\n",
       "      <td>0.00</td>\n",
       "      <td>0.00</td>\n",
       "      <td>0.0</td>\n",
       "    </tr>\n",
       "    <tr>\n",
       "      <td>3</td>\n",
       "      <td>1/1/2012</td>\n",
       "      <td>BIOENERGÍA SANTA ROSA S.A.</td>\n",
       "      <td>LEÓN ROUGES</td>\n",
       "      <td>TUCUMÁN</td>\n",
       "      <td>CAÑA DE AZÚCAR</td>\n",
       "      <td>1200.0</td>\n",
       "      <td>0</td>\n",
       "      <td>1051.345546</td>\n",
       "      <td>517.57</td>\n",
       "      <td>533.77</td>\n",
       "      <td>0.0</td>\n",
       "      <td>0.00</td>\n",
       "      <td>0.00</td>\n",
       "      <td>0.00</td>\n",
       "      <td>0.00</td>\n",
       "      <td>0.00</td>\n",
       "      <td>0.0</td>\n",
       "    </tr>\n",
       "    <tr>\n",
       "      <td>4</td>\n",
       "      <td>1/1/2012</td>\n",
       "      <td>BIOLEDESMA S.A.</td>\n",
       "      <td>LEDESMA</td>\n",
       "      <td>JUJUY</td>\n",
       "      <td>CAÑA DE AZÚCAR</td>\n",
       "      <td>4083.0</td>\n",
       "      <td>4391.787745</td>\n",
       "      <td>4278.686039</td>\n",
       "      <td>503.81</td>\n",
       "      <td>0.00</td>\n",
       "      <td>0.0</td>\n",
       "      <td>0.00</td>\n",
       "      <td>615.17</td>\n",
       "      <td>2645.09</td>\n",
       "      <td>104.36</td>\n",
       "      <td>410.27</td>\n",
       "      <td>0.0</td>\n",
       "    </tr>\n",
       "    <tr>\n",
       "      <td>...</td>\n",
       "      <td>...</td>\n",
       "      <td>...</td>\n",
       "      <td>...</td>\n",
       "      <td>...</td>\n",
       "      <td>...</td>\n",
       "      <td>...</td>\n",
       "      <td>...</td>\n",
       "      <td>...</td>\n",
       "      <td>...</td>\n",
       "      <td>...</td>\n",
       "      <td>...</td>\n",
       "      <td>...</td>\n",
       "      <td>...</td>\n",
       "      <td>...</td>\n",
       "      <td>...</td>\n",
       "      <td>...</td>\n",
       "      <td>...</td>\n",
       "    </tr>\n",
       "    <tr>\n",
       "      <td>967</td>\n",
       "      <td>3/1/2018</td>\n",
       "      <td>ENERGÍAS ECOLÓGICAS DEL TUCUMÁN S.A.</td>\n",
       "      <td>AGUILARES</td>\n",
       "      <td>TUCUMÁN</td>\n",
       "      <td>CAÑA DE AZÚCAR</td>\n",
       "      <td>NaN</td>\n",
       "      <td>1848.98</td>\n",
       "      <td>1704.720000</td>\n",
       "      <td>1194.33</td>\n",
       "      <td>0.00</td>\n",
       "      <td>0.0</td>\n",
       "      <td>0.00</td>\n",
       "      <td>510.39</td>\n",
       "      <td>0.00</td>\n",
       "      <td>0.00</td>\n",
       "      <td>0.00</td>\n",
       "      <td>0.0</td>\n",
       "    </tr>\n",
       "    <tr>\n",
       "      <td>968</td>\n",
       "      <td>3/1/2018</td>\n",
       "      <td>FRONTERITA ENERGÍA S.A.</td>\n",
       "      <td>FAMAILLÁ</td>\n",
       "      <td>TUCUMÁN</td>\n",
       "      <td>CAÑA DE AZÚCAR</td>\n",
       "      <td>NaN</td>\n",
       "      <td>463.5</td>\n",
       "      <td>2774.120000</td>\n",
       "      <td>1048.58</td>\n",
       "      <td>0.00</td>\n",
       "      <td>0.0</td>\n",
       "      <td>542.67</td>\n",
       "      <td>0.00</td>\n",
       "      <td>1182.87</td>\n",
       "      <td>0.00</td>\n",
       "      <td>0.00</td>\n",
       "      <td>0.0</td>\n",
       "    </tr>\n",
       "    <tr>\n",
       "      <td>969</td>\n",
       "      <td>3/1/2018</td>\n",
       "      <td>PROMAÍZ S.A.</td>\n",
       "      <td>ALEJANDRO ROCA</td>\n",
       "      <td>CÓRDOBA</td>\n",
       "      <td>MAÍZ</td>\n",
       "      <td>NaN</td>\n",
       "      <td>13904.27</td>\n",
       "      <td>12420.200000</td>\n",
       "      <td>3098.05</td>\n",
       "      <td>1301.97</td>\n",
       "      <td>0.0</td>\n",
       "      <td>0.00</td>\n",
       "      <td>2516.67</td>\n",
       "      <td>5503.51</td>\n",
       "      <td>0.00</td>\n",
       "      <td>0.00</td>\n",
       "      <td>0.0</td>\n",
       "    </tr>\n",
       "    <tr>\n",
       "      <td>970</td>\n",
       "      <td>3/1/2018</td>\n",
       "      <td>RÍO GRANDE ENERGÍA S.A.</td>\n",
       "      <td>LA MENDIETA</td>\n",
       "      <td>JUJUY</td>\n",
       "      <td>CAÑA DE AZÚCAR</td>\n",
       "      <td>NaN</td>\n",
       "      <td>1130.15</td>\n",
       "      <td>1573.470000</td>\n",
       "      <td>0.00</td>\n",
       "      <td>0.00</td>\n",
       "      <td>0.0</td>\n",
       "      <td>0.00</td>\n",
       "      <td>583.60</td>\n",
       "      <td>989.87</td>\n",
       "      <td>0.00</td>\n",
       "      <td>0.00</td>\n",
       "      <td>0.0</td>\n",
       "    </tr>\n",
       "    <tr>\n",
       "      <td>971</td>\n",
       "      <td>3/1/2018</td>\n",
       "      <td>VICENTÍN S.A.I.C.</td>\n",
       "      <td>AVELLANEDA</td>\n",
       "      <td>SANTA FE</td>\n",
       "      <td>MAÍZ</td>\n",
       "      <td>NaN</td>\n",
       "      <td>6108.93</td>\n",
       "      <td>5569.070000</td>\n",
       "      <td>2306.31</td>\n",
       "      <td>219.59</td>\n",
       "      <td>0.0</td>\n",
       "      <td>0.00</td>\n",
       "      <td>582.79</td>\n",
       "      <td>2460.38</td>\n",
       "      <td>0.00</td>\n",
       "      <td>0.00</td>\n",
       "      <td>0.0</td>\n",
       "    </tr>\n",
       "  </tbody>\n",
       "</table>\n",
       "<p>972 rows × 17 columns</p>\n",
       "</div>"
      ],
      "text/plain": [
       "        fecha                               empresa       localidad provincia  \\\n",
       "0    1/1/2012                        ALCONOA S.R.L.      EL TABACAL     SALTA   \n",
       "1    1/1/2012                   BIO SAN ISIDRO S.A.     CAMPO SANTO     SALTA   \n",
       "2    1/1/2012             BIOENERGÍA LA CORONA S.A.      CONCEPCIÓN   TUCUMÁN   \n",
       "3    1/1/2012            BIOENERGÍA SANTA ROSA S.A.     LEÓN ROUGES   TUCUMÁN   \n",
       "4    1/1/2012                       BIOLEDESMA S.A.         LEDESMA     JUJUY   \n",
       "..        ...                                   ...             ...       ...   \n",
       "967  3/1/2018  ENERGÍAS ECOLÓGICAS DEL TUCUMÁN S.A.       AGUILARES   TUCUMÁN   \n",
       "968  3/1/2018               FRONTERITA ENERGÍA S.A.        FAMAILLÁ   TUCUMÁN   \n",
       "969  3/1/2018                          PROMAÍZ S.A.  ALEJANDRO ROCA   CÓRDOBA   \n",
       "970  3/1/2018               RÍO GRANDE ENERGÍA S.A.     LA MENDIETA     JUJUY   \n",
       "971  3/1/2018                     VICENTÍN S.A.I.C.      AVELLANEDA  SANTA FE   \n",
       "\n",
       "             insumo  cupo_total_asignado_m3 produccion__m3  \\\n",
       "0    CAÑA DE AZÚCAR                  3500.0    6767.997473   \n",
       "1    CAÑA DE AZÚCAR                   300.0              0   \n",
       "2    CAÑA DE AZÚCAR                   670.0              0   \n",
       "3    CAÑA DE AZÚCAR                  1200.0              0   \n",
       "4    CAÑA DE AZÚCAR                  4083.0    4391.787745   \n",
       "..              ...                     ...            ...   \n",
       "967  CAÑA DE AZÚCAR                     NaN        1848.98   \n",
       "968  CAÑA DE AZÚCAR                     NaN          463.5   \n",
       "969            MAÍZ                     NaN       13904.27   \n",
       "970  CAÑA DE AZÚCAR                     NaN        1130.15   \n",
       "971            MAÍZ                     NaN        6108.93   \n",
       "\n",
       "     ventas_totales__m3  ventas_a_axion_m3  ventas_a_petrobras_m3  \\\n",
       "0           3565.003159             298.00                   0.00   \n",
       "1            476.651927               0.00                   0.00   \n",
       "2            654.403032               0.00                   0.00   \n",
       "3           1051.345546             517.57                 533.77   \n",
       "4           4278.686039             503.81                   0.00   \n",
       "..                  ...                ...                    ...   \n",
       "967         1704.720000            1194.33                   0.00   \n",
       "968         2774.120000            1048.58                   0.00   \n",
       "969        12420.200000            3098.05                1301.97   \n",
       "970         1573.470000               0.00                   0.00   \n",
       "971         5569.070000            2306.31                 219.59   \n",
       "\n",
       "     ventas_a_fox_petrol_m3  ventas_a_refineria_del_norte_m3  \\\n",
       "0                       0.0                             0.00   \n",
       "1                       0.0                             0.00   \n",
       "2                       0.0                             0.00   \n",
       "3                       0.0                             0.00   \n",
       "4                       0.0                             0.00   \n",
       "..                      ...                              ...   \n",
       "967                     0.0                             0.00   \n",
       "968                     0.0                           542.67   \n",
       "969                     0.0                             0.00   \n",
       "970                     0.0                             0.00   \n",
       "971                     0.0                             0.00   \n",
       "\n",
       "     ventas_a_shell_m3  ventas_a_ypf_m3  \\\n",
       "0              1366.00          1901.00   \n",
       "1                 0.00           476.65   \n",
       "2                 0.00           654.41   \n",
       "3                 0.00             0.00   \n",
       "4               615.17          2645.09   \n",
       "..                 ...              ...   \n",
       "967             510.39             0.00   \n",
       "968               0.00          1182.87   \n",
       "969            2516.67          5503.51   \n",
       "970             583.60           989.87   \n",
       "971             582.79          2460.38   \n",
       "\n",
       "     ventas_a_energia_derivada_del_petroleo_m3  ventas_a_oil_combustibles_m3  \\\n",
       "0                                         0.00                          0.00   \n",
       "1                                         0.00                          0.00   \n",
       "2                                         0.00                          0.00   \n",
       "3                                         0.00                          0.00   \n",
       "4                                       104.36                        410.27   \n",
       "..                                         ...                           ...   \n",
       "967                                       0.00                          0.00   \n",
       "968                                       0.00                          0.00   \n",
       "969                                       0.00                          0.00   \n",
       "970                                       0.00                          0.00   \n",
       "971                                       0.00                          0.00   \n",
       "\n",
       "     ventas_a_trafigura_oil_m3  \n",
       "0                          0.0  \n",
       "1                          0.0  \n",
       "2                          0.0  \n",
       "3                          0.0  \n",
       "4                          0.0  \n",
       "..                         ...  \n",
       "967                        0.0  \n",
       "968                        0.0  \n",
       "969                        0.0  \n",
       "970                        0.0  \n",
       "971                        0.0  \n",
       "\n",
       "[972 rows x 17 columns]"
      ]
     },
     "execution_count": 16,
     "metadata": {},
     "output_type": "execute_result"
    }
   ],
   "source": [
    "bioetanol"
   ]
  },
  {
   "cell_type": "markdown",
   "metadata": {},
   "source": [
    "Los métodos POST se usan cuando una request debe enviarle datos al servidor para cumplir su cometido. Generalmente las POST requests generan cambios en el servidor (por ejemplo, agregan un comentario a una nota periodística) pero también se usan cuando la consulta requiere parámetros más complejos o voluminosos.\n",
    "\n",
    "El método POST permite enviar un JSON (por ejemplo) aparte de la URL."
   ]
  },
  {
   "cell_type": "code",
   "execution_count": 17,
   "metadata": {},
   "outputs": [],
   "source": [
    "data = {\n",
    "    'provincias': [\n",
    "        {\n",
    "            'nombre': 'JUJUY',\n",
    "            'max': 1,\n",
    "            'campos': 'id,nombre'\n",
    "        },\n",
    "        {\n",
    "            'nombre': 'TUCUMAN',\n",
    "            'max': 1,\n",
    "            'campos': 'id,nombre'\n",
    "        },\n",
    "        {\n",
    "            'nombre': 'CORDOBA',\n",
    "            'max': 1,\n",
    "            'campos': 'id,nombre'\n",
    "        },\n",
    "        {\n",
    "            'nombre': 'SALTA',\n",
    "            'max': 1,\n",
    "            'campos': 'id,nombre'\n",
    "        }\n",
    "    ]\n",
    "}"
   ]
  },
  {
   "cell_type": "markdown",
   "metadata": {},
   "source": [
    "En este diccionario, cada objeto en la lista de provincias es una consulta individual. Se pueden acumular hasta 1000 consultas en un solo POST request de esta API.\n",
    "\n",
    "En todos los casos ponemos 'max' = 1 porque solo queremos el mejor match posible de cada caso, y elegimos que devuelva solo los campos que necesitamos, para agilizar la consulta."
   ]
  },
  {
   "cell_type": "code",
   "execution_count": 18,
   "metadata": {},
   "outputs": [],
   "source": [
    "resultado_provs = requests.post(\n",
    "    \"https://apis.datos.gob.ar/georef/api/provincias\",\n",
    "    json=data\n",
    ").json()"
   ]
  },
  {
   "cell_type": "code",
   "execution_count": 19,
   "metadata": {},
   "outputs": [
    {
     "data": {
      "text/plain": [
       "{'resultados': [{'cantidad': 1,\n",
       "   'inicio': 0,\n",
       "   'parametros': {'campos': ['id', 'nombre'], 'max': 1, 'nombre': 'JUJUY'},\n",
       "   'provincias': [{'id': '38', 'nombre': 'Jujuy'}],\n",
       "   'total': 1},\n",
       "  {'cantidad': 1,\n",
       "   'inicio': 0,\n",
       "   'parametros': {'campos': ['id', 'nombre'], 'max': 1, 'nombre': 'TUCUMAN'},\n",
       "   'provincias': [{'id': '90', 'nombre': 'Tucumán'}],\n",
       "   'total': 1},\n",
       "  {'cantidad': 1,\n",
       "   'inicio': 0,\n",
       "   'parametros': {'campos': ['id', 'nombre'], 'max': 1, 'nombre': 'CORDOBA'},\n",
       "   'provincias': [{'id': '14', 'nombre': 'Córdoba'}],\n",
       "   'total': 1},\n",
       "  {'cantidad': 1,\n",
       "   'inicio': 0,\n",
       "   'parametros': {'campos': ['id', 'nombre'], 'max': 1, 'nombre': 'SALTA'},\n",
       "   'provincias': [{'id': '66', 'nombre': 'Salta'}],\n",
       "   'total': 1}]}"
      ]
     },
     "execution_count": 19,
     "metadata": {},
     "output_type": "execute_result"
    }
   ],
   "source": [
    "resultado_provs"
   ]
  },
  {
   "cell_type": "code",
   "execution_count": 20,
   "metadata": {},
   "outputs": [
    {
     "data": {
      "text/plain": [
       "[{'id': '38', 'nombre': 'Jujuy'}]"
      ]
     },
     "execution_count": 20,
     "metadata": {},
     "output_type": "execute_result"
    }
   ],
   "source": [
    "resultado_provs['resultados'][0]['provincias']"
   ]
  },
  {
   "cell_type": "markdown",
   "metadata": {},
   "source": [
    "Para usar este método necesitamos generar el diccionario de una forma más flexible (no lo podemos hacer a mano!)."
   ]
  },
  {
   "cell_type": "code",
   "execution_count": 21,
   "metadata": {},
   "outputs": [],
   "source": [
    "provincias_normalizar = list(bioetanol.provincia)"
   ]
  },
  {
   "cell_type": "code",
   "execution_count": 22,
   "metadata": {},
   "outputs": [],
   "source": [
    "data = {\n",
    "    'provincias': [\n",
    "        {\n",
    "            'nombre': provincia,\n",
    "            'max': 1,\n",
    "            'campos': 'id,nombre'\n",
    "        }\n",
    "        for provincia in provincias_normalizar\n",
    "    ]\n",
    "}"
   ]
  },
  {
   "cell_type": "code",
   "execution_count": 23,
   "metadata": {},
   "outputs": [],
   "source": [
    "resultado_provs = requests.post(\n",
    "    \"https://apis.datos.gob.ar/georef/api/provincias\",\n",
    "    json=data\n",
    ").json()"
   ]
  },
  {
   "cell_type": "code",
   "execution_count": 24,
   "metadata": {},
   "outputs": [
    {
     "data": {
      "text/plain": [
       "[{'cantidad': 1,\n",
       "  'inicio': 0,\n",
       "  'parametros': {'campos': ['id', 'nombre'], 'max': 1, 'nombre': 'SALTA'},\n",
       "  'provincias': [{'id': '66', 'nombre': 'Salta'}],\n",
       "  'total': 1},\n",
       " {'cantidad': 1,\n",
       "  'inicio': 0,\n",
       "  'parametros': {'campos': ['id', 'nombre'], 'max': 1, 'nombre': 'SALTA'},\n",
       "  'provincias': [{'id': '66', 'nombre': 'Salta'}],\n",
       "  'total': 1},\n",
       " {'cantidad': 1,\n",
       "  'inicio': 0,\n",
       "  'parametros': {'campos': ['id', 'nombre'], 'max': 1, 'nombre': 'TUCUMÁN'},\n",
       "  'provincias': [{'id': '90', 'nombre': 'Tucumán'}],\n",
       "  'total': 1},\n",
       " {'cantidad': 1,\n",
       "  'inicio': 0,\n",
       "  'parametros': {'campos': ['id', 'nombre'], 'max': 1, 'nombre': 'TUCUMÁN'},\n",
       "  'provincias': [{'id': '90', 'nombre': 'Tucumán'}],\n",
       "  'total': 1},\n",
       " {'cantidad': 1,\n",
       "  'inicio': 0,\n",
       "  'parametros': {'campos': ['id', 'nombre'], 'max': 1, 'nombre': 'JUJUY'},\n",
       "  'provincias': [{'id': '38', 'nombre': 'Jujuy'}],\n",
       "  'total': 1},\n",
       " {'cantidad': 1,\n",
       "  'inicio': 0,\n",
       "  'parametros': {'campos': ['id', 'nombre'], 'max': 1, 'nombre': 'TUCUMÁN'},\n",
       "  'provincias': [{'id': '90', 'nombre': 'Tucumán'}],\n",
       "  'total': 1},\n",
       " {'cantidad': 1,\n",
       "  'inicio': 0,\n",
       "  'parametros': {'campos': ['id', 'nombre'], 'max': 1, 'nombre': 'TUCUMÁN'},\n",
       "  'provincias': [{'id': '90', 'nombre': 'Tucumán'}],\n",
       "  'total': 1},\n",
       " {'cantidad': 1,\n",
       "  'inicio': 0,\n",
       "  'parametros': {'campos': ['id', 'nombre'], 'max': 1, 'nombre': 'TUCUMÁN'},\n",
       "  'provincias': [{'id': '90', 'nombre': 'Tucumán'}],\n",
       "  'total': 1},\n",
       " {'cantidad': 1,\n",
       "  'inicio': 0,\n",
       "  'parametros': {'campos': ['id', 'nombre'], 'max': 1, 'nombre': 'JUJUY'},\n",
       "  'provincias': [{'id': '38', 'nombre': 'Jujuy'}],\n",
       "  'total': 1},\n",
       " {'cantidad': 1,\n",
       "  'inicio': 0,\n",
       "  'parametros': {'campos': ['id', 'nombre'], 'max': 1, 'nombre': 'SALTA'},\n",
       "  'provincias': [{'id': '66', 'nombre': 'Salta'}],\n",
       "  'total': 1}]"
      ]
     },
     "execution_count": 24,
     "metadata": {},
     "output_type": "execute_result"
    }
   ],
   "source": [
    "resultado_provs['resultados'][:10]"
   ]
  },
  {
   "cell_type": "code",
   "execution_count": 25,
   "metadata": {},
   "outputs": [],
   "source": [
    "provincias_normalizadas = [\n",
    "    resultado['provincias'][0]\n",
    "    for resultado in resultado_provs['resultados']   \n",
    "]"
   ]
  },
  {
   "cell_type": "code",
   "execution_count": 26,
   "metadata": {},
   "outputs": [
    {
     "data": {
      "text/plain": [
       "[{'id': '66', 'nombre': 'Salta'},\n",
       " {'id': '66', 'nombre': 'Salta'},\n",
       " {'id': '90', 'nombre': 'Tucumán'},\n",
       " {'id': '90', 'nombre': 'Tucumán'},\n",
       " {'id': '38', 'nombre': 'Jujuy'},\n",
       " {'id': '90', 'nombre': 'Tucumán'},\n",
       " {'id': '90', 'nombre': 'Tucumán'},\n",
       " {'id': '90', 'nombre': 'Tucumán'},\n",
       " {'id': '38', 'nombre': 'Jujuy'},\n",
       " {'id': '66', 'nombre': 'Salta'}]"
      ]
     },
     "execution_count": 26,
     "metadata": {},
     "output_type": "execute_result"
    }
   ],
   "source": [
    "provincias_normalizadas[:10]"
   ]
  },
  {
   "cell_type": "code",
   "execution_count": 27,
   "metadata": {},
   "outputs": [],
   "source": [
    "df_provincias_normalizadas = pd.DataFrame(provincias_normalizadas)"
   ]
  },
  {
   "cell_type": "code",
   "execution_count": 28,
   "metadata": {},
   "outputs": [
    {
     "data": {
      "text/html": [
       "<div>\n",
       "<style scoped>\n",
       "    .dataframe tbody tr th:only-of-type {\n",
       "        vertical-align: middle;\n",
       "    }\n",
       "\n",
       "    .dataframe tbody tr th {\n",
       "        vertical-align: top;\n",
       "    }\n",
       "\n",
       "    .dataframe thead th {\n",
       "        text-align: right;\n",
       "    }\n",
       "</style>\n",
       "<table border=\"1\" class=\"dataframe\">\n",
       "  <thead>\n",
       "    <tr style=\"text-align: right;\">\n",
       "      <th></th>\n",
       "      <th>id</th>\n",
       "      <th>nombre</th>\n",
       "    </tr>\n",
       "  </thead>\n",
       "  <tbody>\n",
       "    <tr>\n",
       "      <td>0</td>\n",
       "      <td>66</td>\n",
       "      <td>Salta</td>\n",
       "    </tr>\n",
       "    <tr>\n",
       "      <td>1</td>\n",
       "      <td>66</td>\n",
       "      <td>Salta</td>\n",
       "    </tr>\n",
       "    <tr>\n",
       "      <td>2</td>\n",
       "      <td>90</td>\n",
       "      <td>Tucumán</td>\n",
       "    </tr>\n",
       "    <tr>\n",
       "      <td>3</td>\n",
       "      <td>90</td>\n",
       "      <td>Tucumán</td>\n",
       "    </tr>\n",
       "    <tr>\n",
       "      <td>4</td>\n",
       "      <td>38</td>\n",
       "      <td>Jujuy</td>\n",
       "    </tr>\n",
       "    <tr>\n",
       "      <td>...</td>\n",
       "      <td>...</td>\n",
       "      <td>...</td>\n",
       "    </tr>\n",
       "    <tr>\n",
       "      <td>967</td>\n",
       "      <td>90</td>\n",
       "      <td>Tucumán</td>\n",
       "    </tr>\n",
       "    <tr>\n",
       "      <td>968</td>\n",
       "      <td>90</td>\n",
       "      <td>Tucumán</td>\n",
       "    </tr>\n",
       "    <tr>\n",
       "      <td>969</td>\n",
       "      <td>14</td>\n",
       "      <td>Córdoba</td>\n",
       "    </tr>\n",
       "    <tr>\n",
       "      <td>970</td>\n",
       "      <td>38</td>\n",
       "      <td>Jujuy</td>\n",
       "    </tr>\n",
       "    <tr>\n",
       "      <td>971</td>\n",
       "      <td>82</td>\n",
       "      <td>Santa Fe</td>\n",
       "    </tr>\n",
       "  </tbody>\n",
       "</table>\n",
       "<p>972 rows × 2 columns</p>\n",
       "</div>"
      ],
      "text/plain": [
       "     id    nombre\n",
       "0    66     Salta\n",
       "1    66     Salta\n",
       "2    90   Tucumán\n",
       "3    90   Tucumán\n",
       "4    38     Jujuy\n",
       "..   ..       ...\n",
       "967  90   Tucumán\n",
       "968  90   Tucumán\n",
       "969  14   Córdoba\n",
       "970  38     Jujuy\n",
       "971  82  Santa Fe\n",
       "\n",
       "[972 rows x 2 columns]"
      ]
     },
     "execution_count": 28,
     "metadata": {},
     "output_type": "execute_result"
    }
   ],
   "source": [
    "df_provincias_normalizadas"
   ]
  },
  {
   "cell_type": "code",
   "execution_count": 29,
   "metadata": {},
   "outputs": [],
   "source": [
    "bioetanol['provincia_id'] = df_provincias_normalizadas['id']\n",
    "bioetanol['provincia_nombre'] = df_provincias_normalizadas['nombre']"
   ]
  },
  {
   "cell_type": "code",
   "execution_count": 30,
   "metadata": {},
   "outputs": [],
   "source": [
    "def normalizar_unidades_territoriales(entidades, entidades_tipo):\n",
    "    \n",
    "    # genera el JSON con la lista de consultas a realizar\n",
    "    data = {\n",
    "        entidades_tipo: [\n",
    "            {\n",
    "                'nombre': nombre,\n",
    "                'max': 1,\n",
    "                'campos': 'id,nombre'\n",
    "            }\n",
    "            for nombre in entidades\n",
    "        ]\n",
    "    }\n",
    "    \n",
    "    # realiza la consulta\n",
    "    resultados = requests.post(\n",
    "        f\"https://apis.datos.gob.ar/georef/api/{entidades_tipo}\",\n",
    "        json=data\n",
    "    ).json()\n",
    "    \n",
    "    # parsea la respuesta\n",
    "    entidades_normalizadas = [\n",
    "        resultado[entidades_tipo][0]\n",
    "        for resultado in resultados['resultados']   \n",
    "    ]\n",
    "    \n",
    "    return pd.DataFrame(entidades_normalizadas)"
   ]
  },
  {
   "cell_type": "markdown",
   "metadata": {},
   "source": [
    "**Ejercicio:** usá la función para normalizar las localidades del dataset. Qué te parece que puede estar mal en el resultado, en este caso?"
   ]
  },
  {
   "cell_type": "code",
   "execution_count": null,
   "metadata": {},
   "outputs": [],
   "source": []
  },
  {
   "cell_type": "markdown",
   "metadata": {},
   "source": [
    "Tal vez necesitemos modificar un poco la función para este caso. Como no queremos pasar todo el tiempo con este tema, en el módulo `helpers.py` te dejamos ya armada una funcion para normalizar distintas entidades usando la API Georef."
   ]
  },
  {
   "cell_type": "code",
   "execution_count": 31,
   "metadata": {},
   "outputs": [],
   "source": [
    "localidades_normalizadas = helpers.normalizar_unidades_territoriales(\n",
    "    bioetanol[['localidad', 'provincia']],\n",
    "    entidades_tipo='localidades',\n",
    "    nombre_campo='localidad',\n",
    "    provincia_campo='provincia',\n",
    ")"
   ]
  },
  {
   "cell_type": "code",
   "execution_count": 32,
   "metadata": {},
   "outputs": [
    {
     "data": {
      "text/html": [
       "<div>\n",
       "<style scoped>\n",
       "    .dataframe tbody tr th:only-of-type {\n",
       "        vertical-align: middle;\n",
       "    }\n",
       "\n",
       "    .dataframe tbody tr th {\n",
       "        vertical-align: top;\n",
       "    }\n",
       "\n",
       "    .dataframe thead th {\n",
       "        text-align: right;\n",
       "    }\n",
       "</style>\n",
       "<table border=\"1\" class=\"dataframe\">\n",
       "  <thead>\n",
       "    <tr style=\"text-align: right;\">\n",
       "      <th></th>\n",
       "      <th>id</th>\n",
       "      <th>nombre</th>\n",
       "      <th>provincia_id</th>\n",
       "      <th>provincia_nombre</th>\n",
       "    </tr>\n",
       "  </thead>\n",
       "  <tbody>\n",
       "    <tr>\n",
       "      <td>0</td>\n",
       "      <td>66126030000</td>\n",
       "      <td>EL TABACAL</td>\n",
       "      <td>66</td>\n",
       "      <td>Salta</td>\n",
       "    </tr>\n",
       "    <tr>\n",
       "      <td>1</td>\n",
       "      <td>66049010000</td>\n",
       "      <td>CAMPO SANTO</td>\n",
       "      <td>66</td>\n",
       "      <td>Salta</td>\n",
       "    </tr>\n",
       "    <tr>\n",
       "      <td>2</td>\n",
       "      <td>90021050000</td>\n",
       "      <td>CONCEPCION</td>\n",
       "      <td>90</td>\n",
       "      <td>Tucumán</td>\n",
       "    </tr>\n",
       "    <tr>\n",
       "      <td>3</td>\n",
       "      <td>None</td>\n",
       "      <td>None</td>\n",
       "      <td>None</td>\n",
       "      <td>None</td>\n",
       "    </tr>\n",
       "    <tr>\n",
       "      <td>4</td>\n",
       "      <td>38035080002</td>\n",
       "      <td>PUEBLO LEDESMA</td>\n",
       "      <td>38</td>\n",
       "      <td>Jujuy</td>\n",
       "    </tr>\n",
       "    <tr>\n",
       "      <td>...</td>\n",
       "      <td>...</td>\n",
       "      <td>...</td>\n",
       "      <td>...</td>\n",
       "      <td>...</td>\n",
       "    </tr>\n",
       "    <tr>\n",
       "      <td>967</td>\n",
       "      <td>90077010001</td>\n",
       "      <td>AGUILARES</td>\n",
       "      <td>90</td>\n",
       "      <td>Tucumán</td>\n",
       "    </tr>\n",
       "    <tr>\n",
       "      <td>968</td>\n",
       "      <td>90028030002</td>\n",
       "      <td>FAMAILLA</td>\n",
       "      <td>90</td>\n",
       "      <td>Tucumán</td>\n",
       "    </tr>\n",
       "    <tr>\n",
       "      <td>969</td>\n",
       "      <td>14056010000</td>\n",
       "      <td>ALEJANDRO ROCA</td>\n",
       "      <td>14</td>\n",
       "      <td>Córdoba</td>\n",
       "    </tr>\n",
       "    <tr>\n",
       "      <td>970</td>\n",
       "      <td>38063090000</td>\n",
       "      <td>LA MENDIETA</td>\n",
       "      <td>38</td>\n",
       "      <td>Jujuy</td>\n",
       "    </tr>\n",
       "    <tr>\n",
       "      <td>971</td>\n",
       "      <td>82049020000</td>\n",
       "      <td>AVELLANEDA</td>\n",
       "      <td>82</td>\n",
       "      <td>Santa Fe</td>\n",
       "    </tr>\n",
       "  </tbody>\n",
       "</table>\n",
       "<p>972 rows × 4 columns</p>\n",
       "</div>"
      ],
      "text/plain": [
       "              id          nombre provincia_id provincia_nombre\n",
       "0    66126030000      EL TABACAL           66            Salta\n",
       "1    66049010000     CAMPO SANTO           66            Salta\n",
       "2    90021050000      CONCEPCION           90          Tucumán\n",
       "3           None            None         None             None\n",
       "4    38035080002  PUEBLO LEDESMA           38            Jujuy\n",
       "..           ...             ...          ...              ...\n",
       "967  90077010001       AGUILARES           90          Tucumán\n",
       "968  90028030002        FAMAILLA           90          Tucumán\n",
       "969  14056010000  ALEJANDRO ROCA           14          Córdoba\n",
       "970  38063090000     LA MENDIETA           38            Jujuy\n",
       "971  82049020000      AVELLANEDA           82         Santa Fe\n",
       "\n",
       "[972 rows x 4 columns]"
      ]
     },
     "execution_count": 32,
     "metadata": {},
     "output_type": "execute_result"
    }
   ],
   "source": [
    "localidades_normalizadas"
   ]
  },
  {
   "cell_type": "code",
   "execution_count": 33,
   "metadata": {},
   "outputs": [],
   "source": [
    "bioetanol['localidad_id'] = df_provincias_normalizadas['id']\n",
    "bioetanol['localidad_nombre'] = df_provincias_normalizadas['nombre']"
   ]
  },
  {
   "cell_type": "markdown",
   "metadata": {},
   "source": [
    "### Georreferenciación "
   ]
  },
  {
   "cell_type": "markdown",
   "metadata": {},
   "source": [
    "En la API Georef, casi todos los recursos tienen una version GET (mas facil de usar, pero que permite hace pocas consultas) y una version POST (mas dificil de usar, pero que permite hacer mas consultas y mas eficientemente).\n",
    "\n",
    "En las proximas dos secciones te vamos a presentar otras funcionalidades de la API Georef con el metodo GET correspondiente, y luego te ofreceremos una funcion ya escrita para hacer consultas masivas."
   ]
  },
  {
   "cell_type": "markdown",
   "metadata": {},
   "source": [
    "La funcion de **georreferenciacion** permite normalizar y descomponer una direccion de Argentina en partes, asi como obtener sus coordenadas."
   ]
  },
  {
   "cell_type": "code",
   "execution_count": 34,
   "metadata": {},
   "outputs": [
    {
     "data": {
      "text/plain": [
       "{'cantidad': 2,\n",
       " 'direcciones': [{'altura': {'unidad': None, 'valor': 50},\n",
       "   'calle': {'categoria': 'CALLE',\n",
       "    'id': '0200701001910',\n",
       "    'nombre': 'BALCARCE'},\n",
       "   'calle_cruce_1': {'categoria': None, 'id': None, 'nombre': None},\n",
       "   'calle_cruce_2': {'categoria': None, 'id': None, 'nombre': None},\n",
       "   'departamento': {'id': '02007', 'nombre': 'Comuna 1'},\n",
       "   'localidad_censal': {'id': '02000010',\n",
       "    'nombre': 'Ciudad Autónoma de Buenos Aires'},\n",
       "   'nomenclatura': 'BALCARCE 50, Comuna 1, Ciudad Autónoma de Buenos Aires',\n",
       "   'piso': None,\n",
       "   'provincia': {'id': '02', 'nombre': 'Ciudad Autónoma de Buenos Aires'},\n",
       "   'ubicacion': {'lat': -34.6083411208197, 'lon': -58.37088525365451}},\n",
       "  {'altura': {'unidad': None, 'valor': 50},\n",
       "   'calle': {'categoria': 'CALLE',\n",
       "    'id': '0204201005515',\n",
       "    'nombre': 'FLORENCIO BALCARCE'},\n",
       "   'calle_cruce_1': {'categoria': None, 'id': None, 'nombre': None},\n",
       "   'calle_cruce_2': {'categoria': None, 'id': None, 'nombre': None},\n",
       "   'departamento': {'id': '02042', 'nombre': 'Comuna 6'},\n",
       "   'localidad_censal': {'id': '02000010',\n",
       "    'nombre': 'Ciudad Autónoma de Buenos Aires'},\n",
       "   'nomenclatura': 'FLORENCIO BALCARCE 50, Comuna 6, Ciudad Autónoma de Buenos Aires',\n",
       "   'piso': None,\n",
       "   'provincia': {'id': '02', 'nombre': 'Ciudad Autónoma de Buenos Aires'},\n",
       "   'ubicacion': {'lat': -34.61697599223095, 'lon': -58.4350969802731}}],\n",
       " 'inicio': 0,\n",
       " 'parametros': {'direccion': {'altura': {'unidad': None, 'valor': '50'},\n",
       "   'calles': ['balcarce'],\n",
       "   'piso': None,\n",
       "   'tipo': 'simple'},\n",
       "  'provincia': ['02']},\n",
       " 'total': 2}"
      ]
     },
     "execution_count": 34,
     "metadata": {},
     "output_type": "execute_result"
    }
   ],
   "source": [
    "requests.get(\n",
    "    'https://apis.datos.gob.ar/georef/api/direcciones?direccion=balcarce 50&provincia=02'\n",
    ").json()"
   ]
  },
  {
   "cell_type": "markdown",
   "metadata": {},
   "source": [
    "No es obligatorio especificar una provincia, pero esto mejora mucho la precision del resultado. Tambien se puede especificar departamento u otros tipos de filtros. La API reconoce esquinas y diversas modalidades de especificar una direccion."
   ]
  },
  {
   "cell_type": "code",
   "execution_count": 35,
   "metadata": {},
   "outputs": [
    {
     "data": {
      "text/plain": [
       "{'cantidad': 1,\n",
       " 'direcciones': [{'altura': {'unidad': None, 'valor': None},\n",
       "   'calle': {'categoria': 'AV',\n",
       "    'id': '0201401001740',\n",
       "    'nombre': 'AV SANTA FE'},\n",
       "   'calle_cruce_1': {'categoria': 'AV',\n",
       "    'id': '0201401001675',\n",
       "    'nombre': 'AV PUEYRREDON'},\n",
       "   'calle_cruce_2': {'categoria': None, 'id': None, 'nombre': None},\n",
       "   'departamento': {'id': '02014', 'nombre': 'Comuna 2'},\n",
       "   'localidad_censal': {'id': '02000010',\n",
       "    'nombre': 'Ciudad Autónoma de Buenos Aires'},\n",
       "   'nomenclatura': 'AV SANTA FE (ESQUINA AV PUEYRREDON), Comuna 2, Ciudad Autónoma de Buenos Aires',\n",
       "   'piso': None,\n",
       "   'provincia': {'id': '02', 'nombre': 'Ciudad Autónoma de Buenos Aires'},\n",
       "   'ubicacion': {'lat': -34.5944399212952, 'lon': -58.4023531671055}}],\n",
       " 'inicio': 0,\n",
       " 'parametros': {'direccion': {'altura': {'unidad': None, 'valor': None},\n",
       "   'calles': ['santa fe', 'pueyrredon'],\n",
       "   'piso': None,\n",
       "   'tipo': 'interseccion'},\n",
       "  'provincia': ['02']},\n",
       " 'total': 1}"
      ]
     },
     "execution_count": 35,
     "metadata": {},
     "output_type": "execute_result"
    }
   ],
   "source": [
    "requests.get(\n",
    "    'https://apis.datos.gob.ar/georef/api/direcciones?direccion=santa fe y pueyrredon&provincia=02'\n",
    ").json()"
   ]
  },
  {
   "cell_type": "code",
   "execution_count": 36,
   "metadata": {},
   "outputs": [
    {
     "data": {
      "text/plain": [
       "{'cantidad': 1,\n",
       " 'direcciones': [{'altura': {'unidad': None, 'valor': None},\n",
       "   'calle': {'categoria': 'AV',\n",
       "    'id': '0201401001740',\n",
       "    'nombre': 'AV SANTA FE'},\n",
       "   'calle_cruce_1': {'categoria': 'AV',\n",
       "    'id': '0201401001675',\n",
       "    'nombre': 'AV PUEYRREDON'},\n",
       "   'calle_cruce_2': {'categoria': None, 'id': None, 'nombre': None},\n",
       "   'departamento': {'id': '02014', 'nombre': 'Comuna 2'},\n",
       "   'localidad_censal': {'id': '02000010',\n",
       "    'nombre': 'Ciudad Autónoma de Buenos Aires'},\n",
       "   'nomenclatura': 'AV SANTA FE (ESQUINA AV PUEYRREDON), Comuna 2, Ciudad Autónoma de Buenos Aires',\n",
       "   'piso': None,\n",
       "   'provincia': {'id': '02', 'nombre': 'Ciudad Autónoma de Buenos Aires'},\n",
       "   'ubicacion': {'lat': -34.5944399212952, 'lon': -58.4023531671055}}],\n",
       " 'inicio': 0,\n",
       " 'parametros': {'direccion': {'altura': {'unidad': None, 'valor': None},\n",
       "   'calles': ['santa fe', 'pueyrredon'],\n",
       "   'piso': None,\n",
       "   'tipo': 'interseccion'},\n",
       "  'provincia': ['02']},\n",
       " 'total': 1}"
      ]
     },
     "execution_count": 36,
     "metadata": {},
     "output_type": "execute_result"
    }
   ],
   "source": [
    "requests.get(\n",
    "    'https://apis.datos.gob.ar/georef/api/direcciones?direccion=santa fe (esq pueyrredon)&provincia=02'\n",
    ").json()"
   ]
  },
  {
   "cell_type": "markdown",
   "metadata": {},
   "source": [
    "**Ejercicio**: Genera un dataframe con direcciones para georreferenciar, que se pueda usar en la funcion de abajo. "
   ]
  },
  {
   "cell_type": "code",
   "execution_count": 37,
   "metadata": {},
   "outputs": [],
   "source": [
    "# completa con direcciones y la provincia a la que pertenecen\n",
    "direcciones = pd.DataFrame([\n",
    "    {'direccion': 'balcarce 50', 'provincia': '02'},\n",
    "    {'direccion': 'balcarce 50', 'provincia': '02'},\n",
    "    {'direccion': 'balcarce 50', 'provincia': '02'},\n",
    "    {'direccion': 'balcarce 50', 'provincia': '02'},\n",
    "    {'direccion': 'balcarce 50', 'provincia': '02'},\n",
    "])"
   ]
  },
  {
   "cell_type": "code",
   "execution_count": 38,
   "metadata": {},
   "outputs": [
    {
     "data": {
      "text/html": [
       "<div>\n",
       "<style scoped>\n",
       "    .dataframe tbody tr th:only-of-type {\n",
       "        vertical-align: middle;\n",
       "    }\n",
       "\n",
       "    .dataframe tbody tr th {\n",
       "        vertical-align: top;\n",
       "    }\n",
       "\n",
       "    .dataframe thead th {\n",
       "        text-align: right;\n",
       "    }\n",
       "</style>\n",
       "<table border=\"1\" class=\"dataframe\">\n",
       "  <thead>\n",
       "    <tr style=\"text-align: right;\">\n",
       "      <th></th>\n",
       "      <th>direccion_normalizada</th>\n",
       "      <th>latitud</th>\n",
       "      <th>longitud</th>\n",
       "      <th>provincia_id</th>\n",
       "      <th>provincia_nombre</th>\n",
       "    </tr>\n",
       "  </thead>\n",
       "  <tbody>\n",
       "    <tr>\n",
       "      <td>0</td>\n",
       "      <td>BALCARCE 50, Comuna 1, Ciudad Autónoma de Buen...</td>\n",
       "      <td>-34.608341</td>\n",
       "      <td>-58.370885</td>\n",
       "      <td>02</td>\n",
       "      <td>Ciudad Autónoma de Buenos Aires</td>\n",
       "    </tr>\n",
       "    <tr>\n",
       "      <td>1</td>\n",
       "      <td>BALCARCE 50, Comuna 1, Ciudad Autónoma de Buen...</td>\n",
       "      <td>-34.608341</td>\n",
       "      <td>-58.370885</td>\n",
       "      <td>02</td>\n",
       "      <td>Ciudad Autónoma de Buenos Aires</td>\n",
       "    </tr>\n",
       "    <tr>\n",
       "      <td>2</td>\n",
       "      <td>BALCARCE 50, Comuna 1, Ciudad Autónoma de Buen...</td>\n",
       "      <td>-34.608341</td>\n",
       "      <td>-58.370885</td>\n",
       "      <td>02</td>\n",
       "      <td>Ciudad Autónoma de Buenos Aires</td>\n",
       "    </tr>\n",
       "    <tr>\n",
       "      <td>3</td>\n",
       "      <td>BALCARCE 50, Comuna 1, Ciudad Autónoma de Buen...</td>\n",
       "      <td>-34.608341</td>\n",
       "      <td>-58.370885</td>\n",
       "      <td>02</td>\n",
       "      <td>Ciudad Autónoma de Buenos Aires</td>\n",
       "    </tr>\n",
       "    <tr>\n",
       "      <td>4</td>\n",
       "      <td>BALCARCE 50, Comuna 1, Ciudad Autónoma de Buen...</td>\n",
       "      <td>-34.608341</td>\n",
       "      <td>-58.370885</td>\n",
       "      <td>02</td>\n",
       "      <td>Ciudad Autónoma de Buenos Aires</td>\n",
       "    </tr>\n",
       "  </tbody>\n",
       "</table>\n",
       "</div>"
      ],
      "text/plain": [
       "                               direccion_normalizada    latitud   longitud  \\\n",
       "0  BALCARCE 50, Comuna 1, Ciudad Autónoma de Buen... -34.608341 -58.370885   \n",
       "1  BALCARCE 50, Comuna 1, Ciudad Autónoma de Buen... -34.608341 -58.370885   \n",
       "2  BALCARCE 50, Comuna 1, Ciudad Autónoma de Buen... -34.608341 -58.370885   \n",
       "3  BALCARCE 50, Comuna 1, Ciudad Autónoma de Buen... -34.608341 -58.370885   \n",
       "4  BALCARCE 50, Comuna 1, Ciudad Autónoma de Buen... -34.608341 -58.370885   \n",
       "\n",
       "  provincia_id                 provincia_nombre  \n",
       "0           02  Ciudad Autónoma de Buenos Aires  \n",
       "1           02  Ciudad Autónoma de Buenos Aires  \n",
       "2           02  Ciudad Autónoma de Buenos Aires  \n",
       "3           02  Ciudad Autónoma de Buenos Aires  \n",
       "4           02  Ciudad Autónoma de Buenos Aires  "
      ]
     },
     "execution_count": 38,
     "metadata": {},
     "output_type": "execute_result"
    }
   ],
   "source": [
    "direcciones_georreferenciadas = helpers.georreferenciar_direcciones(\n",
    "    direcciones[['direccion', 'provincia']],\n",
    "    nombre_campo='direccion',\n",
    "    provincia_campo='provincia',\n",
    ")\n",
    "direcciones_georreferenciadas"
   ]
  },
  {
   "cell_type": "markdown",
   "metadata": {},
   "source": [
    "### Georreferenciación inversa "
   ]
  },
  {
   "cell_type": "markdown",
   "metadata": {},
   "source": [
    "La funcionalidad de **georreferenciacion inversa** toma un punto de coordenadas y devuelve aquellas unidades territoriales que lo contienen.\n",
    "\n",
    "No es esctrictamente una funcion georreferenciacion inversa en realidad, ya que no devuelve una aproximacion de la direccion a la que pertenece ese punto de coordenadas, solo devuelve las unidades territoriales que contienen al punto.\n",
    "\n",
    "Esta funcion es muy util cuando ya se tiene un dataset con coordenadas, pero queremos tener tambien las columnas de provincias, departamentos y municipios."
   ]
  },
  {
   "cell_type": "code",
   "execution_count": 39,
   "metadata": {},
   "outputs": [
    {
     "data": {
      "text/plain": [
       "{'parametros': {'lat': -34.6037389, 'lon': -58.3815704},\n",
       " 'ubicacion': {'departamento': {'id': '02007', 'nombre': 'Comuna 1'},\n",
       "  'lat': -34.6037389,\n",
       "  'lon': -58.3815704,\n",
       "  'municipio': {'id': None, 'nombre': None},\n",
       "  'provincia': {'id': '02', 'nombre': 'Ciudad Autónoma de Buenos Aires'}}}"
      ]
     },
     "execution_count": 39,
     "metadata": {},
     "output_type": "execute_result"
    }
   ],
   "source": [
    "requests.get(\n",
    "    'https://apis.datos.gob.ar/georef/api/ubicacion?lat=-34.6037389&lon=-58.3815704'\n",
    ").json()"
   ]
  },
  {
   "cell_type": "code",
   "execution_count": 40,
   "metadata": {},
   "outputs": [
    {
     "data": {
      "text/plain": [
       "{'parametros': {'lat': -32.9477132, 'lon': -60.6304658},\n",
       " 'ubicacion': {'departamento': {'id': '82084', 'nombre': 'Rosario'},\n",
       "  'lat': -32.9477132,\n",
       "  'lon': -60.6304658,\n",
       "  'municipio': {'id': None, 'nombre': None},\n",
       "  'provincia': {'id': '82', 'nombre': 'Santa Fe'}}}"
      ]
     },
     "execution_count": 40,
     "metadata": {},
     "output_type": "execute_result"
    }
   ],
   "source": [
    "requests.get(\n",
    "    'https://apis.datos.gob.ar/georef/api/ubicacion?lat=-32.9477132&lon=-60.6304658'\n",
    ").json()"
   ]
  },
  {
   "cell_type": "code",
   "execution_count": 41,
   "metadata": {},
   "outputs": [
    {
     "data": {
      "text/plain": [
       "{'parametros': {'lat': -38.0048387, 'lon': -57.5483175},\n",
       " 'ubicacion': {'departamento': {'id': '06357', 'nombre': 'General Pueyrredón'},\n",
       "  'lat': -38.0048387,\n",
       "  'lon': -57.5483175,\n",
       "  'municipio': {'id': '060357', 'nombre': 'General Pueyrredón'},\n",
       "  'provincia': {'id': '06', 'nombre': 'Buenos Aires'}}}"
      ]
     },
     "execution_count": 41,
     "metadata": {},
     "output_type": "execute_result"
    }
   ],
   "source": [
    "requests.get(\n",
    "    'https://apis.datos.gob.ar/georef/api/ubicacion?lat=-38.0048387&lon=-57.5483175'\n",
    ").json()"
   ]
  },
  {
   "cell_type": "markdown",
   "metadata": {},
   "source": [
    "Por ejemplo, si tenemos las coordenadas de todos los aeropuertos del pais, podemos agregarle facilmente los codigos y nombres oficiales de las provincias, departamentos y municipios que los contienen."
   ]
  },
  {
   "cell_type": "code",
   "execution_count": 42,
   "metadata": {},
   "outputs": [],
   "source": [
    "aeropuertos = pd.read_csv(\n",
    "    'https://servicios.transporte.gob.ar/gobierno_abierto/descargar.php?t=aeropuertos&d=detalle',\n",
    "    sep=';'\n",
    ")"
   ]
  },
  {
   "cell_type": "code",
   "execution_count": 43,
   "metadata": {},
   "outputs": [
    {
     "data": {
      "text/html": [
       "<div>\n",
       "<style scoped>\n",
       "    .dataframe tbody tr th:only-of-type {\n",
       "        vertical-align: middle;\n",
       "    }\n",
       "\n",
       "    .dataframe tbody tr th {\n",
       "        vertical-align: top;\n",
       "    }\n",
       "\n",
       "    .dataframe thead th {\n",
       "        text-align: right;\n",
       "    }\n",
       "</style>\n",
       "<table border=\"1\" class=\"dataframe\">\n",
       "  <thead>\n",
       "    <tr style=\"text-align: right;\">\n",
       "      <th></th>\n",
       "      <th>local</th>\n",
       "      <th>oaci</th>\n",
       "      <th>iata</th>\n",
       "      <th>tipo</th>\n",
       "      <th>denominacion</th>\n",
       "      <th>coordenadas</th>\n",
       "      <th>latitud</th>\n",
       "      <th>longitud</th>\n",
       "      <th>elev</th>\n",
       "      <th>uom_elev</th>\n",
       "      <th>...</th>\n",
       "      <th>condicion</th>\n",
       "      <th>control</th>\n",
       "      <th>region</th>\n",
       "      <th>fir</th>\n",
       "      <th>uso</th>\n",
       "      <th>trafico</th>\n",
       "      <th>sna</th>\n",
       "      <th>concesionado</th>\n",
       "      <th>provincia</th>\n",
       "      <th>inhab</th>\n",
       "    </tr>\n",
       "  </thead>\n",
       "  <tbody>\n",
       "    <tr>\n",
       "      <td>0</td>\n",
       "      <td>ACB</td>\n",
       "      <td>NaN</td>\n",
       "      <td>NaN</td>\n",
       "      <td>Aeródromo</td>\n",
       "      <td>CORONEL BOGADO/AGROSERVICIOS</td>\n",
       "      <td>33°16'20\"S  60°34'14\"W</td>\n",
       "      <td>-60.570660</td>\n",
       "      <td>-33.272260</td>\n",
       "      <td>44.0</td>\n",
       "      <td>Metros</td>\n",
       "      <td>...</td>\n",
       "      <td>PRIVADO</td>\n",
       "      <td>NOCONTROL</td>\n",
       "      <td>RACE</td>\n",
       "      <td>SAEF</td>\n",
       "      <td>AEROAPP</td>\n",
       "      <td>Nacional</td>\n",
       "      <td>NO</td>\n",
       "      <td>NO</td>\n",
       "      <td>SANTA FÉ</td>\n",
       "      <td>NO</td>\n",
       "    </tr>\n",
       "    <tr>\n",
       "      <td>1</td>\n",
       "      <td>ACH</td>\n",
       "      <td>NaN</td>\n",
       "      <td>NaN</td>\n",
       "      <td>Aeródromo</td>\n",
       "      <td>GENERAL ACHA</td>\n",
       "      <td>37°24' 6\"S  64°36'49\"W</td>\n",
       "      <td>-64.613510</td>\n",
       "      <td>-37.401640</td>\n",
       "      <td>277.0</td>\n",
       "      <td>Metros</td>\n",
       "      <td>...</td>\n",
       "      <td>PUBLICO</td>\n",
       "      <td>NOCONTROL</td>\n",
       "      <td>RACE</td>\n",
       "      <td>SAEF</td>\n",
       "      <td>CIVIL</td>\n",
       "      <td>Nacional</td>\n",
       "      <td>NO</td>\n",
       "      <td>NO</td>\n",
       "      <td>LA PAMPA</td>\n",
       "      <td>NO</td>\n",
       "    </tr>\n",
       "    <tr>\n",
       "      <td>2</td>\n",
       "      <td>ACM</td>\n",
       "      <td>NaN</td>\n",
       "      <td>NaN</td>\n",
       "      <td>Aeródromo</td>\n",
       "      <td>ARRECIFES/LA CURA MALAL</td>\n",
       "      <td>34° 4'33\"S  60° 8'30\"W</td>\n",
       "      <td>-60.141700</td>\n",
       "      <td>-34.075740</td>\n",
       "      <td>37.0</td>\n",
       "      <td>Metros</td>\n",
       "      <td>...</td>\n",
       "      <td>PRIVADO</td>\n",
       "      <td>NOCONTROL</td>\n",
       "      <td>RACE</td>\n",
       "      <td>SAEF</td>\n",
       "      <td>CIVIL</td>\n",
       "      <td>Nacional</td>\n",
       "      <td>NO</td>\n",
       "      <td>NO</td>\n",
       "      <td>BUENOS AIRES</td>\n",
       "      <td>NO</td>\n",
       "    </tr>\n",
       "    <tr>\n",
       "      <td>3</td>\n",
       "      <td>ADO</td>\n",
       "      <td>SAWD</td>\n",
       "      <td>PUD</td>\n",
       "      <td>Aeródromo</td>\n",
       "      <td>PUERTO DESEADO</td>\n",
       "      <td>47°44' 6\"S  65°54'15\"W</td>\n",
       "      <td>-65.904100</td>\n",
       "      <td>-47.735110</td>\n",
       "      <td>82.0</td>\n",
       "      <td>Metros</td>\n",
       "      <td>...</td>\n",
       "      <td>PUBLICO</td>\n",
       "      <td>AERADIO</td>\n",
       "      <td>RASU</td>\n",
       "      <td>SAVF</td>\n",
       "      <td>CIVIL</td>\n",
       "      <td>Nacional</td>\n",
       "      <td>NO</td>\n",
       "      <td>NO</td>\n",
       "      <td>SANTA CRUZ</td>\n",
       "      <td>NO</td>\n",
       "    </tr>\n",
       "    <tr>\n",
       "      <td>4</td>\n",
       "      <td>ADT</td>\n",
       "      <td>NaN</td>\n",
       "      <td>NaN</td>\n",
       "      <td>Aeródromo</td>\n",
       "      <td>BANDERA/AGROSERVICIOS DOÑA TERESA</td>\n",
       "      <td>28°51'19\"S  62°15'53\"W</td>\n",
       "      <td>-62.264620</td>\n",
       "      <td>-28.855410</td>\n",
       "      <td>75.0</td>\n",
       "      <td>Metros</td>\n",
       "      <td>...</td>\n",
       "      <td>PRIVADO</td>\n",
       "      <td>NOCONTROL</td>\n",
       "      <td>RANO</td>\n",
       "      <td>SACF</td>\n",
       "      <td>AEROAPP</td>\n",
       "      <td>Nacional</td>\n",
       "      <td>NO</td>\n",
       "      <td>NO</td>\n",
       "      <td>SANTIAGO DEL ESTERO</td>\n",
       "      <td>NO</td>\n",
       "    </tr>\n",
       "    <tr>\n",
       "      <td>...</td>\n",
       "      <td>...</td>\n",
       "      <td>...</td>\n",
       "      <td>...</td>\n",
       "      <td>...</td>\n",
       "      <td>...</td>\n",
       "      <td>...</td>\n",
       "      <td>...</td>\n",
       "      <td>...</td>\n",
       "      <td>...</td>\n",
       "      <td>...</td>\n",
       "      <td>...</td>\n",
       "      <td>...</td>\n",
       "      <td>...</td>\n",
       "      <td>...</td>\n",
       "      <td>...</td>\n",
       "      <td>...</td>\n",
       "      <td>...</td>\n",
       "      <td>...</td>\n",
       "      <td>...</td>\n",
       "      <td>...</td>\n",
       "      <td>...</td>\n",
       "    </tr>\n",
       "    <tr>\n",
       "      <td>688</td>\n",
       "      <td>YOS</td>\n",
       "      <td>SAZH</td>\n",
       "      <td>OYO</td>\n",
       "      <td>Aeródromo</td>\n",
       "      <td>TRES ARROYOS</td>\n",
       "      <td>38°23' 8\"S  60°19'39\"W</td>\n",
       "      <td>-60.327500</td>\n",
       "      <td>-38.385556</td>\n",
       "      <td>122.0</td>\n",
       "      <td>Metros</td>\n",
       "      <td>...</td>\n",
       "      <td>PUBLICO</td>\n",
       "      <td>NOCONTROL</td>\n",
       "      <td>RACE</td>\n",
       "      <td>SAEF</td>\n",
       "      <td>NaN</td>\n",
       "      <td>Nacional</td>\n",
       "      <td>NO</td>\n",
       "      <td>NO</td>\n",
       "      <td>BUENOS AIRES</td>\n",
       "      <td>NO</td>\n",
       "    </tr>\n",
       "    <tr>\n",
       "      <td>689</td>\n",
       "      <td>YPY</td>\n",
       "      <td>NaN</td>\n",
       "      <td>NaN</td>\n",
       "      <td>Aeródromo</td>\n",
       "      <td>YAPEYÚ</td>\n",
       "      <td>29°21'32\"S  56°47'45\"W</td>\n",
       "      <td>-56.795730</td>\n",
       "      <td>-29.358770</td>\n",
       "      <td>53.0</td>\n",
       "      <td>Metros</td>\n",
       "      <td>...</td>\n",
       "      <td>PRIVADO</td>\n",
       "      <td>NOCONTROL</td>\n",
       "      <td>RANE</td>\n",
       "      <td>SARR</td>\n",
       "      <td>NaN</td>\n",
       "      <td>Nacional</td>\n",
       "      <td>NO</td>\n",
       "      <td>NO</td>\n",
       "      <td>CORRIENTES</td>\n",
       "      <td>NO</td>\n",
       "    </tr>\n",
       "    <tr>\n",
       "      <td>690</td>\n",
       "      <td>ZAP</td>\n",
       "      <td>SAHZ</td>\n",
       "      <td>APZ</td>\n",
       "      <td>Aeródromo</td>\n",
       "      <td>ZAPALA</td>\n",
       "      <td>38°58'33\"S  70° 6'48\"W</td>\n",
       "      <td>-70.113464</td>\n",
       "      <td>-38.975886</td>\n",
       "      <td>1048.0</td>\n",
       "      <td>Metros</td>\n",
       "      <td>...</td>\n",
       "      <td>PUBLICO</td>\n",
       "      <td>NOCONTROL</td>\n",
       "      <td>RACE</td>\n",
       "      <td>SAEF</td>\n",
       "      <td>NaN</td>\n",
       "      <td>Nacional</td>\n",
       "      <td>NO</td>\n",
       "      <td>NO</td>\n",
       "      <td>NEUQUÉN</td>\n",
       "      <td>NO</td>\n",
       "    </tr>\n",
       "    <tr>\n",
       "      <td>691</td>\n",
       "      <td>ZLM</td>\n",
       "      <td>NaN</td>\n",
       "      <td>NaN</td>\n",
       "      <td>Aeródromo</td>\n",
       "      <td>BELL VILLE/LA ZULEMA</td>\n",
       "      <td>32°29'23\"S  62°40'17\"W</td>\n",
       "      <td>-62.671389</td>\n",
       "      <td>-32.489722</td>\n",
       "      <td>129.0</td>\n",
       "      <td>Metros</td>\n",
       "      <td>...</td>\n",
       "      <td>PRIVADO</td>\n",
       "      <td>NOCONTROL</td>\n",
       "      <td>RANO</td>\n",
       "      <td>SACF</td>\n",
       "      <td>AEROAPP</td>\n",
       "      <td>Nacional</td>\n",
       "      <td>NO</td>\n",
       "      <td>NO</td>\n",
       "      <td>CÓRDOBA</td>\n",
       "      <td>NO</td>\n",
       "    </tr>\n",
       "    <tr>\n",
       "      <td>692</td>\n",
       "      <td>ZUL</td>\n",
       "      <td>SAZA</td>\n",
       "      <td>NaN</td>\n",
       "      <td>Aeródromo</td>\n",
       "      <td>AZUL</td>\n",
       "      <td>36°50'12\"S  59°52'51\"W</td>\n",
       "      <td>-59.880800</td>\n",
       "      <td>-36.836750</td>\n",
       "      <td>146.0</td>\n",
       "      <td>Metros</td>\n",
       "      <td>...</td>\n",
       "      <td>PUBLICO</td>\n",
       "      <td>NOCONTROL</td>\n",
       "      <td>RACE</td>\n",
       "      <td>SAEF</td>\n",
       "      <td>CIVIL</td>\n",
       "      <td>Nacional</td>\n",
       "      <td>NO</td>\n",
       "      <td>NO</td>\n",
       "      <td>BUENOS AIRES</td>\n",
       "      <td>NO</td>\n",
       "    </tr>\n",
       "  </tbody>\n",
       "</table>\n",
       "<p>693 rows × 23 columns</p>\n",
       "</div>"
      ],
      "text/plain": [
       "    local  oaci iata       tipo                       denominacion  \\\n",
       "0     ACB   NaN  NaN  Aeródromo       CORONEL BOGADO/AGROSERVICIOS   \n",
       "1     ACH   NaN  NaN  Aeródromo                       GENERAL ACHA   \n",
       "2     ACM   NaN  NaN  Aeródromo            ARRECIFES/LA CURA MALAL   \n",
       "3     ADO  SAWD  PUD  Aeródromo                     PUERTO DESEADO   \n",
       "4     ADT   NaN  NaN  Aeródromo  BANDERA/AGROSERVICIOS DOÑA TERESA   \n",
       "..    ...   ...  ...        ...                                ...   \n",
       "688   YOS  SAZH  OYO  Aeródromo                       TRES ARROYOS   \n",
       "689   YPY   NaN  NaN  Aeródromo                             YAPEYÚ   \n",
       "690   ZAP  SAHZ  APZ  Aeródromo                             ZAPALA   \n",
       "691   ZLM   NaN  NaN  Aeródromo               BELL VILLE/LA ZULEMA   \n",
       "692   ZUL  SAZA  NaN  Aeródromo                               AZUL   \n",
       "\n",
       "                coordenadas    latitud   longitud    elev uom_elev  ...  \\\n",
       "0    33°16'20\"S  60°34'14\"W -60.570660 -33.272260    44.0   Metros  ...   \n",
       "1    37°24' 6\"S  64°36'49\"W -64.613510 -37.401640   277.0   Metros  ...   \n",
       "2    34° 4'33\"S  60° 8'30\"W -60.141700 -34.075740    37.0   Metros  ...   \n",
       "3    47°44' 6\"S  65°54'15\"W -65.904100 -47.735110    82.0   Metros  ...   \n",
       "4    28°51'19\"S  62°15'53\"W -62.264620 -28.855410    75.0   Metros  ...   \n",
       "..                      ...        ...        ...     ...      ...  ...   \n",
       "688  38°23' 8\"S  60°19'39\"W -60.327500 -38.385556   122.0   Metros  ...   \n",
       "689  29°21'32\"S  56°47'45\"W -56.795730 -29.358770    53.0   Metros  ...   \n",
       "690  38°58'33\"S  70° 6'48\"W -70.113464 -38.975886  1048.0   Metros  ...   \n",
       "691  32°29'23\"S  62°40'17\"W -62.671389 -32.489722   129.0   Metros  ...   \n",
       "692  36°50'12\"S  59°52'51\"W -59.880800 -36.836750   146.0   Metros  ...   \n",
       "\n",
       "    condicion    control region   fir      uso   trafico sna concesionado  \\\n",
       "0     PRIVADO  NOCONTROL   RACE  SAEF  AEROAPP  Nacional  NO           NO   \n",
       "1     PUBLICO  NOCONTROL   RACE  SAEF    CIVIL  Nacional  NO           NO   \n",
       "2     PRIVADO  NOCONTROL   RACE  SAEF    CIVIL  Nacional  NO           NO   \n",
       "3     PUBLICO    AERADIO   RASU  SAVF    CIVIL  Nacional  NO           NO   \n",
       "4     PRIVADO  NOCONTROL   RANO  SACF  AEROAPP  Nacional  NO           NO   \n",
       "..        ...        ...    ...   ...      ...       ...  ..          ...   \n",
       "688   PUBLICO  NOCONTROL   RACE  SAEF      NaN  Nacional  NO           NO   \n",
       "689   PRIVADO  NOCONTROL   RANE  SARR      NaN  Nacional  NO           NO   \n",
       "690   PUBLICO  NOCONTROL   RACE  SAEF      NaN  Nacional  NO           NO   \n",
       "691   PRIVADO  NOCONTROL   RANO  SACF  AEROAPP  Nacional  NO           NO   \n",
       "692   PUBLICO  NOCONTROL   RACE  SAEF    CIVIL  Nacional  NO           NO   \n",
       "\n",
       "               provincia inhab  \n",
       "0               SANTA FÉ    NO  \n",
       "1               LA PAMPA    NO  \n",
       "2           BUENOS AIRES    NO  \n",
       "3             SANTA CRUZ    NO  \n",
       "4    SANTIAGO DEL ESTERO    NO  \n",
       "..                   ...   ...  \n",
       "688         BUENOS AIRES    NO  \n",
       "689           CORRIENTES    NO  \n",
       "690              NEUQUÉN    NO  \n",
       "691              CÓRDOBA    NO  \n",
       "692         BUENOS AIRES    NO  \n",
       "\n",
       "[693 rows x 23 columns]"
      ]
     },
     "execution_count": 43,
     "metadata": {},
     "output_type": "execute_result"
    }
   ],
   "source": [
    "aeropuertos"
   ]
  },
  {
   "cell_type": "markdown",
   "metadata": {},
   "source": [
    "Notemos que el dataset tiene un error! Los nombres de las columnas latitud y longitud, estan invertidos."
   ]
  },
  {
   "cell_type": "code",
   "execution_count": 44,
   "metadata": {},
   "outputs": [
    {
     "data": {
      "text/plain": [
       "{'parametros': {'lat': -60.57066, 'lon': -33.27226},\n",
       " 'ubicacion': {'departamento': {'id': None, 'nombre': None},\n",
       "  'lat': -60.57066,\n",
       "  'lon': -33.27226,\n",
       "  'municipio': {'id': None, 'nombre': None},\n",
       "  'provincia': {'id': None, 'nombre': None}}}"
      ]
     },
     "execution_count": 44,
     "metadata": {},
     "output_type": "execute_result"
    }
   ],
   "source": [
    "lat = aeropuertos.iloc[0]['latitud']\n",
    "lon = aeropuertos.iloc[0]['longitud']\n",
    "\n",
    "requests.get(\n",
    "    f'https://apis.datos.gob.ar/georef/api/ubicacion?lat={lat}&lon={lon}'\n",
    ").json()"
   ]
  },
  {
   "cell_type": "code",
   "execution_count": 45,
   "metadata": {},
   "outputs": [
    {
     "data": {
      "text/plain": [
       "{'parametros': {'lat': -33.27226, 'lon': -60.57066},\n",
       " 'ubicacion': {'departamento': {'id': '82084', 'nombre': 'Rosario'},\n",
       "  'lat': -33.27226,\n",
       "  'lon': -60.57066,\n",
       "  'municipio': {'id': '823393', 'nombre': 'Coronel Bogado'},\n",
       "  'provincia': {'id': '82', 'nombre': 'Santa Fe'}}}"
      ]
     },
     "execution_count": 45,
     "metadata": {},
     "output_type": "execute_result"
    }
   ],
   "source": [
    "lat = aeropuertos.iloc[0]['longitud']\n",
    "lon = aeropuertos.iloc[0]['latitud']\n",
    "\n",
    "requests.get(\n",
    "    f'https://apis.datos.gob.ar/georef/api/ubicacion?lat={lat}&lon={lon}'\n",
    ").json()"
   ]
  },
  {
   "cell_type": "markdown",
   "metadata": {},
   "source": [
    "Alcanza con notar esto para poder especifiar los nombres invertidos en la funcion."
   ]
  },
  {
   "cell_type": "code",
   "execution_count": 46,
   "metadata": {},
   "outputs": [
    {
     "data": {
      "text/html": [
       "<div>\n",
       "<style scoped>\n",
       "    .dataframe tbody tr th:only-of-type {\n",
       "        vertical-align: middle;\n",
       "    }\n",
       "\n",
       "    .dataframe tbody tr th {\n",
       "        vertical-align: top;\n",
       "    }\n",
       "\n",
       "    .dataframe thead th {\n",
       "        text-align: right;\n",
       "    }\n",
       "</style>\n",
       "<table border=\"1\" class=\"dataframe\">\n",
       "  <thead>\n",
       "    <tr style=\"text-align: right;\">\n",
       "      <th></th>\n",
       "      <th>provincia_id</th>\n",
       "      <th>provincia_nombre</th>\n",
       "      <th>departamento_id</th>\n",
       "      <th>departamento_nombre</th>\n",
       "      <th>municipio_id</th>\n",
       "      <th>municipio_nombre</th>\n",
       "    </tr>\n",
       "  </thead>\n",
       "  <tbody>\n",
       "    <tr>\n",
       "      <td>0</td>\n",
       "      <td>82</td>\n",
       "      <td>Santa Fe</td>\n",
       "      <td>82084</td>\n",
       "      <td>Rosario</td>\n",
       "      <td>823393</td>\n",
       "      <td>Coronel Bogado</td>\n",
       "    </tr>\n",
       "    <tr>\n",
       "      <td>1</td>\n",
       "      <td>42</td>\n",
       "      <td>La Pampa</td>\n",
       "      <td>42154</td>\n",
       "      <td>Utracán</td>\n",
       "      <td>420133</td>\n",
       "      <td>General Acha</td>\n",
       "    </tr>\n",
       "    <tr>\n",
       "      <td>2</td>\n",
       "      <td>06</td>\n",
       "      <td>Buenos Aires</td>\n",
       "      <td>06077</td>\n",
       "      <td>Arrecifes</td>\n",
       "      <td>060077</td>\n",
       "      <td>Arrecifes</td>\n",
       "    </tr>\n",
       "    <tr>\n",
       "      <td>3</td>\n",
       "      <td>78</td>\n",
       "      <td>Santa Cruz</td>\n",
       "      <td>78014</td>\n",
       "      <td>Deseado</td>\n",
       "      <td>None</td>\n",
       "      <td>None</td>\n",
       "    </tr>\n",
       "    <tr>\n",
       "      <td>4</td>\n",
       "      <td>86</td>\n",
       "      <td>Santiago del Estero</td>\n",
       "      <td>86077</td>\n",
       "      <td>General Taboada</td>\n",
       "      <td>None</td>\n",
       "      <td>None</td>\n",
       "    </tr>\n",
       "    <tr>\n",
       "      <td>...</td>\n",
       "      <td>...</td>\n",
       "      <td>...</td>\n",
       "      <td>...</td>\n",
       "      <td>...</td>\n",
       "      <td>...</td>\n",
       "      <td>...</td>\n",
       "    </tr>\n",
       "    <tr>\n",
       "      <td>688</td>\n",
       "      <td>06</td>\n",
       "      <td>Buenos Aires</td>\n",
       "      <td>06833</td>\n",
       "      <td>Tres Arroyos</td>\n",
       "      <td>060833</td>\n",
       "      <td>Tres Arroyos</td>\n",
       "    </tr>\n",
       "    <tr>\n",
       "      <td>689</td>\n",
       "      <td>18</td>\n",
       "      <td>Corrientes</td>\n",
       "      <td>18147</td>\n",
       "      <td>San Martín</td>\n",
       "      <td>180378</td>\n",
       "      <td>Yapeyú</td>\n",
       "    </tr>\n",
       "    <tr>\n",
       "      <td>690</td>\n",
       "      <td>58</td>\n",
       "      <td>Neuquén</td>\n",
       "      <td>58112</td>\n",
       "      <td>Zapala</td>\n",
       "      <td>580245</td>\n",
       "      <td>Zapala</td>\n",
       "    </tr>\n",
       "    <tr>\n",
       "      <td>691</td>\n",
       "      <td>14</td>\n",
       "      <td>Córdoba</td>\n",
       "      <td>14182</td>\n",
       "      <td>Unión</td>\n",
       "      <td>None</td>\n",
       "      <td>None</td>\n",
       "    </tr>\n",
       "    <tr>\n",
       "      <td>692</td>\n",
       "      <td>06</td>\n",
       "      <td>Buenos Aires</td>\n",
       "      <td>06049</td>\n",
       "      <td>Azul</td>\n",
       "      <td>060049</td>\n",
       "      <td>Azul</td>\n",
       "    </tr>\n",
       "  </tbody>\n",
       "</table>\n",
       "<p>693 rows × 6 columns</p>\n",
       "</div>"
      ],
      "text/plain": [
       "    provincia_id     provincia_nombre departamento_id departamento_nombre  \\\n",
       "0             82             Santa Fe           82084             Rosario   \n",
       "1             42             La Pampa           42154             Utracán   \n",
       "2             06         Buenos Aires           06077           Arrecifes   \n",
       "3             78           Santa Cruz           78014             Deseado   \n",
       "4             86  Santiago del Estero           86077     General Taboada   \n",
       "..           ...                  ...             ...                 ...   \n",
       "688           06         Buenos Aires           06833        Tres Arroyos   \n",
       "689           18           Corrientes           18147          San Martín   \n",
       "690           58              Neuquén           58112              Zapala   \n",
       "691           14              Córdoba           14182               Unión   \n",
       "692           06         Buenos Aires           06049                Azul   \n",
       "\n",
       "    municipio_id municipio_nombre  \n",
       "0         823393   Coronel Bogado  \n",
       "1         420133     General Acha  \n",
       "2         060077        Arrecifes  \n",
       "3           None             None  \n",
       "4           None             None  \n",
       "..           ...              ...  \n",
       "688       060833     Tres Arroyos  \n",
       "689       180378           Yapeyú  \n",
       "690       580245           Zapala  \n",
       "691         None             None  \n",
       "692       060049             Azul  \n",
       "\n",
       "[693 rows x 6 columns]"
      ]
     },
     "execution_count": 46,
     "metadata": {},
     "output_type": "execute_result"
    }
   ],
   "source": [
    "unidades_territoriales = helpers.ubicar_coordenadas(\n",
    "    aeropuertos[['latitud', 'longitud']],\n",
    "    'longitud', 'latitud'\n",
    ")\n",
    "unidades_territoriales"
   ]
  },
  {
   "cell_type": "markdown",
   "metadata": {},
   "source": [
    "**Ejercicio**: ubica las coordenadas de las estaciones de medicion de recursos hidricos (https://datos.mininterior.gob.ar/dataset/93913deb-d22e-4c0d-bca3-f465e7b2bb94/resource/26d292a4-4d7f-48e1-872a-50a0dca35386/download/estacioneslatlong.csv) en sus unidades territoriales. Tene en cuenta que este dataset **esta codificado en 'latin1'**. Tenes que especificar la codificacion en la llamada pd.read_csv() para que lo lea sin errores."
   ]
  },
  {
   "cell_type": "code",
   "execution_count": null,
   "metadata": {},
   "outputs": [],
   "source": []
  },
  {
   "cell_type": "markdown",
   "metadata": {},
   "source": [
    "##  API Nominatim"
   ]
  },
  {
   "cell_type": "markdown",
   "metadata": {},
   "source": [
    "https://nominatim.org/"
   ]
  },
  {
   "cell_type": "markdown",
   "metadata": {},
   "source": [
    "Por supuesto, la API Georef del Estado Nacional no es la unica API de georreferenciacion que podes usar, existen muchas otras con distintos alcances y funcionalides.\n",
    "\n",
    "La API de Nominativa, utiliza la base de datos de la iniciativa Open Street Map para proveer un servicio abierto de georreferenciacion con alcance global.\n",
    "\n",
    "Es importante que si usas esta API regularmente, leas los [terminos y condiciones](https://operations.osmfoundation.org/policies/nominatim/). Entre ellas no permite hacer mas de 1 request por segundo, debe citarse la fuente y no se permite el uso para geocodificacion bulk. Esta API es para usar en forma esporadica, pero no en produccion (salvo que se instale la API en infraestructura propia).\n",
    "\n",
    "Podes leer la documentacion de uso de la API, aca: https://nominatim.org/release-docs/develop/api/Overview/"
   ]
  },
  {
   "cell_type": "markdown",
   "metadata": {},
   "source": [
    "### Busqueda de objetos en el espacio "
   ]
  },
  {
   "cell_type": "markdown",
   "metadata": {},
   "source": [
    "Uno de los usos de la API es buscar objetos en el espacio, funciona de manera parecida a como a veces usamos Google Maps. Le podemos decir 'escuelas en berlin', 'hospitales en montevideo' y otras cosas parecidas, y devolvera una lista de resultados de lo que encuentre."
   ]
  },
  {
   "cell_type": "code",
   "execution_count": 47,
   "metadata": {},
   "outputs": [
    {
     "data": {
      "text/plain": [
       "[{'place_id': 105865581,\n",
       "  'licence': 'Data © OpenStreetMap contributors, ODbL 1.0. https://osm.org/copyright',\n",
       "  'osm_type': 'way',\n",
       "  'osm_id': 82097653,\n",
       "  'boundingbox': ['-34.8966773', '-34.89491', '-56.1646663', '-56.1639028'],\n",
       "  'lat': '-34.895802849999995',\n",
       "  'lon': '-56.16432162417556',\n",
       "  'display_name': 'Hospital Italiano Umberto I, Bulevar General Artigas, Villa Muñoz, La Blanqueada, Montevideo, 11601, Uruguay',\n",
       "  'class': 'amenity',\n",
       "  'type': 'hospital',\n",
       "  'importance': 0.5913602540314964,\n",
       "  'icon': 'https://nominatim.openstreetmap.org/images/mapicons/health_hospital.p.20.png',\n",
       "  'address': {'amenity': 'Hospital Italiano Umberto I',\n",
       "   'road': 'Bulevar General Artigas',\n",
       "   'neighbourhood': 'Villa Muñoz',\n",
       "   'suburb': 'La Blanqueada',\n",
       "   'city': 'Montevideo',\n",
       "   'state': 'Montevideo',\n",
       "   'postcode': '11601',\n",
       "   'country': 'Uruguay',\n",
       "   'country_code': 'uy'}},\n",
       " {'place_id': 128059963,\n",
       "  'licence': 'Data © OpenStreetMap contributors, ODbL 1.0. https://osm.org/copyright',\n",
       "  'osm_type': 'way',\n",
       "  'osm_id': 179739484,\n",
       "  'boundingbox': ['-34.8950308', '-34.8941085', '-56.1634242', '-56.16166'],\n",
       "  'lat': '-34.8945655',\n",
       "  'lon': '-56.16254231583933',\n",
       "  'display_name': 'Hospital Británico, Profesor Doctor Julio A. Bauzá, Villa Dolores, La Blanqueada, Montevideo, 11601, Uruguay',\n",
       "  'class': 'amenity',\n",
       "  'type': 'hospital',\n",
       "  'importance': 0.3905083629626833,\n",
       "  'icon': 'https://nominatim.openstreetmap.org/images/mapicons/health_hospital.p.20.png',\n",
       "  'address': {'amenity': 'Hospital Británico',\n",
       "   'road': 'Profesor Doctor Julio A. Bauzá',\n",
       "   'neighbourhood': 'Villa Dolores',\n",
       "   'suburb': 'La Blanqueada',\n",
       "   'city': 'Montevideo',\n",
       "   'state': 'Montevideo',\n",
       "   'postcode': '11601',\n",
       "   'country': 'Uruguay',\n",
       "   'country_code': 'uy'}},\n",
       " {'place_id': 188507396,\n",
       "  'licence': 'Data © OpenStreetMap contributors, ODbL 1.0. https://osm.org/copyright',\n",
       "  'osm_type': 'way',\n",
       "  'osm_id': 458148368,\n",
       "  'boundingbox': ['-34.8887197', '-34.8883515', '-56.1654423', '-56.1652721'],\n",
       "  'lat': '-34.8885356',\n",
       "  'lon': '-56.1653572',\n",
       "  'display_name': 'Sanatorio Juan Pablo II, 2120, Bulevar General Artigas, Villa Muñoz, La Comercial, Montevideo, 11601, Uruguay',\n",
       "  'class': 'amenity',\n",
       "  'type': 'hospital',\n",
       "  'importance': 0.30100000000000005,\n",
       "  'icon': 'https://nominatim.openstreetmap.org/images/mapicons/health_hospital.p.20.png',\n",
       "  'address': {'amenity': 'Sanatorio Juan Pablo II',\n",
       "   'house_number': '2120',\n",
       "   'road': 'Bulevar General Artigas',\n",
       "   'neighbourhood': 'Villa Muñoz',\n",
       "   'suburb': 'La Comercial',\n",
       "   'city': 'Montevideo',\n",
       "   'state': 'Montevideo',\n",
       "   'postcode': '11601',\n",
       "   'country': 'Uruguay',\n",
       "   'country_code': 'uy'}}]"
      ]
     },
     "execution_count": 47,
     "metadata": {},
     "output_type": "execute_result"
    }
   ],
   "source": [
    "# hospitales en Montevideo\n",
    "requests.get(\n",
    "    'https://nominatim.openstreetmap.org/?addressdetails=1&q=hospitales+en+montevideo+uruguay&format=json&limit=3'\n",
    ").json()"
   ]
  },
  {
   "cell_type": "markdown",
   "metadata": {},
   "source": [
    "**Ejercicio:** genera una lista de nombres y direcciones de hospitales en la Ciudad de Buenos Aires, a partir de la API de Nominatim."
   ]
  },
  {
   "cell_type": "code",
   "execution_count": null,
   "metadata": {},
   "outputs": [],
   "source": []
  },
  {
   "cell_type": "markdown",
   "metadata": {},
   "source": [
    "### Georreferenciacion inversa"
   ]
  },
  {
   "cell_type": "markdown",
   "metadata": {},
   "source": [
    "El recurso /reverse permite recuperar una direccion, a partir de un par de coordenadas."
   ]
  },
  {
   "cell_type": "code",
   "execution_count": 48,
   "metadata": {},
   "outputs": [
    {
     "data": {
      "text/plain": [
       "{'place_id': 14124008,\n",
       " 'licence': 'Data © OpenStreetMap contributors, ODbL 1.0. https://osm.org/copyright',\n",
       " 'osm_type': 'way',\n",
       " 'osm_id': 208809079,\n",
       " 'lat': '-34.6090457',\n",
       " 'lon': '-58.3709109',\n",
       " 'place_rank': 30,\n",
       " 'category': 'place',\n",
       " 'type': 'house',\n",
       " 'importance': -0.1,\n",
       " 'addresstype': 'place',\n",
       " 'name': None,\n",
       " 'display_name': '302, Avenida Hipólito Yrigoyen, Monserrat, Buenos Aires, Ciudad Autónoma de Buenos Aires, Comuna 1, C1086AAD, Argentina',\n",
       " 'address': {'house_number': '302',\n",
       "  'road': 'Avenida Hipólito Yrigoyen',\n",
       "  'suburb': 'Monserrat',\n",
       "  'city': 'Buenos Aires',\n",
       "  'state_district': 'Comuna 1',\n",
       "  'postcode': 'C1086AAD',\n",
       "  'country': 'Argentina',\n",
       "  'country_code': 'ar'},\n",
       " 'boundingbox': ['-34.6090957', '-34.6089957', '-58.3709609', '-58.3708609']}"
      ]
     },
     "execution_count": 48,
     "metadata": {},
     "output_type": "execute_result"
    }
   ],
   "source": [
    "requests.get(\n",
    "    'https://nominatim.openstreetmap.org/reverse?format=jsonv2&lat=-34.6083411208197&lon=-58.37088525365451'\n",
    ").json()"
   ]
  },
  {
   "cell_type": "markdown",
   "metadata": {},
   "source": [
    "**Ejercicio:** usa alguna de las coordenadas de las estaciones de medicion hidricas, para encontrar su direccion con este metodo. Funciona? Que resultados da esta API para esos casos?"
   ]
  },
  {
   "cell_type": "markdown",
   "metadata": {},
   "source": [
    "### Chequea el estado del servicio "
   ]
  },
  {
   "cell_type": "markdown",
   "metadata": {},
   "source": [
    "Si la API no parece funcionar, podes asegurarte consultando si el servicio esta funcionando en este momento o no."
   ]
  },
  {
   "cell_type": "code",
   "execution_count": 49,
   "metadata": {},
   "outputs": [
    {
     "data": {
      "text/plain": [
       "{'status': 0, 'message': 'OK', 'data_updated': '2020-07-30T20:04:01+00:00'}"
      ]
     },
     "execution_count": 49,
     "metadata": {},
     "output_type": "execute_result"
    }
   ],
   "source": [
    "requests.get(\n",
    "    'https://nominatim.openstreetmap.org/status.php?format=json'\n",
    ").json()"
   ]
  },
  {
   "cell_type": "markdown",
   "metadata": {},
   "source": [
    "## API normalización GCBA"
   ]
  },
  {
   "cell_type": "markdown",
   "metadata": {},
   "source": [
    "https://usig.buenosaires.gob.ar/apis/"
   ]
  },
  {
   "cell_type": "markdown",
   "metadata": {},
   "source": [
    "Si lo que necesitas hacer tiene un alcance acotado al Area Metropolitana de Buenos Aires (AMBA), tambien podes usar la API de normalizacion de direcciones del AMBA del Gobierno de la Ciudad de Buenos Aires. Una ventaja que tiene este servicio, es que tambien lo podes instalar como una libreria de python para no necesitar internet ni tener limite de cuotas (https://github.com/usig/normalizador-amba)."
   ]
  },
  {
   "cell_type": "markdown",
   "metadata": {},
   "source": [
    "### Georreferenciacion "
   ]
  },
  {
   "cell_type": "code",
   "execution_count": 50,
   "metadata": {},
   "outputs": [
    {
     "data": {
      "text/plain": [
       "{'Normalizacion': {'TipoResultado': 'DireccionNormalizada',\n",
       "  'DireccionesCalleAltura': {'direcciones': [{'CodigoCalle': '2014',\n",
       "     'Calle': 'BALCARCE',\n",
       "     'Altura': '50'}]},\n",
       "  'DireccionesCalleCalle': {'direcciones': []}},\n",
       " 'GeoCodificacion': {'x': '108487.447694', 'y': '102343.772587'}}"
      ]
     },
     "execution_count": 50,
     "metadata": {},
     "output_type": "execute_result"
    }
   ],
   "source": [
    "requests.get(\n",
    "    'https://ws.usig.buenosaires.gob.ar/rest/normalizar_y_geocodificar_direcciones?calle=balcarce&altura=50&desambiguar=1'\n",
    ").json()"
   ]
  },
  {
   "cell_type": "markdown",
   "metadata": {},
   "source": [
    "La API de normalizacion de la USIG del GCBA devuelve coordenadas en el sistema de proyeccion Buenos Aires Gauss Krueguer, que es mas preciso para trabajar dentro del espacio geografico de la CABA pero tambien menos facil de usar para otros usos.\n",
    "\n",
    "Hay otro recurso de la API que transforma esas coordenadas en EPSG 4326 (el sistema de coordenadas al que estamos mas acostumbrados)."
   ]
  },
  {
   "cell_type": "code",
   "execution_count": 51,
   "metadata": {},
   "outputs": [
    {
     "data": {
      "text/plain": [
       "{'tipo_resultado': 'Ok', 'resultado': {'x': '-58.370769', 'y': '-34.608107'}}"
      ]
     },
     "execution_count": 51,
     "metadata": {},
     "output_type": "execute_result"
    }
   ],
   "source": [
    "requests.get(\n",
    "    'https://ws.usig.buenosaires.gob.ar/rest/convertir_coordenadas?x=108487.447694&y=102343.772587&output=lonlat'\n",
    ").json()"
   ]
  },
  {
   "cell_type": "markdown",
   "metadata": {},
   "source": [
    "### Datos utiles "
   ]
  },
  {
   "cell_type": "markdown",
   "metadata": {},
   "source": [
    "Otro metodo de las APIs de USIG devuelve datos utiles del contexto de una direccion. Es parecido al de 'ubicacion' de la API Georef, pero tiene otras areas / unidades territoriales que contienen al punto, y son propias del AMBA."
   ]
  },
  {
   "cell_type": "code",
   "execution_count": 52,
   "metadata": {},
   "outputs": [
    {
     "data": {
      "text/plain": [
       "{'comuna': 'Comuna 1',\n",
       " 'barrio': 'Monserrat',\n",
       " 'comisaria': '2',\n",
       " 'area_hospitalaria': 'HTAL. DR. C. ARGERICH',\n",
       " 'region_sanitaria': 'I (Este)',\n",
       " 'distrito_escolar': 'Distrito Escolar   IV',\n",
       " 'comisaria_vecinal': '1D',\n",
       " 'seccion_catastral': '02',\n",
       " 'distrito_economico': '',\n",
       " 'codigo_de_planeamiento_urbano': '',\n",
       " 'partido_amba': '',\n",
       " 'localidad_amba': '',\n",
       " 'codigo_postal': '1064',\n",
       " 'codigo_postal_argentino': 'C1064AAB'}"
      ]
     },
     "execution_count": 52,
     "metadata": {},
     "output_type": "execute_result"
    }
   ],
   "source": [
    "requests.get(\n",
    "    'https://ws.usig.buenosaires.gob.ar/datos_utiles?calle=balcarce&altura=50'\n",
    ").json()"
   ]
  },
  {
   "cell_type": "markdown",
   "metadata": {},
   "source": [
    "## API Transporte GCBA"
   ]
  },
  {
   "cell_type": "markdown",
   "metadata": {},
   "source": [
    "https://www.buenosaires.gob.ar/desarrollourbano/transporte/apitransporte"
   ]
  },
  {
   "cell_type": "markdown",
   "metadata": {},
   "source": [
    "La API unificada de transporte del GCBA ofrece acceso en tiempo real a las localizaciones de subtes, colectivos, trenes, monopatines y otros muchos datos sobre la movilidad en la Ciudad de Buenos Aires. Es gratuita pero requiere registrarse y usar credenciales para cada consulta.\n",
    "\n",
    "Una vez registrado, tenes que guardar tus credenciales en un archivo JSON `api_transporte_creds.json` en el directorio de este notebook, o copiarlas directamente en la URL de la llamada."
   ]
  },
  {
   "cell_type": "code",
   "execution_count": 53,
   "metadata": {},
   "outputs": [],
   "source": [
    "# carga credenciales\n",
    "with open('api_transporte_creds.json', 'r') as f:\n",
    "    creds = json.load(f)"
   ]
  },
  {
   "cell_type": "code",
   "execution_count": 54,
   "metadata": {},
   "outputs": [],
   "source": [
    "client_id = creds['client_id']\n",
    "client_secret = creds['client_secret']"
   ]
  },
  {
   "cell_type": "code",
   "execution_count": 55,
   "metadata": {},
   "outputs": [
    {
     "data": {
      "text/plain": [
       "[{'route_id': '3712',\n",
       "  'latitude': -34.65343,\n",
       "  'longitude': -58.6448059,\n",
       "  'speed': 0,\n",
       "  'timestamp': 1596139450,\n",
       "  'id': '1838',\n",
       "  'direction': 0,\n",
       "  'agency_name': 'MICROOMNIBUS SAAVEDRA S.A.T.A.C.I.',\n",
       "  'agency_id': 82,\n",
       "  'route_short_name': '321A',\n",
       "  'trip_headsign': 'a LIBERTAD'},\n",
       " {'route_id': '3713',\n",
       "  'latitude': -34.67617,\n",
       "  'longitude': -58.6695747,\n",
       "  'speed': 0,\n",
       "  'timestamp': 1596139420,\n",
       "  'id': '1839',\n",
       "  'direction': 1,\n",
       "  'agency_name': 'MICROOMNIBUS SAAVEDRA S.A.T.A.C.I.',\n",
       "  'agency_id': 82,\n",
       "  'route_short_name': '153A',\n",
       "  'trip_headsign': 'a Liniers'},\n",
       " {'route_id': '3713',\n",
       "  'latitude': -34.63905,\n",
       "  'longitude': -58.52692,\n",
       "  'speed': 3.055555,\n",
       "  'timestamp': 1596139450,\n",
       "  'id': '1844',\n",
       "  'direction': 0,\n",
       "  'agency_name': 'MICROOMNIBUS SAAVEDRA S.A.T.A.C.I.',\n",
       "  'agency_id': 82,\n",
       "  'route_short_name': '153A',\n",
       "  'trip_headsign': 'a Bº Nuevo'},\n",
       " {'route_id': '3713',\n",
       "  'latitude': -34.65006,\n",
       "  'longitude': -58.61392,\n",
       "  'speed': 0,\n",
       "  'timestamp': 1596139450,\n",
       "  'id': '1845',\n",
       "  'direction': 1,\n",
       "  'agency_name': 'MICROOMNIBUS SAAVEDRA S.A.T.A.C.I.',\n",
       "  'agency_id': 82,\n",
       "  'route_short_name': '153A',\n",
       "  'trip_headsign': 'a Liniers'},\n",
       " {'route_id': '3713',\n",
       "  'latitude': -34.7046,\n",
       "  'longitude': -58.66978,\n",
       "  'speed': 7.777777,\n",
       "  'timestamp': 1596139450,\n",
       "  'id': '1862',\n",
       "  'direction': 1,\n",
       "  'agency_name': 'MICROOMNIBUS SAAVEDRA S.A.T.A.C.I.',\n",
       "  'agency_id': 82,\n",
       "  'route_short_name': '153A',\n",
       "  'trip_headsign': 'a Liniers'}]"
      ]
     },
     "execution_count": 55,
     "metadata": {},
     "output_type": "execute_result"
    }
   ],
   "source": [
    "colectivos_ahora = requests.get(\n",
    "    f'https://apitransporte.buenosaires.gob.ar/colectivos/vehiclePositionsSimple?client_id={client_id}&client_secret={client_secret}'\n",
    ").json()\n",
    "colectivos_ahora[:5]"
   ]
  },
  {
   "cell_type": "code",
   "execution_count": 56,
   "metadata": {},
   "outputs": [],
   "source": [
    "gdf = gpd.GeoDataFrame(colectivos_ahora)"
   ]
  },
  {
   "cell_type": "code",
   "execution_count": 57,
   "metadata": {},
   "outputs": [],
   "source": [
    "gdf['geometry'] = gpd.points_from_xy(gdf.longitude, gdf.latitude)"
   ]
  },
  {
   "cell_type": "code",
   "execution_count": 58,
   "metadata": {},
   "outputs": [
    {
     "data": {
      "text/plain": [
       "<matplotlib.axes._subplots.AxesSubplot at 0x7f4158f6f150>"
      ]
     },
     "execution_count": 58,
     "metadata": {},
     "output_type": "execute_result"
    },
    {
     "data": {
      "image/png": "[encoded data removed]",
      "text/plain": [
       "<Figure size 720x720 with 1 Axes>"
      ]
     },
     "metadata": {
      "needs_background": "light"
     },
     "output_type": "display_data"
    }
   ],
   "source": [
    "gdf.plot(figsize=(10, 10))"
   ]
  },
  {
   "cell_type": "code",
   "execution_count": 59,
   "metadata": {
    "scrolled": false
   },
   "outputs": [],
   "source": [
    "lineas = gdf.groupby(['route_short_name']).count()"
   ]
  },
  {
   "cell_type": "code",
   "execution_count": 60,
   "metadata": {},
   "outputs": [
    {
     "data": {
      "text/html": [
       "<div>\n",
       "<style scoped>\n",
       "    .dataframe tbody tr th:only-of-type {\n",
       "        vertical-align: middle;\n",
       "    }\n",
       "\n",
       "    .dataframe tbody tr th {\n",
       "        vertical-align: top;\n",
       "    }\n",
       "\n",
       "    .dataframe thead th {\n",
       "        text-align: right;\n",
       "    }\n",
       "</style>\n",
       "<table border=\"1\" class=\"dataframe\">\n",
       "  <thead>\n",
       "    <tr style=\"text-align: right;\">\n",
       "      <th></th>\n",
       "      <th>route_id</th>\n",
       "      <th>latitude</th>\n",
       "      <th>longitude</th>\n",
       "      <th>speed</th>\n",
       "      <th>timestamp</th>\n",
       "      <th>id</th>\n",
       "      <th>direction</th>\n",
       "      <th>agency_name</th>\n",
       "      <th>agency_id</th>\n",
       "      <th>trip_headsign</th>\n",
       "      <th>geometry</th>\n",
       "    </tr>\n",
       "    <tr>\n",
       "      <th>route_short_name</th>\n",
       "      <th></th>\n",
       "      <th></th>\n",
       "      <th></th>\n",
       "      <th></th>\n",
       "      <th></th>\n",
       "      <th></th>\n",
       "      <th></th>\n",
       "      <th></th>\n",
       "      <th></th>\n",
       "      <th></th>\n",
       "      <th></th>\n",
       "    </tr>\n",
       "  </thead>\n",
       "  <tbody>\n",
       "    <tr>\n",
       "      <td>343A</td>\n",
       "      <td>78</td>\n",
       "      <td>78</td>\n",
       "      <td>78</td>\n",
       "      <td>78</td>\n",
       "      <td>78</td>\n",
       "      <td>78</td>\n",
       "      <td>78</td>\n",
       "      <td>78</td>\n",
       "      <td>78</td>\n",
       "      <td>78</td>\n",
       "      <td>78</td>\n",
       "    </tr>\n",
       "    <tr>\n",
       "      <td>329TR1</td>\n",
       "      <td>57</td>\n",
       "      <td>57</td>\n",
       "      <td>57</td>\n",
       "      <td>57</td>\n",
       "      <td>57</td>\n",
       "      <td>57</td>\n",
       "      <td>57</td>\n",
       "      <td>57</td>\n",
       "      <td>57</td>\n",
       "      <td>57</td>\n",
       "      <td>57</td>\n",
       "    </tr>\n",
       "    <tr>\n",
       "      <td>53C</td>\n",
       "      <td>48</td>\n",
       "      <td>48</td>\n",
       "      <td>48</td>\n",
       "      <td>48</td>\n",
       "      <td>48</td>\n",
       "      <td>48</td>\n",
       "      <td>48</td>\n",
       "      <td>48</td>\n",
       "      <td>48</td>\n",
       "      <td>48</td>\n",
       "      <td>48</td>\n",
       "    </tr>\n",
       "    <tr>\n",
       "      <td>12A</td>\n",
       "      <td>47</td>\n",
       "      <td>47</td>\n",
       "      <td>47</td>\n",
       "      <td>47</td>\n",
       "      <td>47</td>\n",
       "      <td>47</td>\n",
       "      <td>47</td>\n",
       "      <td>47</td>\n",
       "      <td>47</td>\n",
       "      <td>47</td>\n",
       "      <td>47</td>\n",
       "    </tr>\n",
       "    <tr>\n",
       "      <td>41A</td>\n",
       "      <td>44</td>\n",
       "      <td>44</td>\n",
       "      <td>44</td>\n",
       "      <td>44</td>\n",
       "      <td>44</td>\n",
       "      <td>44</td>\n",
       "      <td>44</td>\n",
       "      <td>44</td>\n",
       "      <td>44</td>\n",
       "      <td>44</td>\n",
       "      <td>44</td>\n",
       "    </tr>\n",
       "    <tr>\n",
       "      <td>92A</td>\n",
       "      <td>42</td>\n",
       "      <td>42</td>\n",
       "      <td>42</td>\n",
       "      <td>42</td>\n",
       "      <td>42</td>\n",
       "      <td>42</td>\n",
       "      <td>42</td>\n",
       "      <td>42</td>\n",
       "      <td>42</td>\n",
       "      <td>42</td>\n",
       "      <td>42</td>\n",
       "    </tr>\n",
       "    <tr>\n",
       "      <td>152A</td>\n",
       "      <td>41</td>\n",
       "      <td>41</td>\n",
       "      <td>41</td>\n",
       "      <td>41</td>\n",
       "      <td>41</td>\n",
       "      <td>41</td>\n",
       "      <td>41</td>\n",
       "      <td>41</td>\n",
       "      <td>41</td>\n",
       "      <td>41</td>\n",
       "      <td>41</td>\n",
       "    </tr>\n",
       "    <tr>\n",
       "      <td>67A</td>\n",
       "      <td>36</td>\n",
       "      <td>36</td>\n",
       "      <td>36</td>\n",
       "      <td>36</td>\n",
       "      <td>36</td>\n",
       "      <td>36</td>\n",
       "      <td>36</td>\n",
       "      <td>36</td>\n",
       "      <td>36</td>\n",
       "      <td>36</td>\n",
       "      <td>36</td>\n",
       "    </tr>\n",
       "    <tr>\n",
       "      <td>10A</td>\n",
       "      <td>33</td>\n",
       "      <td>33</td>\n",
       "      <td>33</td>\n",
       "      <td>33</td>\n",
       "      <td>33</td>\n",
       "      <td>33</td>\n",
       "      <td>33</td>\n",
       "      <td>33</td>\n",
       "      <td>33</td>\n",
       "      <td>33</td>\n",
       "      <td>33</td>\n",
       "    </tr>\n",
       "    <tr>\n",
       "      <td>106A</td>\n",
       "      <td>33</td>\n",
       "      <td>33</td>\n",
       "      <td>33</td>\n",
       "      <td>33</td>\n",
       "      <td>33</td>\n",
       "      <td>33</td>\n",
       "      <td>33</td>\n",
       "      <td>33</td>\n",
       "      <td>33</td>\n",
       "      <td>33</td>\n",
       "      <td>33</td>\n",
       "    </tr>\n",
       "    <tr>\n",
       "      <td>707ROJ</td>\n",
       "      <td>31</td>\n",
       "      <td>31</td>\n",
       "      <td>31</td>\n",
       "      <td>31</td>\n",
       "      <td>31</td>\n",
       "      <td>31</td>\n",
       "      <td>31</td>\n",
       "      <td>31</td>\n",
       "      <td>31</td>\n",
       "      <td>31</td>\n",
       "      <td>31</td>\n",
       "    </tr>\n",
       "    <tr>\n",
       "      <td>102A</td>\n",
       "      <td>30</td>\n",
       "      <td>30</td>\n",
       "      <td>30</td>\n",
       "      <td>30</td>\n",
       "      <td>30</td>\n",
       "      <td>30</td>\n",
       "      <td>30</td>\n",
       "      <td>30</td>\n",
       "      <td>30</td>\n",
       "      <td>30</td>\n",
       "      <td>30</td>\n",
       "    </tr>\n",
       "    <tr>\n",
       "      <td>343B</td>\n",
       "      <td>29</td>\n",
       "      <td>29</td>\n",
       "      <td>29</td>\n",
       "      <td>29</td>\n",
       "      <td>29</td>\n",
       "      <td>29</td>\n",
       "      <td>29</td>\n",
       "      <td>29</td>\n",
       "      <td>29</td>\n",
       "      <td>29</td>\n",
       "      <td>29</td>\n",
       "    </tr>\n",
       "    <tr>\n",
       "      <td>124A</td>\n",
       "      <td>29</td>\n",
       "      <td>29</td>\n",
       "      <td>29</td>\n",
       "      <td>29</td>\n",
       "      <td>29</td>\n",
       "      <td>29</td>\n",
       "      <td>29</td>\n",
       "      <td>29</td>\n",
       "      <td>29</td>\n",
       "      <td>29</td>\n",
       "      <td>29</td>\n",
       "    </tr>\n",
       "    <tr>\n",
       "      <td>17A</td>\n",
       "      <td>29</td>\n",
       "      <td>29</td>\n",
       "      <td>29</td>\n",
       "      <td>29</td>\n",
       "      <td>29</td>\n",
       "      <td>29</td>\n",
       "      <td>29</td>\n",
       "      <td>29</td>\n",
       "      <td>29</td>\n",
       "      <td>29</td>\n",
       "      <td>29</td>\n",
       "    </tr>\n",
       "    <tr>\n",
       "      <td>96G</td>\n",
       "      <td>29</td>\n",
       "      <td>29</td>\n",
       "      <td>29</td>\n",
       "      <td>29</td>\n",
       "      <td>29</td>\n",
       "      <td>29</td>\n",
       "      <td>29</td>\n",
       "      <td>29</td>\n",
       "      <td>29</td>\n",
       "      <td>29</td>\n",
       "      <td>29</td>\n",
       "    </tr>\n",
       "    <tr>\n",
       "      <td>151A</td>\n",
       "      <td>29</td>\n",
       "      <td>29</td>\n",
       "      <td>29</td>\n",
       "      <td>29</td>\n",
       "      <td>29</td>\n",
       "      <td>29</td>\n",
       "      <td>29</td>\n",
       "      <td>29</td>\n",
       "      <td>29</td>\n",
       "      <td>29</td>\n",
       "      <td>29</td>\n",
       "    </tr>\n",
       "    <tr>\n",
       "      <td>118A</td>\n",
       "      <td>28</td>\n",
       "      <td>28</td>\n",
       "      <td>28</td>\n",
       "      <td>28</td>\n",
       "      <td>28</td>\n",
       "      <td>28</td>\n",
       "      <td>28</td>\n",
       "      <td>28</td>\n",
       "      <td>28</td>\n",
       "      <td>28</td>\n",
       "      <td>28</td>\n",
       "    </tr>\n",
       "    <tr>\n",
       "      <td>257A</td>\n",
       "      <td>28</td>\n",
       "      <td>28</td>\n",
       "      <td>28</td>\n",
       "      <td>28</td>\n",
       "      <td>28</td>\n",
       "      <td>28</td>\n",
       "      <td>28</td>\n",
       "      <td>28</td>\n",
       "      <td>28</td>\n",
       "      <td>28</td>\n",
       "      <td>28</td>\n",
       "    </tr>\n",
       "    <tr>\n",
       "      <td>59A</td>\n",
       "      <td>27</td>\n",
       "      <td>27</td>\n",
       "      <td>27</td>\n",
       "      <td>27</td>\n",
       "      <td>27</td>\n",
       "      <td>27</td>\n",
       "      <td>27</td>\n",
       "      <td>27</td>\n",
       "      <td>27</td>\n",
       "      <td>27</td>\n",
       "      <td>27</td>\n",
       "    </tr>\n",
       "  </tbody>\n",
       "</table>\n",
       "</div>"
      ],
      "text/plain": [
       "                  route_id  latitude  longitude  speed  timestamp  id  \\\n",
       "route_short_name                                                        \n",
       "343A                    78        78         78     78         78  78   \n",
       "329TR1                  57        57         57     57         57  57   \n",
       "53C                     48        48         48     48         48  48   \n",
       "12A                     47        47         47     47         47  47   \n",
       "41A                     44        44         44     44         44  44   \n",
       "92A                     42        42         42     42         42  42   \n",
       "152A                    41        41         41     41         41  41   \n",
       "67A                     36        36         36     36         36  36   \n",
       "10A                     33        33         33     33         33  33   \n",
       "106A                    33        33         33     33         33  33   \n",
       "707ROJ                  31        31         31     31         31  31   \n",
       "102A                    30        30         30     30         30  30   \n",
       "343B                    29        29         29     29         29  29   \n",
       "124A                    29        29         29     29         29  29   \n",
       "17A                     29        29         29     29         29  29   \n",
       "96G                     29        29         29     29         29  29   \n",
       "151A                    29        29         29     29         29  29   \n",
       "118A                    28        28         28     28         28  28   \n",
       "257A                    28        28         28     28         28  28   \n",
       "59A                     27        27         27     27         27  27   \n",
       "\n",
       "                  direction  agency_name  agency_id  trip_headsign  geometry  \n",
       "route_short_name                                                              \n",
       "343A                     78           78         78             78        78  \n",
       "329TR1                   57           57         57             57        57  \n",
       "53C                      48           48         48             48        48  \n",
       "12A                      47           47         47             47        47  \n",
       "41A                      44           44         44             44        44  \n",
       "92A                      42           42         42             42        42  \n",
       "152A                     41           41         41             41        41  \n",
       "67A                      36           36         36             36        36  \n",
       "10A                      33           33         33             33        33  \n",
       "106A                     33           33         33             33        33  \n",
       "707ROJ                   31           31         31             31        31  \n",
       "102A                     30           30         30             30        30  \n",
       "343B                     29           29         29             29        29  \n",
       "124A                     29           29         29             29        29  \n",
       "17A                      29           29         29             29        29  \n",
       "96G                      29           29         29             29        29  \n",
       "151A                     29           29         29             29        29  \n",
       "118A                     28           28         28             28        28  \n",
       "257A                     28           28         28             28        28  \n",
       "59A                      27           27         27             27        27  "
      ]
     },
     "execution_count": 60,
     "metadata": {},
     "output_type": "execute_result"
    }
   ],
   "source": [
    "lineas.sort_values('id', ascending=False).head(20)"
   ]
  },
  {
   "cell_type": "code",
   "execution_count": 61,
   "metadata": {},
   "outputs": [
    {
     "data": {
      "text/plain": [
       "<matplotlib.axes._subplots.AxesSubplot at 0x7f4158f13bd0>"
      ]
     },
     "execution_count": 61,
     "metadata": {},
     "output_type": "execute_result"
    },
    {
     "data": {
      "image/png": "[encoded data removed]",
      "text/plain": [
       "<Figure size 720x720 with 1 Axes>"
      ]
     },
     "metadata": {
      "needs_background": "light"
     },
     "output_type": "display_data"
    }
   ],
   "source": [
    "gdf[gdf.route_short_name == '152A'].plot(figsize=(10, 10))"
   ]
  }
 ],
 "metadata": {
  "kernelspec": {
   "display_name": "Python 3",
   "language": "python",
   "name": "python3"
  },
  "language_info": {
   "codemirror_mode": {
    "name": "ipython",
    "version": 3
   },
   "file_extension": ".py",
   "mimetype": "text/x-python",
   "name": "python",
   "nbconvert_exporter": "python",
   "pygments_lexer": "ipython3",
   "version": "3.7.3"
  },
  "toc": {
   "base_numbering": 1,
   "nav_menu": {},
   "number_sections": true,
   "sideBar": true,
   "skip_h1_title": false,
   "title_cell": "Table of Contents",
   "title_sidebar": "Contents",
   "toc_cell": false,
   "toc_position": {},
   "toc_section_display": true,
   "toc_window_display": false
  }
 },
 "nbformat": 4,
 "nbformat_minor": 2
}
