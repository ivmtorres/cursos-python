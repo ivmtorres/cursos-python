{
 "cells": [
  {
   "cell_type": "markdown",
   "metadata": {},
   "source": [
    "## Rappi\n",
    "https://www.rappi.com.ar/restaurantes/rapanui\n",
    "\n",
    "Gráficar el histograma de precios de rapanui"
   ]
  },
  {
   "cell_type": "code",
   "execution_count": 12,
   "metadata": {},
   "outputs": [],
   "source": [
    "import requests\n",
    "\n",
    "# Completar esta función para que descargue los datos de rapanui provistos por la API de rappi\n",
    "def rapanui_products_from_rappi():\n",
    "    # 1. Encontrar la API que provee todos los datos relacionados \n",
    "    # a rapanui en https://www.rappi.com.ar/restaurantes/rapanui\n",
    "    # 2. Descargar esos datos usando https://curl.trillworks.com/\n",
    "    return response.json()\n",
    "\n",
    "# Completar esta funcion para que devuelva la lista de precios de los productos\n",
    "def rapanui_prices():\n",
    "    rapanui_data = rapanui_products_from_rappi()\n",
    "    # Extraer de rapanui_data los precios de cada producto y agregarlos a la lista prices\n",
    "    prices = []\n",
    "    return prices"
   ]
  },
  {
   "cell_type": "code",
   "execution_count": 18,
   "metadata": {},
   "outputs": [
    {
     "data": {
      "text/plain": [
       "array([[<matplotlib.axes._subplots.AxesSubplot object at 0x7f5f775ddeb8>]],\n",
       "      dtype=object)"
      ]
     },
     "execution_count": 18,
     "metadata": {},
     "output_type": "execute_result"
    },
    {
     "data": {
      "image/png": "[encoded data removed]",
      "text/plain": [
       "<Figure size 432x288 with 1 Axes>"
      ]
     },
     "metadata": {
      "needs_background": "light"
     },
     "output_type": "display_data"
    }
   ],
   "source": [
    "import pandas as pd\n",
    "rapanui_df = pd.DataFrame({\"Precios de Rapanui\":rapanui_prices()})\n",
    "rapanui_df.hist()"
   ]
  }
 ],
 "metadata": {
  "instance_type": "ml.t3.medium",
  "kernelspec": {
   "display_name": "Python 3",
   "language": "python",
   "name": "python3"
  },
  "language_info": {
   "codemirror_mode": {
    "name": "ipython",
    "version": 3
   },
   "file_extension": ".py",
   "mimetype": "text/x-python",
   "name": "python",
   "nbconvert_exporter": "python",
   "pygments_lexer": "ipython3",
   "version": "3.6.9"
  }
 },
 "nbformat": 4,
 "nbformat_minor": 4
}
