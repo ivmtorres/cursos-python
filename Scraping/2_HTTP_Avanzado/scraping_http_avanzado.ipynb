{
 "cells": [
  {
   "cell_type": "markdown",
   "metadata": {},
   "source": [
    "# Encontrando APIs ocultas\n",
    "\n",
    "Cuando una compañia desarrolla un sitio web muchas veces separa lo que se dice el _frontend_, que es la parte visible del sitio y la cual se ejecuta en tu navegador, del _backend_, la parte del sitio que realiza el computo mas pesado y se ejecuta en servidores/computadoras de la compañia.\n",
    "\n",
    "Para comunicar el _backend_ con el _frontend_ una forma popular es desarrollar REST APIs, a veces estas son públicas pero a veces están ocultas y las utilizamos sin darnos cuenta cuando interactuamos con un sitio web.\n",
    "\n",
    "Ejemplo de un sitio web y su API: http://numbersapi.com/\n",
    "\n",
    "Hoy veremos como encontrarlas y utilizarlas para extraer datos de forma cómoda"
   ]
  },
  {
   "cell_type": "markdown",
   "metadata": {},
   "source": [
    "## Ejemplo 1: Scrapeando un sitio de finanzas\n",
    "\n",
    "Para este primer ejemplo veremos como encontrar [esta API]( https://www.bloomberg.com/markets2/api/history/BDIY%3AIND/PX_LAST?timeframe=5_YEAR&period=monthly&volumePeriod=monthly) en [este](https://www.bloomberg.com/quote/BDIY:IND) sitio web.\n",
    "\n",
    "Luego veremos como utilizarla de 3 maneras:\n",
    "1. Desde el navegador\n",
    "2. Con cURL (Un programa de linea de comandos para transferir datos de internet)\n",
    "3. Con python"
   ]
  },
  {
   "cell_type": "markdown",
   "metadata": {},
   "source": [
    "### Método utilizando python\n",
    "1. Entramos al sitio: https://www.bloomberg.com/quote/BDIY:IND\n",
    "2. Vamos a _Inspeccionar_ ( ctrl+shift+i )\n",
    "3. Vamos a la solapa _Network_ y seleccionamos XHR (El tipo de paquete que utilizan las APIs)\n",
    "4. Recargamos el sitio y nos ponemos a revisar el _Response_ de cada paquete hasta encontrar cual contiene la información que buscamos\n",
    "5. Copiamos el comando cURL necesario para consultarla\n",
    "![](https://curl.trillworks.com/images/newscreenshot.png)\n",
    "6. Utilizamos [curl.trillworks.com](curl.trillworks.com) para armar el request con código python y queda algo así"
   ]
  },
  {
   "cell_type": "code",
   "execution_count": 6,
   "metadata": {
    "collapsed": true,
    "jupyter": {
     "outputs_hidden": true
    }
   },
   "outputs": [
    {
     "data": {
      "text/plain": [
       "[{'ticker': 'BDIY:IND',\n",
       "  'previousClosingPriceOneTradingDayAgo': None,\n",
       "  'openPrice': None,\n",
       "  'range': None,\n",
       "  'price': [{'dateTime': '2015-08-31', 'value': 903},\n",
       "   {'dateTime': '2015-09-30', 'value': 900},\n",
       "   {'dateTime': '2015-10-30', 'value': 721},\n",
       "   {'dateTime': '2015-11-30', 'value': 584},\n",
       "   {'dateTime': '2015-12-31', 'value': 478},\n",
       "   {'dateTime': '2016-01-29', 'value': 317},\n",
       "   {'dateTime': '2016-02-29', 'value': 329},\n",
       "   {'dateTime': '2016-03-31', 'value': 429},\n",
       "   {'dateTime': '2016-04-29', 'value': 703},\n",
       "   {'dateTime': '2016-05-31', 'value': 612},\n",
       "   {'dateTime': '2016-06-30', 'value': 660},\n",
       "   {'dateTime': '2016-07-29', 'value': 656},\n",
       "   {'dateTime': '2016-08-31', 'value': 711},\n",
       "   {'dateTime': '2016-09-30', 'value': 875},\n",
       "   {'dateTime': '2016-10-31', 'value': 857},\n",
       "   {'dateTime': '2016-11-30', 'value': 1204},\n",
       "   {'dateTime': '2016-12-30', 'value': 961},\n",
       "   {'dateTime': '2017-01-31', 'value': 800},\n",
       "   {'dateTime': '2017-02-28', 'value': 859},\n",
       "   {'dateTime': '2017-03-31', 'value': 1297},\n",
       "   {'dateTime': '2017-04-28', 'value': 1109},\n",
       "   {'dateTime': '2017-05-31', 'value': 878},\n",
       "   {'dateTime': '2017-06-30', 'value': 901},\n",
       "   {'dateTime': '2017-07-31', 'value': 946},\n",
       "   {'dateTime': '2017-08-31', 'value': 1184},\n",
       "   {'dateTime': '2017-09-29', 'value': 1356},\n",
       "   {'dateTime': '2017-10-31', 'value': 1522},\n",
       "   {'dateTime': '2017-11-30', 'value': 1578},\n",
       "   {'dateTime': '2017-12-29', 'value': 1366},\n",
       "   {'dateTime': '2018-01-31', 'value': 1152},\n",
       "   {'dateTime': '2018-02-28', 'value': 1192},\n",
       "   {'dateTime': '2018-03-30', 'value': 1055},\n",
       "   {'dateTime': '2018-04-30', 'value': 1341},\n",
       "   {'dateTime': '2018-05-31', 'value': 1090},\n",
       "   {'dateTime': '2018-06-29', 'value': 1385},\n",
       "   {'dateTime': '2018-07-31', 'value': 1747},\n",
       "   {'dateTime': '2018-08-31', 'value': 1579},\n",
       "   {'dateTime': '2018-09-28', 'value': 1540},\n",
       "   {'dateTime': '2018-10-31', 'value': 1490},\n",
       "   {'dateTime': '2018-11-30', 'value': 1231},\n",
       "   {'dateTime': '2018-12-31', 'value': 1271},\n",
       "   {'dateTime': '2019-01-31', 'value': 668},\n",
       "   {'dateTime': '2019-02-28', 'value': 658},\n",
       "   {'dateTime': '2019-03-29', 'value': 689},\n",
       "   {'dateTime': '2019-04-30', 'value': 1011},\n",
       "   {'dateTime': '2019-05-31', 'value': 1096},\n",
       "   {'dateTime': '2019-06-28', 'value': 1354},\n",
       "   {'dateTime': '2019-07-31', 'value': 1868},\n",
       "   {'dateTime': '2019-08-30', 'value': 2378},\n",
       "   {'dateTime': '2019-09-30', 'value': 1823},\n",
       "   {'dateTime': '2019-10-31', 'value': 1731},\n",
       "   {'dateTime': '2019-11-29', 'value': 1528},\n",
       "   {'dateTime': '2019-12-31', 'value': 1090},\n",
       "   {'dateTime': '2020-01-31', 'value': 487},\n",
       "   {'dateTime': '2020-02-28', 'value': 535},\n",
       "   {'dateTime': '2020-03-31', 'value': 626},\n",
       "   {'dateTime': '2020-04-30', 'value': 635},\n",
       "   {'dateTime': '2020-05-29', 'value': 504},\n",
       "   {'dateTime': '2020-06-30', 'value': 1799},\n",
       "   {'dateTime': '2020-07-31', 'value': 1350}],\n",
       "  'volume': []}]"
      ]
     },
     "execution_count": 6,
     "metadata": {},
     "output_type": "execute_result"
    }
   ],
   "source": [
    "import requests\n",
    "\n",
    "headers = {\n",
    "    'authority': 'www.bloomberg.com',\n",
    "    # user-agent: Datos del navegador que estoy usando\n",
    "    'user-agent': 'Mozilla/5.0 (X11; Linux x86_64) AppleWebKit/537.36 (KHTML, like Gecko) Chrome/84.0.4147.125 Safari/537.36',\n",
    "    'dnt': '1',\n",
    "    # accept: Indica el tipo de datos que esperamos\n",
    "    # en este caso el \"*\" indica que puede ser cualquier cosa\n",
    "    # pero a veces puede ser text/html o image/png por ejemplo\n",
    "    'accept': '*/*',\n",
    "    'sec-fetch-site': 'same-origin',\n",
    "    'sec-fetch-mode': 'cors',\n",
    "    'sec-fetch-dest': 'empty',\n",
    "    'referer': 'https://www.bloomberg.com/quote/BDIY:IND',\n",
    "    'accept-language': 'es-US,es;q=0.9,en-US;q=0.8,en;q=0.7,es-419;q=0.6,ja;q=0.5',\n",
    "    # cookie: Información sobre mi actividad en el sitio (Por ejemplo si inicie sesión previamente o no)\n",
    "    'cookie': '_gcl_au=1.1.1627487790.1596132516; bdfpc=004.9046170925.1596132515875; agent_id=acb7a978-f3aa-4323-9d96-b1537ca8ea3b; session_id=ed2c986c-8c01-4e8c-8b76-fde60cefc81f; session_key=e9da446c0680815770aa81054708627ea56d0616; _ga=GA1.2.1803473370.1596132518; _pxvid=b00ae334-d28f-11ea-971a-0242ac120007; _rdt_uuid=1596132517790.63debb01-76b9-4c0f-ae8f-bff3b17bca8a; _lc2_fpi=b1166d620485--01eegejt7sn39qrh0xcxvrwyr7; _scid=b7e4309f-7ea2-4015-b136-54a3b3dbdaa1; __tbc=%7Bjzx%7Dt_3qvTkEkvt3AGEeiiNNgNAPX21QtaOI8L6VUZiQmluw55ur6FpWubvT2QrB33uKyaMK_mP7Ak9_QWQP0RqIveks1k28_T8VgiWTAqZqVF8tawtSPjwHunpqiD5tkAfnjylU0Z664w9lha1BgkmqDg; __pat=-14400000; _pxhd=d34367713bd40bfbfa0f0c3b396ee9865add545d8aabedafb462dcddff159a82:b00ae334-d28f-11ea-971a-0242ac120007; _parsely_visitor={%22id%22:%22pid=5d8302f5836276a941dc29d9fc26ab62%22%2C%22session_count%22:1%2C%22last_session_ts%22:1596132518892}; euconsent=BO0h5IxO2C4sjAKAiBENDQ-AAAAwd7_______9______9uz_Ov_v_f__33e8__9v_l_7_-___u_-23d4u_1vf99yfm1-7etr3tp_47ues2_Xurf_71__3z3_9pxP78k89r7335Ew_v-_v-b7BCPN_Y3v-8K96lA; bbAbVisits=1; trc_cookie_storage=taboola%2520global%253Auser-id%3D362f5396-a259-48c3-9a73-bff34416b1ad-tuct58f800d; _reg-csrf=s%3AG2-Cw2TCcKbTovNQUXHE0R3Q.oI3ssdO6XEec1ir75ZxY%2BvhOP%2BbmEeoEO6iUkeF6Ir4; _user-status=anonymous; _gid=GA1.2.1845756702.1597969166; _li_dcdm_c=.bloomberg.com; notice_behavior=implied|us; _sctr=1|1597892400000; bb_geo_info={\"country\":\"AR\",\"region\":\"US\"}|1598573968258; _uetsid=ad51ba440d74d336095ced27797cf492; _uetvid=8944ed7b6896cf314ccc08f5fe11edf5; _dc_gtm_UA-11413116-1=1; _pxff_cc=U2FtZVNpdGU9TGF4Ow==; __pvi=%7B%22id%22%3A%22v-2020-08-20-21-21-40-625-o8wgY6fruSXEKJGH-5d65e486bf64678f389544ceae7df532%22%2C%22domain%22%3A%22.bloomberg.com%22%2C%22time%22%3A1597969300625%7D; _reg-csrf-token=KorOhnwG-P7-qaNZBaNp2_besko5kKxQOAic; xbc=%7Bjzx%7DlGnJasl3r1URKbEN4X7GUelbw1TtYkpfmpKjPK7DAtJa1T-JEu3y0KWpls-eZdQHstvhRDIno-Cc0RspwRO2aAcfWzFyNsAJwoNrRYPME51ODQyRw3sm3ifKD0TY23L5s2H8aE4iz6rv0635WMce5gt2SFG--5RL0JOfKrbPT2kaRuQadcc7dd_-TbbPmuXVr53YQEhlkk7QKI3fcoKz1h2a4ijvjvtThAOftklf3PX4BA5i_i_Hd1dTy5CJ-E27CjHqu7-XYYnQHYmS3oRhXRCAhml6aWgtKkPhD4facQ6PdAVNC1cjNEQWM0Uc8O7mKBzSlRAer6dWZXwOJRCqOY-7nVRjhDmBfGD384KnG7ijp5JGeNWzWkcygyuQIvaP; _px2=eyJ1IjoiNDg0ZTY1NDAtZTM0NC0xMWVhLTljNGMtNmYzN2JhZTk1Njg1IiwidiI6ImIwMGFlMzM0LWQyOGYtMTFlYS05NzFhLTAyNDJhYzEyMDAwNyIsInQiOjE1OTc5Njk2MDE4OTMsImgiOiJlMjRlYWJlNmFlMGMyNDY3N2Q1MThiMjRhNWQ0MTBiYTlmMmI0NWFlNTg0ZjUxOGNkMTEwYWZlZDEyZGQxNzk3In0=; _px3=a7ffefc848e81774ae4ee8e4c8d5115c49726d264f919facf3330a653f892003:rIi8rf3yyFq/ATbSwE7Eld18x0KgsLtCf+ZAyfOXcTA1MO5MQ+6QqkMVe3yAOMWkr8MC4VYyEGin7DfoUHJUmw==:1000:jmBECJJeZY3G9srtsHSZkkzbKrdx/eNK6RZJWJpZRarCwEayPo9QkohRopW3usA3CicS+IVMqpHuIk8fMqH4gKbmqh8+kYpXBTNLu+I3IDyJPM5zW+jk8B8rTvXoqVSGNO8n0ugoA9g3uS0rCQxgBbMMR5em/5Qq16xWIxc4plw=; _pxde=a4b9ece7e34059aac8b650d138e12c1fb6c89b0fbc4e73c0c04e8bbece83666d:eyJ0aW1lc3RhbXAiOjE1OTc5NjkzMTI3ODYsImZfa2IiOjAsImlwY19pZCI6W119; _gat_UA-11413116-1=1',\n",
    "}\n",
    "\n",
    "params = (\n",
    "    ('timeframe', '5_YEAR'),\n",
    "    ('period', 'monthly'),\n",
    "    ('volumePeriod', 'monthly'),\n",
    ")\n",
    "\n",
    "response = requests.get('https://www.bloomberg.com/markets2/api/history/BDIY%3AIND/PX_LAST', headers=headers, params=params)\n",
    "\n",
    "# Si los datos son provistos en formato JSON podemos utilizar el metodo .json() para acceder a ellos.\n",
    "response.json()"
   ]
  },
  {
   "cell_type": "markdown",
   "metadata": {},
   "source": [
    "## Mejorando el código\n",
    "\n",
    "Analizando la API se puede ver que tiene ciertos parámetros modificables. Por ejemplo el código identificador de la empresa, el rango de tiempo de los datos y la frecuencia que nos interesa.\n",
    "\n",
    "Podemos poner todo esto dentro de una función que extraiga los precios de una compañia dada para que sea mas facil de usar y no necesitemos repetir el código cada vez que bajemos datos de una compañia nueva."
   ]
  },
  {
   "cell_type": "code",
   "execution_count": 35,
   "metadata": {},
   "outputs": [
    {
     "data": {
      "text/plain": [
       "[{'dateTime': '2018-01-31', 'value': 386.37},\n",
       " {'dateTime': '2018-02-28', 'value': 375.44},\n",
       " {'dateTime': '2018-03-30', 'value': 341.22},\n",
       " {'dateTime': '2018-04-30', 'value': 341.17},\n",
       " {'dateTime': '2018-05-31', 'value': 290.6}]"
      ]
     },
     "execution_count": 35,
     "metadata": {},
     "output_type": "execute_result"
    }
   ],
   "source": [
    "def company_prices(company_code, timeframe=\"5_YEAR\",period='monthly', volume_period = 'monthly'):\n",
    "    params = (\n",
    "        ('timeframe', timeframe),\n",
    "        ('period', period),\n",
    "        ('volumePeriod', volume_period),\n",
    "    )\n",
    "\n",
    "    headers = {\n",
    "        'authority': 'www.bloomberg.com',\n",
    "        'user-agent': 'Mozilla/5.0 (X11; Linux x86_64) AppleWebKit/537.36 (KHTML, like Gecko) Chrome/84.0.4147.125 Safari/537.36',\n",
    "        'dnt': '1',\n",
    "        'accept': '*/*',\n",
    "        'sec-fetch-site': 'same-origin',\n",
    "        'sec-fetch-mode': 'cors',\n",
    "        'sec-fetch-dest': 'empty',\n",
    "        'referer': 'https://www.bloomberg.com/quote/BDIY:IND',\n",
    "        'accept-language': 'es-US,es;q=0.9,en-US;q=0.8,en;q=0.7,es-419;q=0.6,ja;q=0.5',\n",
    "    }\n",
    "\n",
    "    response = requests.get(f'https://www.bloomberg.com/markets2/api/history/{company_code}/PX_LAST', headers=headers, params=params)\n",
    "    stock_data = response.json()\n",
    "    prices = # COMPLETAR\n",
    "    return prices\n",
    "\n",
    "prices = company_prices(\"MELI:LN\") # MercadoLibre\n",
    "prices"
   ]
  },
  {
   "cell_type": "code",
   "execution_count": 36,
   "metadata": {
    "collapsed": true,
    "jupyter": {
     "outputs_hidden": true
    }
   },
   "outputs": [
    {
     "data": {
      "application/vnd.plotly.v1+json": {
       "config": {
        "plotlyServerURL": "https://plot.ly"
       },
       "data": [
        {
         "hovertemplate": "x=%{x}<br>asd=%{y}<extra></extra>",
         "legendgroup": "",
         "line": {
          "color": "#636efa",
          "dash": "solid"
         },
         "mode": "lines",
         "name": "",
         "orientation": "v",
         "showlegend": false,
         "type": "scatter",
         "x": [
          "2018-01-31",
          "2018-02-28",
          "2018-03-30",
          "2018-04-30",
          "2018-05-31"
         ],
         "xaxis": "x",
         "y": [
          386.37,
          375.44,
          341.22,
          341.17,
          290.6
         ],
         "yaxis": "y"
        }
       ],
       "layout": {
        "legend": {
         "tracegroupgap": 0
        },
        "margin": {
         "t": 60
        },
        "template": {
         "data": {
          "bar": [
           {
            "error_x": {
             "color": "#2a3f5f"
            },
            "error_y": {
             "color": "#2a3f5f"
            },
            "marker": {
             "line": {
              "color": "#E5ECF6",
              "width": 0.5
             }
            },
            "type": "bar"
           }
          ],
          "barpolar": [
           {
            "marker": {
             "line": {
              "color": "#E5ECF6",
              "width": 0.5
             }
            },
            "type": "barpolar"
           }
          ],
          "carpet": [
           {
            "aaxis": {
             "endlinecolor": "#2a3f5f",
             "gridcolor": "white",
             "linecolor": "white",
             "minorgridcolor": "white",
             "startlinecolor": "#2a3f5f"
            },
            "baxis": {
             "endlinecolor": "#2a3f5f",
             "gridcolor": "white",
             "linecolor": "white",
             "minorgridcolor": "white",
             "startlinecolor": "#2a3f5f"
            },
            "type": "carpet"
           }
          ],
          "choropleth": [
           {
            "colorbar": {
             "outlinewidth": 0,
             "ticks": ""
            },
            "type": "choropleth"
           }
          ],
          "contour": [
           {
            "colorbar": {
             "outlinewidth": 0,
             "ticks": ""
            },
            "colorscale": [
             [
              0,
              "#0d0887"
             ],
             [
              0.1111111111111111,
              "#46039f"
             ],
             [
              0.2222222222222222,
              "#7201a8"
             ],
             [
              0.3333333333333333,
              "#9c179e"
             ],
             [
              0.4444444444444444,
              "#bd3786"
             ],
             [
              0.5555555555555556,
              "#d8576b"
             ],
             [
              0.6666666666666666,
              "#ed7953"
             ],
             [
              0.7777777777777778,
              "#fb9f3a"
             ],
             [
              0.8888888888888888,
              "#fdca26"
             ],
             [
              1,
              "#f0f921"
             ]
            ],
            "type": "contour"
           }
          ],
          "contourcarpet": [
           {
            "colorbar": {
             "outlinewidth": 0,
             "ticks": ""
            },
            "type": "contourcarpet"
           }
          ],
          "heatmap": [
           {
            "colorbar": {
             "outlinewidth": 0,
             "ticks": ""
            },
            "colorscale": [
             [
              0,
              "#0d0887"
             ],
             [
              0.1111111111111111,
              "#46039f"
             ],
             [
              0.2222222222222222,
              "#7201a8"
             ],
             [
              0.3333333333333333,
              "#9c179e"
             ],
             [
              0.4444444444444444,
              "#bd3786"
             ],
             [
              0.5555555555555556,
              "#d8576b"
             ],
             [
              0.6666666666666666,
              "#ed7953"
             ],
             [
              0.7777777777777778,
              "#fb9f3a"
             ],
             [
              0.8888888888888888,
              "#fdca26"
             ],
             [
              1,
              "#f0f921"
             ]
            ],
            "type": "heatmap"
           }
          ],
          "heatmapgl": [
           {
            "colorbar": {
             "outlinewidth": 0,
             "ticks": ""
            },
            "colorscale": [
             [
              0,
              "#0d0887"
             ],
             [
              0.1111111111111111,
              "#46039f"
             ],
             [
              0.2222222222222222,
              "#7201a8"
             ],
             [
              0.3333333333333333,
              "#9c179e"
             ],
             [
              0.4444444444444444,
              "#bd3786"
             ],
             [
              0.5555555555555556,
              "#d8576b"
             ],
             [
              0.6666666666666666,
              "#ed7953"
             ],
             [
              0.7777777777777778,
              "#fb9f3a"
             ],
             [
              0.8888888888888888,
              "#fdca26"
             ],
             [
              1,
              "#f0f921"
             ]
            ],
            "type": "heatmapgl"
           }
          ],
          "histogram": [
           {
            "marker": {
             "colorbar": {
              "outlinewidth": 0,
              "ticks": ""
             }
            },
            "type": "histogram"
           }
          ],
          "histogram2d": [
           {
            "colorbar": {
             "outlinewidth": 0,
             "ticks": ""
            },
            "colorscale": [
             [
              0,
              "#0d0887"
             ],
             [
              0.1111111111111111,
              "#46039f"
             ],
             [
              0.2222222222222222,
              "#7201a8"
             ],
             [
              0.3333333333333333,
              "#9c179e"
             ],
             [
              0.4444444444444444,
              "#bd3786"
             ],
             [
              0.5555555555555556,
              "#d8576b"
             ],
             [
              0.6666666666666666,
              "#ed7953"
             ],
             [
              0.7777777777777778,
              "#fb9f3a"
             ],
             [
              0.8888888888888888,
              "#fdca26"
             ],
             [
              1,
              "#f0f921"
             ]
            ],
            "type": "histogram2d"
           }
          ],
          "histogram2dcontour": [
           {
            "colorbar": {
             "outlinewidth": 0,
             "ticks": ""
            },
            "colorscale": [
             [
              0,
              "#0d0887"
             ],
             [
              0.1111111111111111,
              "#46039f"
             ],
             [
              0.2222222222222222,
              "#7201a8"
             ],
             [
              0.3333333333333333,
              "#9c179e"
             ],
             [
              0.4444444444444444,
              "#bd3786"
             ],
             [
              0.5555555555555556,
              "#d8576b"
             ],
             [
              0.6666666666666666,
              "#ed7953"
             ],
             [
              0.7777777777777778,
              "#fb9f3a"
             ],
             [
              0.8888888888888888,
              "#fdca26"
             ],
             [
              1,
              "#f0f921"
             ]
            ],
            "type": "histogram2dcontour"
           }
          ],
          "mesh3d": [
           {
            "colorbar": {
             "outlinewidth": 0,
             "ticks": ""
            },
            "type": "mesh3d"
           }
          ],
          "parcoords": [
           {
            "line": {
             "colorbar": {
              "outlinewidth": 0,
              "ticks": ""
             }
            },
            "type": "parcoords"
           }
          ],
          "pie": [
           {
            "automargin": true,
            "type": "pie"
           }
          ],
          "scatter": [
           {
            "marker": {
             "colorbar": {
              "outlinewidth": 0,
              "ticks": ""
             }
            },
            "type": "scatter"
           }
          ],
          "scatter3d": [
           {
            "line": {
             "colorbar": {
              "outlinewidth": 0,
              "ticks": ""
             }
            },
            "marker": {
             "colorbar": {
              "outlinewidth": 0,
              "ticks": ""
             }
            },
            "type": "scatter3d"
           }
          ],
          "scattercarpet": [
           {
            "marker": {
             "colorbar": {
              "outlinewidth": 0,
              "ticks": ""
             }
            },
            "type": "scattercarpet"
           }
          ],
          "scattergeo": [
           {
            "marker": {
             "colorbar": {
              "outlinewidth": 0,
              "ticks": ""
             }
            },
            "type": "scattergeo"
           }
          ],
          "scattergl": [
           {
            "marker": {
             "colorbar": {
              "outlinewidth": 0,
              "ticks": ""
             }
            },
            "type": "scattergl"
           }
          ],
          "scattermapbox": [
           {
            "marker": {
             "colorbar": {
              "outlinewidth": 0,
              "ticks": ""
             }
            },
            "type": "scattermapbox"
           }
          ],
          "scatterpolar": [
           {
            "marker": {
             "colorbar": {
              "outlinewidth": 0,
              "ticks": ""
             }
            },
            "type": "scatterpolar"
           }
          ],
          "scatterpolargl": [
           {
            "marker": {
             "colorbar": {
              "outlinewidth": 0,
              "ticks": ""
             }
            },
            "type": "scatterpolargl"
           }
          ],
          "scatterternary": [
           {
            "marker": {
             "colorbar": {
              "outlinewidth": 0,
              "ticks": ""
             }
            },
            "type": "scatterternary"
           }
          ],
          "surface": [
           {
            "colorbar": {
             "outlinewidth": 0,
             "ticks": ""
            },
            "colorscale": [
             [
              0,
              "#0d0887"
             ],
             [
              0.1111111111111111,
              "#46039f"
             ],
             [
              0.2222222222222222,
              "#7201a8"
             ],
             [
              0.3333333333333333,
              "#9c179e"
             ],
             [
              0.4444444444444444,
              "#bd3786"
             ],
             [
              0.5555555555555556,
              "#d8576b"
             ],
             [
              0.6666666666666666,
              "#ed7953"
             ],
             [
              0.7777777777777778,
              "#fb9f3a"
             ],
             [
              0.8888888888888888,
              "#fdca26"
             ],
             [
              1,
              "#f0f921"
             ]
            ],
            "type": "surface"
           }
          ],
          "table": [
           {
            "cells": {
             "fill": {
              "color": "#EBF0F8"
             },
             "line": {
              "color": "white"
             }
            },
            "header": {
             "fill": {
              "color": "#C8D4E3"
             },
             "line": {
              "color": "white"
             }
            },
            "type": "table"
           }
          ]
         },
         "layout": {
          "annotationdefaults": {
           "arrowcolor": "#2a3f5f",
           "arrowhead": 0,
           "arrowwidth": 1
          },
          "coloraxis": {
           "colorbar": {
            "outlinewidth": 0,
            "ticks": ""
           }
          },
          "colorscale": {
           "diverging": [
            [
             0,
             "#8e0152"
            ],
            [
             0.1,
             "#c51b7d"
            ],
            [
             0.2,
             "#de77ae"
            ],
            [
             0.3,
             "#f1b6da"
            ],
            [
             0.4,
             "#fde0ef"
            ],
            [
             0.5,
             "#f7f7f7"
            ],
            [
             0.6,
             "#e6f5d0"
            ],
            [
             0.7,
             "#b8e186"
            ],
            [
             0.8,
             "#7fbc41"
            ],
            [
             0.9,
             "#4d9221"
            ],
            [
             1,
             "#276419"
            ]
           ],
           "sequential": [
            [
             0,
             "#0d0887"
            ],
            [
             0.1111111111111111,
             "#46039f"
            ],
            [
             0.2222222222222222,
             "#7201a8"
            ],
            [
             0.3333333333333333,
             "#9c179e"
            ],
            [
             0.4444444444444444,
             "#bd3786"
            ],
            [
             0.5555555555555556,
             "#d8576b"
            ],
            [
             0.6666666666666666,
             "#ed7953"
            ],
            [
             0.7777777777777778,
             "#fb9f3a"
            ],
            [
             0.8888888888888888,
             "#fdca26"
            ],
            [
             1,
             "#f0f921"
            ]
           ],
           "sequentialminus": [
            [
             0,
             "#0d0887"
            ],
            [
             0.1111111111111111,
             "#46039f"
            ],
            [
             0.2222222222222222,
             "#7201a8"
            ],
            [
             0.3333333333333333,
             "#9c179e"
            ],
            [
             0.4444444444444444,
             "#bd3786"
            ],
            [
             0.5555555555555556,
             "#d8576b"
            ],
            [
             0.6666666666666666,
             "#ed7953"
            ],
            [
             0.7777777777777778,
             "#fb9f3a"
            ],
            [
             0.8888888888888888,
             "#fdca26"
            ],
            [
             1,
             "#f0f921"
            ]
           ]
          },
          "colorway": [
           "#636efa",
           "#EF553B",
           "#00cc96",
           "#ab63fa",
           "#FFA15A",
           "#19d3f3",
           "#FF6692",
           "#B6E880",
           "#FF97FF",
           "#FECB52"
          ],
          "font": {
           "color": "#2a3f5f"
          },
          "geo": {
           "bgcolor": "white",
           "lakecolor": "white",
           "landcolor": "#E5ECF6",
           "showlakes": true,
           "showland": true,
           "subunitcolor": "white"
          },
          "hoverlabel": {
           "align": "left"
          },
          "hovermode": "closest",
          "mapbox": {
           "style": "light"
          },
          "paper_bgcolor": "white",
          "plot_bgcolor": "#E5ECF6",
          "polar": {
           "angularaxis": {
            "gridcolor": "white",
            "linecolor": "white",
            "ticks": ""
           },
           "bgcolor": "#E5ECF6",
           "radialaxis": {
            "gridcolor": "white",
            "linecolor": "white",
            "ticks": ""
           }
          },
          "scene": {
           "xaxis": {
            "backgroundcolor": "#E5ECF6",
            "gridcolor": "white",
            "gridwidth": 2,
            "linecolor": "white",
            "showbackground": true,
            "ticks": "",
            "zerolinecolor": "white"
           },
           "yaxis": {
            "backgroundcolor": "#E5ECF6",
            "gridcolor": "white",
            "gridwidth": 2,
            "linecolor": "white",
            "showbackground": true,
            "ticks": "",
            "zerolinecolor": "white"
           },
           "zaxis": {
            "backgroundcolor": "#E5ECF6",
            "gridcolor": "white",
            "gridwidth": 2,
            "linecolor": "white",
            "showbackground": true,
            "ticks": "",
            "zerolinecolor": "white"
           }
          },
          "shapedefaults": {
           "line": {
            "color": "#2a3f5f"
           }
          },
          "ternary": {
           "aaxis": {
            "gridcolor": "white",
            "linecolor": "white",
            "ticks": ""
           },
           "baxis": {
            "gridcolor": "white",
            "linecolor": "white",
            "ticks": ""
           },
           "bgcolor": "#E5ECF6",
           "caxis": {
            "gridcolor": "white",
            "linecolor": "white",
            "ticks": ""
           }
          },
          "title": {
           "x": 0.05
          },
          "xaxis": {
           "automargin": true,
           "gridcolor": "white",
           "linecolor": "white",
           "ticks": "",
           "title": {
            "standoff": 15
           },
           "zerolinecolor": "white",
           "zerolinewidth": 2
          },
          "yaxis": {
           "automargin": true,
           "gridcolor": "white",
           "linecolor": "white",
           "ticks": "",
           "title": {
            "standoff": 15
           },
           "zerolinecolor": "white",
           "zerolinewidth": 2
          }
         }
        },
        "xaxis": {
         "anchor": "y",
         "domain": [
          0,
          1
         ],
         "title": {
          "text": "x"
         }
        },
        "yaxis": {
         "anchor": "x",
         "domain": [
          0,
          1
         ],
         "title": {
          "text": "asd"
         }
        }
       }
      },
      "text/html": [
       "<div>\n",
       "        \n",
       "        \n",
       "            <div id=\"3a0c94b1-d90f-405c-ab5a-6929b1d8726b\" class=\"plotly-graph-div\" style=\"height:525px; width:100%;\"></div>\n",
       "            <script type=\"text/javascript\">\n",
       "                require([\"plotly\"], function(Plotly) {\n",
       "                    window.PLOTLYENV=window.PLOTLYENV || {};\n",
       "                    \n",
       "                if (document.getElementById(\"3a0c94b1-d90f-405c-ab5a-6929b1d8726b\")) {\n",
       "                    Plotly.newPlot(\n",
       "                        '3a0c94b1-d90f-405c-ab5a-6929b1d8726b',\n",
       "                        [{\"hovertemplate\": \"x=%{x}<br>asd=%{y}<extra></extra>\", \"legendgroup\": \"\", \"line\": {\"color\": \"#636efa\", \"dash\": \"solid\"}, \"mode\": \"lines\", \"name\": \"\", \"orientation\": \"v\", \"showlegend\": false, \"type\": \"scatter\", \"x\": [\"2018-01-31\", \"2018-02-28\", \"2018-03-30\", \"2018-04-30\", \"2018-05-31\"], \"xaxis\": \"x\", \"y\": [386.37, 375.44, 341.22, 341.17, 290.6], \"yaxis\": \"y\"}],\n",
       "                        {\"legend\": {\"tracegroupgap\": 0}, \"margin\": {\"t\": 60}, \"template\": {\"data\": {\"bar\": [{\"error_x\": {\"color\": \"#2a3f5f\"}, \"error_y\": {\"color\": \"#2a3f5f\"}, \"marker\": {\"line\": {\"color\": \"#E5ECF6\", \"width\": 0.5}}, \"type\": \"bar\"}], \"barpolar\": [{\"marker\": {\"line\": {\"color\": \"#E5ECF6\", \"width\": 0.5}}, \"type\": \"barpolar\"}], \"carpet\": [{\"aaxis\": {\"endlinecolor\": \"#2a3f5f\", \"gridcolor\": \"white\", \"linecolor\": \"white\", \"minorgridcolor\": \"white\", \"startlinecolor\": \"#2a3f5f\"}, \"baxis\": {\"endlinecolor\": \"#2a3f5f\", \"gridcolor\": \"white\", \"linecolor\": \"white\", \"minorgridcolor\": \"white\", \"startlinecolor\": \"#2a3f5f\"}, \"type\": \"carpet\"}], \"choropleth\": [{\"colorbar\": {\"outlinewidth\": 0, \"ticks\": \"\"}, \"type\": \"choropleth\"}], \"contour\": [{\"colorbar\": {\"outlinewidth\": 0, \"ticks\": \"\"}, \"colorscale\": [[0.0, \"#0d0887\"], [0.1111111111111111, \"#46039f\"], [0.2222222222222222, \"#7201a8\"], [0.3333333333333333, \"#9c179e\"], [0.4444444444444444, \"#bd3786\"], [0.5555555555555556, \"#d8576b\"], [0.6666666666666666, \"#ed7953\"], [0.7777777777777778, \"#fb9f3a\"], [0.8888888888888888, \"#fdca26\"], [1.0, \"#f0f921\"]], \"type\": \"contour\"}], \"contourcarpet\": [{\"colorbar\": {\"outlinewidth\": 0, \"ticks\": \"\"}, \"type\": \"contourcarpet\"}], \"heatmap\": [{\"colorbar\": {\"outlinewidth\": 0, \"ticks\": \"\"}, \"colorscale\": [[0.0, \"#0d0887\"], [0.1111111111111111, \"#46039f\"], [0.2222222222222222, \"#7201a8\"], [0.3333333333333333, \"#9c179e\"], [0.4444444444444444, \"#bd3786\"], [0.5555555555555556, \"#d8576b\"], [0.6666666666666666, \"#ed7953\"], [0.7777777777777778, \"#fb9f3a\"], [0.8888888888888888, \"#fdca26\"], [1.0, \"#f0f921\"]], \"type\": \"heatmap\"}], \"heatmapgl\": [{\"colorbar\": {\"outlinewidth\": 0, \"ticks\": \"\"}, \"colorscale\": [[0.0, \"#0d0887\"], [0.1111111111111111, \"#46039f\"], [0.2222222222222222, \"#7201a8\"], [0.3333333333333333, \"#9c179e\"], [0.4444444444444444, \"#bd3786\"], [0.5555555555555556, \"#d8576b\"], [0.6666666666666666, \"#ed7953\"], [0.7777777777777778, \"#fb9f3a\"], [0.8888888888888888, \"#fdca26\"], [1.0, \"#f0f921\"]], \"type\": \"heatmapgl\"}], \"histogram\": [{\"marker\": {\"colorbar\": {\"outlinewidth\": 0, \"ticks\": \"\"}}, \"type\": \"histogram\"}], \"histogram2d\": [{\"colorbar\": {\"outlinewidth\": 0, \"ticks\": \"\"}, \"colorscale\": [[0.0, \"#0d0887\"], [0.1111111111111111, \"#46039f\"], [0.2222222222222222, \"#7201a8\"], [0.3333333333333333, \"#9c179e\"], [0.4444444444444444, \"#bd3786\"], [0.5555555555555556, \"#d8576b\"], [0.6666666666666666, \"#ed7953\"], [0.7777777777777778, \"#fb9f3a\"], [0.8888888888888888, \"#fdca26\"], [1.0, \"#f0f921\"]], \"type\": \"histogram2d\"}], \"histogram2dcontour\": [{\"colorbar\": {\"outlinewidth\": 0, \"ticks\": \"\"}, \"colorscale\": [[0.0, \"#0d0887\"], [0.1111111111111111, \"#46039f\"], [0.2222222222222222, \"#7201a8\"], [0.3333333333333333, \"#9c179e\"], [0.4444444444444444, \"#bd3786\"], [0.5555555555555556, \"#d8576b\"], [0.6666666666666666, \"#ed7953\"], [0.7777777777777778, \"#fb9f3a\"], [0.8888888888888888, \"#fdca26\"], [1.0, \"#f0f921\"]], \"type\": \"histogram2dcontour\"}], \"mesh3d\": [{\"colorbar\": {\"outlinewidth\": 0, \"ticks\": \"\"}, \"type\": \"mesh3d\"}], \"parcoords\": [{\"line\": {\"colorbar\": {\"outlinewidth\": 0, \"ticks\": \"\"}}, \"type\": \"parcoords\"}], \"pie\": [{\"automargin\": true, \"type\": \"pie\"}], \"scatter\": [{\"marker\": {\"colorbar\": {\"outlinewidth\": 0, \"ticks\": \"\"}}, \"type\": \"scatter\"}], \"scatter3d\": [{\"line\": {\"colorbar\": {\"outlinewidth\": 0, \"ticks\": \"\"}}, \"marker\": {\"colorbar\": {\"outlinewidth\": 0, \"ticks\": \"\"}}, \"type\": \"scatter3d\"}], \"scattercarpet\": [{\"marker\": {\"colorbar\": {\"outlinewidth\": 0, \"ticks\": \"\"}}, \"type\": \"scattercarpet\"}], \"scattergeo\": [{\"marker\": {\"colorbar\": {\"outlinewidth\": 0, \"ticks\": \"\"}}, \"type\": \"scattergeo\"}], \"scattergl\": [{\"marker\": {\"colorbar\": {\"outlinewidth\": 0, \"ticks\": \"\"}}, \"type\": \"scattergl\"}], \"scattermapbox\": [{\"marker\": {\"colorbar\": {\"outlinewidth\": 0, \"ticks\": \"\"}}, \"type\": \"scattermapbox\"}], \"scatterpolar\": [{\"marker\": {\"colorbar\": {\"outlinewidth\": 0, \"ticks\": \"\"}}, \"type\": \"scatterpolar\"}], \"scatterpolargl\": [{\"marker\": {\"colorbar\": {\"outlinewidth\": 0, \"ticks\": \"\"}}, \"type\": \"scatterpolargl\"}], \"scatterternary\": [{\"marker\": {\"colorbar\": {\"outlinewidth\": 0, \"ticks\": \"\"}}, \"type\": \"scatterternary\"}], \"surface\": [{\"colorbar\": {\"outlinewidth\": 0, \"ticks\": \"\"}, \"colorscale\": [[0.0, \"#0d0887\"], [0.1111111111111111, \"#46039f\"], [0.2222222222222222, \"#7201a8\"], [0.3333333333333333, \"#9c179e\"], [0.4444444444444444, \"#bd3786\"], [0.5555555555555556, \"#d8576b\"], [0.6666666666666666, \"#ed7953\"], [0.7777777777777778, \"#fb9f3a\"], [0.8888888888888888, \"#fdca26\"], [1.0, \"#f0f921\"]], \"type\": \"surface\"}], \"table\": [{\"cells\": {\"fill\": {\"color\": \"#EBF0F8\"}, \"line\": {\"color\": \"white\"}}, \"header\": {\"fill\": {\"color\": \"#C8D4E3\"}, \"line\": {\"color\": \"white\"}}, \"type\": \"table\"}]}, \"layout\": {\"annotationdefaults\": {\"arrowcolor\": \"#2a3f5f\", \"arrowhead\": 0, \"arrowwidth\": 1}, \"coloraxis\": {\"colorbar\": {\"outlinewidth\": 0, \"ticks\": \"\"}}, \"colorscale\": {\"diverging\": [[0, \"#8e0152\"], [0.1, \"#c51b7d\"], [0.2, \"#de77ae\"], [0.3, \"#f1b6da\"], [0.4, \"#fde0ef\"], [0.5, \"#f7f7f7\"], [0.6, \"#e6f5d0\"], [0.7, \"#b8e186\"], [0.8, \"#7fbc41\"], [0.9, \"#4d9221\"], [1, \"#276419\"]], \"sequential\": [[0.0, \"#0d0887\"], [0.1111111111111111, \"#46039f\"], [0.2222222222222222, \"#7201a8\"], [0.3333333333333333, \"#9c179e\"], [0.4444444444444444, \"#bd3786\"], [0.5555555555555556, \"#d8576b\"], [0.6666666666666666, \"#ed7953\"], [0.7777777777777778, \"#fb9f3a\"], [0.8888888888888888, \"#fdca26\"], [1.0, \"#f0f921\"]], \"sequentialminus\": [[0.0, \"#0d0887\"], [0.1111111111111111, \"#46039f\"], [0.2222222222222222, \"#7201a8\"], [0.3333333333333333, \"#9c179e\"], [0.4444444444444444, \"#bd3786\"], [0.5555555555555556, \"#d8576b\"], [0.6666666666666666, \"#ed7953\"], [0.7777777777777778, \"#fb9f3a\"], [0.8888888888888888, \"#fdca26\"], [1.0, \"#f0f921\"]]}, \"colorway\": [\"#636efa\", \"#EF553B\", \"#00cc96\", \"#ab63fa\", \"#FFA15A\", \"#19d3f3\", \"#FF6692\", \"#B6E880\", \"#FF97FF\", \"#FECB52\"], \"font\": {\"color\": \"#2a3f5f\"}, \"geo\": {\"bgcolor\": \"white\", \"lakecolor\": \"white\", \"landcolor\": \"#E5ECF6\", \"showlakes\": true, \"showland\": true, \"subunitcolor\": \"white\"}, \"hoverlabel\": {\"align\": \"left\"}, \"hovermode\": \"closest\", \"mapbox\": {\"style\": \"light\"}, \"paper_bgcolor\": \"white\", \"plot_bgcolor\": \"#E5ECF6\", \"polar\": {\"angularaxis\": {\"gridcolor\": \"white\", \"linecolor\": \"white\", \"ticks\": \"\"}, \"bgcolor\": \"#E5ECF6\", \"radialaxis\": {\"gridcolor\": \"white\", \"linecolor\": \"white\", \"ticks\": \"\"}}, \"scene\": {\"xaxis\": {\"backgroundcolor\": \"#E5ECF6\", \"gridcolor\": \"white\", \"gridwidth\": 2, \"linecolor\": \"white\", \"showbackground\": true, \"ticks\": \"\", \"zerolinecolor\": \"white\"}, \"yaxis\": {\"backgroundcolor\": \"#E5ECF6\", \"gridcolor\": \"white\", \"gridwidth\": 2, \"linecolor\": \"white\", \"showbackground\": true, \"ticks\": \"\", \"zerolinecolor\": \"white\"}, \"zaxis\": {\"backgroundcolor\": \"#E5ECF6\", \"gridcolor\": \"white\", \"gridwidth\": 2, \"linecolor\": \"white\", \"showbackground\": true, \"ticks\": \"\", \"zerolinecolor\": \"white\"}}, \"shapedefaults\": {\"line\": {\"color\": \"#2a3f5f\"}}, \"ternary\": {\"aaxis\": {\"gridcolor\": \"white\", \"linecolor\": \"white\", \"ticks\": \"\"}, \"baxis\": {\"gridcolor\": \"white\", \"linecolor\": \"white\", \"ticks\": \"\"}, \"bgcolor\": \"#E5ECF6\", \"caxis\": {\"gridcolor\": \"white\", \"linecolor\": \"white\", \"ticks\": \"\"}}, \"title\": {\"x\": 0.05}, \"xaxis\": {\"automargin\": true, \"gridcolor\": \"white\", \"linecolor\": \"white\", \"ticks\": \"\", \"title\": {\"standoff\": 15}, \"zerolinecolor\": \"white\", \"zerolinewidth\": 2}, \"yaxis\": {\"automargin\": true, \"gridcolor\": \"white\", \"linecolor\": \"white\", \"ticks\": \"\", \"title\": {\"standoff\": 15}, \"zerolinecolor\": \"white\", \"zerolinewidth\": 2}}}, \"xaxis\": {\"anchor\": \"y\", \"domain\": [0.0, 1.0], \"title\": {\"text\": \"x\"}}, \"yaxis\": {\"anchor\": \"x\", \"domain\": [0.0, 1.0], \"title\": {\"text\": \"asd\"}}},\n",
       "                        {\"responsive\": true}\n",
       "                    ).then(function(){\n",
       "                            \n",
       "var gd = document.getElementById('3a0c94b1-d90f-405c-ab5a-6929b1d8726b');\n",
       "var x = new MutationObserver(function (mutations, observer) {{\n",
       "        var display = window.getComputedStyle(gd).display;\n",
       "        if (!display || display === 'none') {{\n",
       "            console.log([gd, 'removed!']);\n",
       "            Plotly.purge(gd);\n",
       "            observer.disconnect();\n",
       "        }}\n",
       "}});\n",
       "\n",
       "// Listen for the removal of the full notebook cells\n",
       "var notebookContainer = gd.closest('#notebook-container');\n",
       "if (notebookContainer) {{\n",
       "    x.observe(notebookContainer, {childList: true});\n",
       "}}\n",
       "\n",
       "// Listen for the clearing of the current output cell\n",
       "var outputEl = gd.closest('.output');\n",
       "if (outputEl) {{\n",
       "    x.observe(outputEl, {childList: true});\n",
       "}}\n",
       "\n",
       "                        })\n",
       "                };\n",
       "                });\n",
       "            </script>\n",
       "        </div>"
      ]
     },
     "metadata": {},
     "output_type": "display_data"
    }
   ],
   "source": [
    "import plotly.express as px\n",
    "\n",
    "y = [x['value'] for x in prices]\n",
    "x = [x['dateTime'] for x in prices]\n",
    "\n",
    "fig = px.line(x=x, y=y, labels={'x':'x', 'y':\"asd\"})\n",
    "fig.show()"
   ]
  },
  {
   "cell_type": "markdown",
   "metadata": {},
   "source": [
    "## Ejercicio de Twitter\n",
    "\n",
    "Armen una lista con los strings de los primeros 20 tweets de pyconar. Luego utilicen la función provista para calcular la frecuencia de los hashtags.\n",
    "\n",
    "Link que deberán inspeccionar: https://twitter.com/pyconar"
   ]
  },
  {
   "cell_type": "code",
   "execution_count": 32,
   "metadata": {},
   "outputs": [],
   "source": [
    "# 1. Encontrar API oculta que provee los datos de los tweets\n",
    "# 2. Descargar datos utilizando curl.trillworks.com y convertirlos a json\n",
    "# 3 Armar una lista vacia llamada \"tweets\"\n",
    "# 4 Identificar en que parte del diccionario se encuentra el atributo \"full_text\"\n",
    "# 5 Iterar por cada tweet y extraer el \"full_text\" y agregarlo a la lista \"tweets\""
   ]
  },
  {
   "cell_type": "markdown",
   "metadata": {},
   "source": [
    "#### Usemos lo hecho para calcular las frecuencia de cada hashtag"
   ]
  },
  {
   "cell_type": "code",
   "execution_count": 17,
   "metadata": {},
   "outputs": [
    {
     "data": {
      "text/html": [
       "<div>\n",
       "<style scoped>\n",
       "    .dataframe tbody tr th:only-of-type {\n",
       "        vertical-align: middle;\n",
       "    }\n",
       "\n",
       "    .dataframe tbody tr th {\n",
       "        vertical-align: top;\n",
       "    }\n",
       "\n",
       "    .dataframe thead th {\n",
       "        text-align: right;\n",
       "    }\n",
       "</style>\n",
       "<table border=\"1\" class=\"dataframe\">\n",
       "  <thead>\n",
       "    <tr style=\"text-align: right;\">\n",
       "      <th></th>\n",
       "      <th>hashtags</th>\n",
       "    </tr>\n",
       "  </thead>\n",
       "  <tbody>\n",
       "    <tr>\n",
       "      <td>0</td>\n",
       "      <td>sinverguenza</td>\n",
       "    </tr>\n",
       "    <tr>\n",
       "      <td>1</td>\n",
       "      <td>mascotasreaccionan</td>\n",
       "    </tr>\n",
       "    <tr>\n",
       "      <td>2</td>\n",
       "      <td>perritoshaciendocosas</td>\n",
       "    </tr>\n",
       "    <tr>\n",
       "      <td>3</td>\n",
       "      <td>cachorritos</td>\n",
       "    </tr>\n",
       "    <tr>\n",
       "      <td>4</td>\n",
       "      <td>perritoschallenge</td>\n",
       "    </tr>\n",
       "  </tbody>\n",
       "</table>\n",
       "</div>"
      ],
      "text/plain": [
       "                hashtags\n",
       "0           sinverguenza\n",
       "1     mascotasreaccionan\n",
       "2  perritoshaciendocosas\n",
       "3            cachorritos\n",
       "4      perritoschallenge"
      ]
     },
     "execution_count": 17,
     "metadata": {},
     "output_type": "execute_result"
    }
   ],
   "source": [
    "import pandas as pd\n",
    "\n",
    "# funcion para calcular hashtags\n",
    "def get_hashtags(texts):\n",
    "    joined_texts = \"|\".join(texts)\n",
    "    joined_texts = \"\".join([c if c.isalpha() or c == \"#\" else \" \" for c in joined_texts])\n",
    "    hashtags = [tag.strip(\"#\") for tag in joined_texts.split() if tag.startswith(\"#\") and len(tag) > 1]\n",
    "    return hashtags\n",
    "\n",
    "hashtags = get_hashtags(tweets)\n",
    "\n",
    "data = pd.DataFrame(hashtags,columns=[\"hashtags\"])\n",
    "data.head()"
   ]
  },
  {
   "cell_type": "code",
   "execution_count": 62,
   "metadata": {},
   "outputs": [
    {
     "data": {
      "text/plain": [
       "<matplotlib.axes._subplots.AxesSubplot at 0x7fcba857c8d0>"
      ]
     },
     "execution_count": 62,
     "metadata": {},
     "output_type": "execute_result"
    },
    {
     "data": {
      "image/png": "[encoded data removed]",
      "text/plain": [
       "<Figure size 432x288 with 1 Axes>"
      ]
     },
     "metadata": {
      "needs_background": "light"
     },
     "output_type": "display_data"
    }
   ],
   "source": [
    "data[\"hashtags\"].value_counts().plot(kind='bar')"
   ]
  },
  {
   "cell_type": "markdown",
   "metadata": {},
   "source": [
    "## Para seguir jugando\n",
    "\n",
    "[aiva.ai](https://aiva.ai) también tiene una API interna que pueden intentar encontrar (Hay que registrarse)."
   ]
  },
  {
   "cell_type": "markdown",
   "metadata": {},
   "source": [
    "## Herramientas útiles\n",
    "- [curl2python](https://curl.trillworks.com/)\n",
    "- [Visualizador de JSONs](http://jsonviewer.stack.hu/)\n",
    "\n",
    "## Recursos útiles\n",
    "- [Tutorial de Indian Pythonista sobre APIs ocultas](https://www.youtube.com/watch?v=twuhocLtGCg)"
   ]
  }
 ],
 "metadata": {
  "instance_type": "ml.t3.medium",
  "kernelspec": {
   "display_name": "Python 3",
   "language": "python",
   "name": "python3"
  },
  "language_info": {
   "codemirror_mode": {
    "name": "ipython",
    "version": 3
   },
   "file_extension": ".py",
   "mimetype": "text/x-python",
   "name": "python",
   "nbconvert_exporter": "python",
   "pygments_lexer": "ipython3",
   "version": "3.6.9"
  }
 },
 "nbformat": 4,
 "nbformat_minor": 4
}
