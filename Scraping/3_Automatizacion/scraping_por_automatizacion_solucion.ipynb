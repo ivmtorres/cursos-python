{
 "cells": [
  {
   "cell_type": "markdown",
   "metadata": {},
   "source": [
    "# Robots que controlan nuestro navegador\n",
    "\n",
    "A veces los sitios webs estan preparados para ser utilizados unicamente desde un navegador y los métodos que venimos utilizando no funcionan.\n",
    "\n",
    "En esos casos uno puede intentar desarrollar una especie de robot que controle nuestro navegador interactuando con internet de igual forma que lo hace un humano. Hay una herramienta llamada __Selenium__ que puede utilizarse exactamente para eso."
   ]
  },
  {
   "cell_type": "markdown",
   "metadata": {},
   "source": [
    "## XPath\n",
    "\n",
    "¿Como se hace para programar un robot para que utilice un sitio web?\n",
    "\n",
    "Deberíamos poder describir de alguna manera donde esta ubicada cosa en un sitio web, XPath es un lenguaje diseñado con este objetivo.\n",
    "\n",
    "![](imagenes/xpath.png)"
   ]
  },
  {
   "cell_type": "markdown",
   "metadata": {},
   "source": [
    "### ¿Cómo obtengo el XPath de un elemento de una página web?\n",
    "\n",
    "1. Entramos al sitio con google chrome (Con Firefox es similar también)\n",
    "2. Vamos a _Inspeccionar_ ( ctrl+shift+i )\n",
    "2. Seleccionamos con botón derecho el elemento que nos interesa\n",
    "3. Presionamos _Inspeccionar_\n",
    "4. Buscamos que parte del código HTML resalta ese elemento\n",
    "5. Lo presionamos con botón derecho y vamos a Copy -> Copy XPath\n",
    "\n",
    "[![IMAGE ALT TEXT HERE](https://i.ytimg.com/vi/jSiYpmvA50A/maxresdefault.jpg)](https://youtu.be/jSiYpmvA50A?t=26)"
   ]
  },
  {
   "cell_type": "markdown",
   "metadata": {
    "colab_type": "text",
    "id": "pRcpDhKurGsk"
   },
   "source": [
    "## Ejemplo 1: Buscar en google\n",
    "\n",
    "Veamos un poco sobre como se usa esta herramienta nueva"
   ]
  },
  {
   "cell_type": "code",
   "execution_count": 1,
   "metadata": {
    "colab": {
     "autoexec": {
      "startup": false,
      "wait_interval": 0
     }
    },
    "colab_type": "code",
    "id": "EZtrF0W5rGsp"
   },
   "outputs": [],
   "source": [
    "from selenium import webdriver\n",
    "from selenium.webdriver.common.keys import Keys"
   ]
  },
  {
   "cell_type": "code",
   "execution_count": 22,
   "metadata": {
    "colab": {
     "autoexec": {
      "startup": false,
      "wait_interval": 0
     }
    },
    "colab_type": "code",
    "id": "Hzc538_7rGs4"
   },
   "outputs": [],
   "source": [
    "chromedriver_path = './chromedriver'\n",
    "url = 'http://google.com/'\n",
    "driver = webdriver.Chrome(chromedriver_path)\n",
    "driver.get(url)"
   ]
  },
  {
   "cell_type": "code",
   "execution_count": 6,
   "metadata": {},
   "outputs": [],
   "source": [
    "from selenium.webdriver.common.keys import Keys\n",
    "driver.find_element_by_xpath('//*[@id=\"tsf\"]/div[2]/div[1]/div[1]/div/div[2]/input').send_keys(\"python\" + Keys.ENTER)"
   ]
  },
  {
   "cell_type": "code",
   "execution_count": 7,
   "metadata": {},
   "outputs": [],
   "source": [
    "driver.find_element_by_xpath('//*[@id=\"hdtb-msb-vis\"]/div[2]/a').click()"
   ]
  },
  {
   "cell_type": "code",
   "execution_count": null,
   "metadata": {},
   "outputs": [],
   "source": [
    "driver.close()"
   ]
  },
  {
   "cell_type": "markdown",
   "metadata": {},
   "source": [
    "## Ejemplo 2: Spotify\n",
    "\n",
    "Veamos como podemos extraer datos"
   ]
  },
  {
   "cell_type": "code",
   "execution_count": 13,
   "metadata": {},
   "outputs": [],
   "source": [
    "url = 'https://open.spotify.com/'\n",
    "driver = webdriver.Chrome(chromedriver_path)\n",
    "driver.get(url)"
   ]
  },
  {
   "cell_type": "code",
   "execution_count": 15,
   "metadata": {},
   "outputs": [],
   "source": [
    "driver.find_element_by_xpath('//*[@id=\"main\"]/div/div[2]/div[4]/main/div/div[2]/div/div/div[2]/section/div/section[1]/div[2]/div[1]/div/div[3]').click()"
   ]
  },
  {
   "cell_type": "code",
   "execution_count": 17,
   "metadata": {},
   "outputs": [
    {
     "name": "stdout",
     "output_type": "stream",
     "text": [
      "Mansión Reggaetón\n",
      "2,531,239 likes\n"
     ]
    }
   ],
   "source": [
    "def element_text(xpath):\n",
    "    element = driver.find_element_by_xpath(xpath)\n",
    "    return element.text\n",
    "\n",
    "title_xpath = '//*[@id=\"main\"]/div/div[2]/div[4]/main/div/div[2]/div/div/div[2]/section/div[1]/div[5]/span/h1'\n",
    "title = element_text(title_xpath)\n",
    "print(title)\n",
    "\n",
    "likes_xpath = '//*[@id=\"main\"]/div/div[2]/div[4]/main/div/div[2]/div/div/div[2]/section/div[1]/div[5]/div/span[1]'\n",
    "likes = element_text(likes_xpath)\n",
    "print(likes)"
   ]
  },
  {
   "cell_type": "code",
   "execution_count": 18,
   "metadata": {},
   "outputs": [],
   "source": [
    "driver.close()"
   ]
  },
  {
   "cell_type": "markdown",
   "metadata": {},
   "source": [
    "### Ejercicio\n",
    "Descargar también la duración de la playlist"
   ]
  },
  {
   "cell_type": "code",
   "execution_count": 35,
   "metadata": {},
   "outputs": [
    {
     "name": "stdout",
     "output_type": "stream",
     "text": [
      "Mansión Reggaetón\n",
      "2,531,254 likes\n",
      "2 hr 56 min\n"
     ]
    }
   ],
   "source": [
    "import time\n",
    "\n",
    "url = 'https://open.spotify.com/'\n",
    "driver = webdriver.Chrome(chromedriver_path)\n",
    "driver.get(url)\n",
    "\n",
    "time.sleep(4)\n",
    "\n",
    "driver.find_element_by_xpath('//*[@id=\"main\"]/div/div[2]/div[4]/main/div/div[2]/div/div/div[2]/section/div/section[1]/div[2]/div[1]/div/div[3]').click()\n",
    "\n",
    "time.sleep(4)\n",
    "\n",
    "def element_text(xpath):\n",
    "    element = driver.find_element_by_xpath(xpath)\n",
    "    return element.text\n",
    "\n",
    "title_xpath = '//*[@id=\"main\"]/div/div[2]/div[4]/main/div/div[2]/div/div/div[2]/section/div[1]/div[5]/span/h1'\n",
    "title = element_text(title_xpath)\n",
    "print(title)\n",
    "\n",
    "likes_xpath = '//*[@id=\"main\"]/div/div[2]/div[4]/main/div/div[2]/div/div/div[2]/section/div[1]/div[5]/div/span[1]'\n",
    "likes = element_text(likes_xpath)\n",
    "print(likes)\n",
    "\n",
    "duration_xpath = '//*[@id=\"main\"]/div/div[2]/div[4]/main/div/div[2]/div/div/div[2]/section/div[1]/div[5]/div/span[2]/span'\n",
    "duration = element_text(duration_xpath)\n",
    "print(duration)\n",
    "\n",
    "driver.close()"
   ]
  },
  {
   "cell_type": "markdown",
   "metadata": {},
   "source": [
    "## Ejemplo 3: Spotify\n",
    "\n",
    "Veamos como descargar mayores cantidades de datos y recorrer un sitio web"
   ]
  },
  {
   "cell_type": "code",
   "execution_count": 42,
   "metadata": {},
   "outputs": [],
   "source": [
    "url = 'https://open.spotify.com/genre/sleep'\n",
    "driver = webdriver.Chrome(chromedriver_path)\n",
    "driver.get(url)"
   ]
  },
  {
   "cell_type": "code",
   "execution_count": 31,
   "metadata": {},
   "outputs": [
    {
     "data": {
      "text/plain": [
       "['https://open.spotify.com/playlist/37i9dQZF1DX7aAuYd7Jogj',\n",
       " 'https://open.spotify.com/playlist/37i9dQZF1DWTmhGAhbrFb3',\n",
       " 'https://open.spotify.com/playlist/37i9dQZF1DWXsneKPbmjeu',\n",
       " 'https://open.spotify.com/playlist/37i9dQZF1DWZd79rJ6a7lp',\n",
       " 'https://open.spotify.com/playlist/37i9dQZF1DX4sWSpwq3LiO',\n",
       " 'https://open.spotify.com/playlist/37i9dQZF1DXbcPC6Vvqudd',\n",
       " 'https://open.spotify.com/playlist/37i9dQZF1DX0DxcHtn4Hwo',\n",
       " 'https://open.spotify.com/playlist/37i9dQZF1DXa8Xx03D65RT',\n",
       " 'https://open.spotify.com/playlist/37i9dQZF1DWYgToHlKhwA5',\n",
       " 'https://open.spotify.com/playlist/37i9dQZF1DX5GSGPU4E3Sq',\n",
       " 'https://open.spotify.com/playlist/37i9dQZF1DWUZ5bk6qqDSy',\n",
       " 'https://open.spotify.com/playlist/37i9dQZF1DXa1rZf8gLhyz',\n",
       " 'https://open.spotify.com/playlist/37i9dQZF1DXbADqT0j1Cxt',\n",
       " 'https://open.spotify.com/playlist/37i9dQZF1DWTpJIpOxN3r8',\n",
       " 'https://open.spotify.com/playlist/37i9dQZF1DWUAeTOoyNaqm',\n",
       " 'https://open.spotify.com/playlist/37i9dQZF1DX9if5QDLdzCa',\n",
       " 'https://open.spotify.com/playlist/37i9dQZF1DX03b46zi3S82',\n",
       " 'https://open.spotify.com/playlist/37i9dQZF1DWYcDQ1hSjOpY',\n",
       " 'https://open.spotify.com/playlist/37i9dQZF1DX8skPjZYk8mL',\n",
       " 'https://open.spotify.com/playlist/37i9dQZF1DXdJ5OFSzWeCS']"
      ]
     },
     "execution_count": 31,
     "metadata": {},
     "output_type": "execute_result"
    }
   ],
   "source": [
    "playlists_elements = driver.find_elements_by_class_name(\"f7ebc3d96230ee12a84a9b0b4b81bb8f-scss\")\n",
    "playlists_links = [playlist.get_attribute(\"href\") for playlist in playlists_elements]\n",
    "playlists_links"
   ]
  },
  {
   "cell_type": "markdown",
   "metadata": {},
   "source": [
    "### Ejercicio\n",
    "Completar el siguiente código"
   ]
  },
  {
   "cell_type": "code",
   "execution_count": 43,
   "metadata": {},
   "outputs": [
    {
     "name": "stdout",
     "output_type": "stream",
     "text": [
      "Sueño Profundo\n",
      "1,596,313 likes\n",
      "Bajo Las Estrellas\n",
      "531,908 likes\n",
      "Duérmete Niño, Duérmete ya\n",
      "13,735 likes\n",
      "Sleep\n",
      "4,042,889 likes\n",
      "Peaceful Piano\n",
      "6,051,607 likes\n",
      "Night Rain\n",
      "949,439 likes\n",
      "Baby Sleep\n",
      "442,590 likes\n",
      "Piano de Fondo\n",
      "406,456 likes\n",
      "Sonidos de Lluvia y Tormentas\n",
      "13,893 likes\n",
      "Bosque Místico\n",
      "156,094 likes\n",
      "White Noise\n",
      "432,625 likes\n",
      "Jazz for Sleep\n",
      "843,820 likes\n",
      "Lullaby Baby\n",
      "432,147 likes\n",
      "Lluvia de Noche\n",
      "30,215 likes\n",
      "ASMR Sleep\n",
      "222,889 likes\n",
      "Ocean Escapes\n",
      "442,062 likes\n",
      "Sleepy Piano\n",
      "176,300 likes\n",
      "Deep Sleep\n",
      "1,220,861 likes\n",
      "Sweet Lullabies\n",
      "37,139 likes\n",
      "Sleep, Baby Sleep\n",
      "167,431 likes\n"
     ]
    }
   ],
   "source": [
    "for url in playlists_links:\n",
    "    driver.get(url)\n",
    "    try:\n",
    "        time.sleep(4) # Esperamos 4 segundos para asegurarnos que el sitio se termine de cargar antes de consultar por el titulo y los likes.\n",
    "        title = element_text(title_xpath)        \n",
    "        likes = element_text(likes_xpath)\n",
    "        print(title)\n",
    "        print(likes)\n",
    "    except:\n",
    "        print(f\"Failed processing {url}\")\n",
    "\n",
    "driver.close()"
   ]
  },
  {
   "cell_type": "markdown",
   "metadata": {},
   "source": [
    "## Ejercicio Final: Whatsapp Bot\n",
    "Tazos ganadores de Messi"
   ]
  },
  {
   "cell_type": "markdown",
   "metadata": {},
   "source": [
    "\n",
    "## Recursos útiles\n",
    "- [Damian Sire](https://www.youtube.com/watch?v=iIYzkeQAgp8&list=PLVxN95ZVpcJsG8TQMozeOVBDkf7EYMuPz): Videotutoriales de selenium con ejemplos de uso entretenidos"
   ]
  },
  {
   "cell_type": "markdown",
   "metadata": {},
   "source": [
    "## Comentarios finales\n",
    "Otras herramientas y prácticas avanzadas de scraping\n",
    "\n",
    "- Scrapy\n",
    "- Rotacion de IP y userAgent\n",
    "- Scheduling\n",
    "- Paralelización\n",
    "- Camuflando selenium\n",
    "- cURL\n",
    "- Cookies"
   ]
  }
 ],
 "metadata": {
  "instance_type": "ml.t3.medium",
  "kernelspec": {
   "display_name": "Python 3",
   "language": "python",
   "name": "python3"
  },
  "language_info": {
   "codemirror_mode": {
    "name": "ipython",
    "version": 3
   },
   "file_extension": ".py",
   "mimetype": "text/x-python",
   "name": "python",
   "nbconvert_exporter": "python",
   "pygments_lexer": "ipython3",
   "version": "3.8.5"
  }
 },
 "nbformat": 4,
 "nbformat_minor": 4
}
