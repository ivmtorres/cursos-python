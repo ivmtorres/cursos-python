{
 "cells": [
  {
   "cell_type": "markdown",
   "metadata": {
    "colab_type": "text",
    "id": "aud-WtASIQ8e"
   },
   "source": [
    "Vamos a usar Google Colaboratory para mantenernos sincronizados y aprovechar la portabilidad que ofrece. \n",
    "\n",
    "La notebook debe ser autosuficiente, sirviendo como material para exposición, con ejercicios prácticos orientados al dominio al que se apunta, complementado por una notebook de ejercicios y \n",
    "soluciones. "
   ]
  },
  {
   "cell_type": "markdown",
   "metadata": {
    "colab_type": "text",
    "id": "-tGdaHdyIKdZ"
   },
   "source": [
    "# Estilo de las clases\n",
    "\n",
    "- Partes separadas con títulos grandes y subsecciones jerárquicas con #\n",
    "- Explicaciones en texto plano (markdown)\n",
    "- Comentarios solo para especificar parámetros, argumentos especificos en ejemplos u otras cuestiones técnicas. \n",
    "- Usar HTML para hipervínculos.\n",
    "- Indentación, negrita o indentacion con formato codigo son preferibles cuando se hable de terminos de software como \"booleano\", *keywords* de Python\n",
    "- Respetar las indicaciones de [PEP 8](https://www.python.org/dev/peps/pep-0008/)\n",
    " como manual de estilo.\n",
    "  \n",
    "Las clases se componen de una o dos (como mucho) notebooks. Cada notebook incluye ejercicios a ser completados. Salvando que sean casos demasiado fáciles (como las primeras clases de intro a Python) se pide que haya una notebook sin ejercicios completados y una con los ejercicios completados, para ayudar al docente. El sufijo -solucion indica en el nombre si incluye la solución o no. Además se debe incluir una carpeta ejercicio/ donde se incluyen ejercicios para realizar fuera de la clase. También debe incluirse la solución.\n",
    "\n",
    "Ejemplo:\n",
    "\n",
    "---"
   ]
  },
  {
   "cell_type": "markdown",
   "metadata": {
    "colab_type": "text",
    "id": "wRo12yLKIKda"
   },
   "source": [
    "# Operaciones con variables"
   ]
  },
  {
   "cell_type": "markdown",
   "metadata": {
    "colab_type": "text",
    "id": "UPCf78r2IKdb"
   },
   "source": [
    "# Variables  \n",
    "\n",
    "## Booleanos\n",
    "\n",
    "Las variables de tipo _bool_ aceptan ciertos operadores lógicos o relacionales: \n",
    "- **&**, **and** : simbolizan la operación conocida de \"y\", ^, o intersección...\n",
    "- ...\n",
    "\n",
    "Aparecen en distintos contextos blabla... como las sentencias condicionales o *if*s...\n",
    "\n",
    "```python\n",
    "if (10 > 5) & ('palabras' in ['palabras', 'algo', 'cosas']) and True:\n",
    "    print('Verdadero!')\n",
    "```"
   ]
  },
  {
   "cell_type": "code",
   "execution_count": null,
   "metadata": {
    "colab": {},
    "colab_type": "code",
    "id": "Q-5TUMh8IKdc",
    "outputId": "0b4bd63a-5619-4de7-c5d1-f3e32ff92134"
   },
   "outputs": [
    {
     "name": "stdout",
     "output_type": "stream",
     "text": [
      "Uhh qué lástima!\n"
     ]
    }
   ],
   "source": [
    "# Declaramos un bool con valor verdadero, o sea True o 1\n",
    "esta_soleado = 1\n",
    "hay_cuarentena = 1\n",
    "\n",
    "if esta_soleado & hay_cuarentena:\n",
    "    print('Uhh qué lástima!')"
   ]
  },
  {
   "cell_type": "markdown",
   "metadata": {
    "colab_type": "text",
    "id": "DEajHVxgIKdh"
   },
   "source": [
    "---\n",
    "Los ejercicios:\n",
    " - Deben formularse en infinitivo\n",
    " - Pueden tener secciones con títulos\n",
    " - Las consignas deben estar escritas en Markdown con texto plano (no en comentarios, o todo con ##\n",
    " - Deben estar todos juntos al final de la notebook, o en una distinta, y las soluciones en otra ipynb"
   ]
  },
  {
   "cell_type": "markdown",
   "metadata": {
    "colab_type": "text",
    "id": "CdL1yRz2IKdh"
   },
   "source": [
    "## Operaciones numéricas\n",
    "\n",
    "Calcular la raiz cuadrada de 5 y redondear a 3 decimales"
   ]
  },
  {
   "cell_type": "code",
   "execution_count": null,
   "metadata": {
    "colab": {},
    "colab_type": "code",
    "id": "Wy1NYFjwIKdi",
    "outputId": "3e601216-b1c3-4917-bcaa-be5c75a70eb5"
   },
   "outputs": [
    {
     "data": {
      "text/plain": [
       "2.236"
      ]
     },
     "execution_count": 5,
     "metadata": {
      "tags": []
     },
     "output_type": "execute_result"
    }
   ],
   "source": [
    "round(5 ** (1/2), 3)"
   ]
  },
  {
   "cell_type": "code",
   "execution_count": null,
   "metadata": {
    "colab": {},
    "colab_type": "code",
    "id": "v3-m2p0jIvMU"
   },
   "outputs": [],
   "source": []
  },
  {
   "cell_type": "markdown",
   "metadata": {
    "colab_type": "text",
    "id": "92kS_n5-Ivzn"
   },
   "source": [
    "## Principales convenciones de PEP8\n"
   ]
  },
  {
   "cell_type": "code",
   "execution_count": null,
   "metadata": {
    "colab": {},
    "colab_type": "code",
    "id": "CNNrgA34JDZ5"
   },
   "outputs": [],
   "source": [
    "# Recommended naming convention for variables, functions and class methods\n",
    "under_score_naming_convention = 'default' "
   ]
  },
  {
   "cell_type": "code",
   "execution_count": null,
   "metadata": {
    "colab": {},
    "colab_type": "code",
    "id": "3lUVy6lfJFnY"
   },
   "outputs": [],
   "source": [
    "# Recommended\n",
    "class Foo:\n",
    "  def _private_method(self):\n",
    "      return 'private'\n",
    "\n",
    "  def public_method(self):\n",
    "      return 'public'"
   ]
  },
  {
   "cell_type": "code",
   "execution_count": null,
   "metadata": {
    "colab": {},
    "colab_type": "code",
    "id": "8v6zZkNSKFOb"
   },
   "outputs": [],
   "source": [
    "# Recommended\n",
    "total = (first_variable\n",
    "         + second_variable\n",
    "         - third_variable)"
   ]
  },
  {
   "cell_type": "markdown",
   "metadata": {
    "colab_type": "text",
    "id": "geN_x1T4KO3Z"
   },
   "source": [
    "Indentation following line breaks"
   ]
  },
  {
   "cell_type": "code",
   "execution_count": null,
   "metadata": {
    "colab": {},
    "colab_type": "code",
    "id": "rJlfvI5vKSK7"
   },
   "outputs": [],
   "source": [
    "# Recommended\n",
    "def function(arg_one, arg_two,\n",
    "             arg_three, arg_four):\n",
    "    return arg_one\n"
   ]
  },
  {
   "cell_type": "markdown",
   "metadata": {
    "colab_type": "text",
    "id": "WzPNEnHgyxOn"
   },
   "source": [
    "Otros:\n",
    "- https://google.github.io/styleguide/pyguide.html\n",
    "- https://refactoring.guru/\n",
    "- Black para formatting\n",
    "- pylint para detectar conflictos\n",
    "- isort para ordenar imports"
   ]
  }
 ],
 "metadata": {
  "colab": {
   "collapsed_sections": [],
   "name": "Guía para armar contenido.ipynb",
   "provenance": []
  },
  "kernelspec": {
   "display_name": "Python 3",
   "language": "python",
   "name": "python3"
  },
  "language_info": {
   "codemirror_mode": {
    "name": "ipython",
    "version": 3
   },
   "file_extension": ".py",
   "mimetype": "text/x-python",
   "name": "python",
   "nbconvert_exporter": "python",
   "pygments_lexer": "ipython3",
   "version": "3.7.3"
  }
 },
 "nbformat": 4,
 "nbformat_minor": 1
}
