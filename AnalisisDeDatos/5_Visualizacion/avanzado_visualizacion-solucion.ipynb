{
 "cells": [
  {
   "cell_type": "markdown",
   "metadata": {},
   "source": [
    "<a href=\"https://colab.research.google.com/github/institutohumai/cursos-python/blob/master/AnalisisDeDatos/5_Visualizacion/avanzado_visualizacion.ipynb\"> <img src='https://colab.research.google.com/assets/colab-badge.svg' /> </a>\n",
    "<div align=\"center\"> Recordá abrir en una nueva pestaña </div>"
   ]
  },
  {
   "cell_type": "markdown",
   "metadata": {},
   "source": [
    "# Visualizaciones avanzadas"
   ]
  },
  {
   "cell_type": "markdown",
   "metadata": {},
   "source": [
    "Vamos a dar un recorrido por algunas de las posibilidades de la librería de visualización [Plotly](https://plotly.com/python/). Recordamos que estos son algunos de los ejemplos, en la documentación puede encontrar mucho más!\n",
    "Si estan usando Jupyter Lab o Jupyter Notebooks para correr esta notebook, recomendamos antes, instalar Plotly con sus respectivas extensiones como dice [aquí](https://plotly.com/python/getting-started/)\n",
    "\n",
    "Podemos hacer distintos tipos de gráficos, nosotros vamos a abordar los siguientes:<br>\n",
    ">    - Objeto gráfico \n",
    ">    - Gráficos a partir de diccionarios \n",
    ">    - Plotly express \n"
   ]
  },
  {
   "cell_type": "code",
   "execution_count": 1,
   "metadata": {},
   "outputs": [],
   "source": [
    "# pip install plotly==4.9.0"
   ]
  },
  {
   "cell_type": "markdown",
   "metadata": {},
   "source": [
    "### Datos\n",
    "\n",
    "Vamos a usar un dataset de la Ciudad de Buenos Aires con información acerca de estaciones de subtes."
   ]
  },
  {
   "cell_type": "code",
   "execution_count": null,
   "metadata": {},
   "outputs": [],
   "source": [
    "import pandas as pd \n",
    "                                \n",
    "data = pd.read_csv('https://datasets-humai.s3.amazonaws.com/datasets/data_subtes.csv')"
   ]
  },
  {
   "cell_type": "code",
   "execution_count": null,
   "metadata": {},
   "outputs": [],
   "source": [
    "data.info()"
   ]
  },
  {
   "cell_type": "code",
   "execution_count": null,
   "metadata": {},
   "outputs": [],
   "source": [
    "data.isna().sum()"
   ]
  },
  {
   "cell_type": "code",
   "execution_count": null,
   "metadata": {},
   "outputs": [],
   "source": [
    "data.head()"
   ]
  },
  {
   "cell_type": "markdown",
   "metadata": {},
   "source": [
    "Vemos que el dataset es muy grande, por lo que nos vamos a quedar con una muestra."
   ]
  },
  {
   "cell_type": "code",
   "execution_count": null,
   "metadata": {},
   "outputs": [],
   "source": [
    "import random\n",
    "\n",
    "random.seed(7)\n",
    "df = data.sample(frac=0.25)"
   ]
  },
  {
   "cell_type": "code",
   "execution_count": null,
   "metadata": {},
   "outputs": [],
   "source": [
    "df.info()"
   ]
  },
  {
   "cell_type": "markdown",
   "metadata": {},
   "source": [
    "Ahora sí, vemos que tenemos un dataset sin valores nulos y bien organizado, podemos seguir con los gráficos.\n"
   ]
  },
  {
   "cell_type": "markdown",
   "metadata": {},
   "source": [
    "### A partir de un diccionario\n"
   ]
  },
  {
   "cell_type": "code",
   "execution_count": null,
   "metadata": {},
   "outputs": [],
   "source": [
    "import plotly.io as pio\n",
    "\n",
    "fig = dict({\n",
    "    \"data\": [{\"type\": \"bar\",\n",
    "              \"x\": df['linea'].value_counts().index.tolist(),\n",
    "              \"y\": df['linea'].value_counts()\n",
    "              }],\n",
    "    \"layout\": {\"title\": {\"text\": \"Cantidad de observaciones por linea\"}}\n",
    "})\n",
    "\n",
    "pio.show(fig)"
   ]
  },
  {
   "cell_type": "markdown",
   "metadata": {},
   "source": [
    "Dentro del mismo diccionario podemos personalizar nuestro gráfico de manera más detallada. Vemos como agregarle anotaciones y elegimos un tema de diseño."
   ]
  },
  {
   "cell_type": "code",
   "execution_count": null,
   "metadata": {},
   "outputs": [],
   "source": [
    "fig = dict({\n",
    "    \"data\": [{\"type\": \"bar\",\n",
    "              \"x\": df['linea'].value_counts().index.tolist(),\n",
    "              \"y\": df['linea'].value_counts()\n",
    "              }],\n",
    "    \"layout\": {\"title\": {\"text\": \"Cantidad de observaciones por linea\"},\n",
    "               \"template\":\"ggplot2\",\n",
    "               'annotations':[dict(text=\"Es la más concurrida\", x=0, y=180000),\n",
    "                             dict(text=\"Es la menos concurrida\", x=5, y=80000)],\n",
    "               'xaxis':{'title':'Lineas','color':'grey'},\n",
    "               'yaxis':{'title':'Frecuencia','color':'grey'}\n",
    "              }\n",
    "})\n",
    "\n",
    "pio.show(fig)"
   ]
  },
  {
   "cell_type": "markdown",
   "metadata": {},
   "source": [
    "### Plotly Express\n",
    "\n",
    "Con plotly express podemos gozar de la calidad gráfica de plotly sin la necesidad de un código muy complejo."
   ]
  },
  {
   "cell_type": "markdown",
   "metadata": {},
   "source": [
    "Acomodomamos los formatos de las fechas."
   ]
  },
  {
   "cell_type": "code",
   "execution_count": null,
   "metadata": {},
   "outputs": [],
   "source": [
    "df['desde'] = pd.to_datetime(df['desde'], format = '%H:%M:%S')\n",
    "df['hasta'] = pd.to_datetime(df['hasta'], format = '%H:%M:%S')"
   ]
  },
  {
   "cell_type": "code",
   "execution_count": null,
   "metadata": {},
   "outputs": [],
   "source": [
    "df.hasta = df.hasta.apply(lambda x: x.strftime('%H:%M:%S'))\n",
    "df.desde = df.desde.apply(lambda x: x.strftime('%H:%M:%S'))"
   ]
  },
  {
   "cell_type": "code",
   "execution_count": null,
   "metadata": {},
   "outputs": [],
   "source": [
    "df.fecha = pd.to_datetime(df['fecha'])"
   ]
  },
  {
   "cell_type": "code",
   "execution_count": null,
   "metadata": {},
   "outputs": [],
   "source": [
    "df['dia_semana'] = df['fecha'].apply(lambda x: x.day_name())"
   ]
  },
  {
   "cell_type": "code",
   "execution_count": null,
   "metadata": {},
   "outputs": [],
   "source": [
    "import plotly.express as px\n",
    "\n",
    "template = 'ggplot2'\n",
    "\n",
    "fig = px.histogram(df.sort_values(by='desde'),\n",
    "                 x='desde', y=\"total\",\n",
    "                 template=template, title='Total de pasajeros por hora',\n",
    "                  labels={'desde':'Horario','total':'Cantidad de pasajeros'})\n",
    "\n",
    "fig.update_xaxes(rangeslider_visible=True)\n",
    "fig.show()"
   ]
  },
  {
   "cell_type": "markdown",
   "metadata": {},
   "source": [
    "### Objeto Grafico"
   ]
  },
  {
   "cell_type": "markdown",
   "metadata": {},
   "source": [
    "Esta clase de plotly nos permite una mayor customización de los graficos. "
   ]
  },
  {
   "cell_type": "code",
   "execution_count": null,
   "metadata": {},
   "outputs": [],
   "source": [
    "import plotly.graph_objects as go"
   ]
  },
  {
   "cell_type": "markdown",
   "metadata": {},
   "source": [
    "Ahora vemos los histogramas de 3 días distintos para ver como se comportan, suponemos que los días laborales, el subte se usa más."
   ]
  },
  {
   "cell_type": "markdown",
   "metadata": {},
   "source": [
    "Lunes"
   ]
  },
  {
   "cell_type": "code",
   "execution_count": null,
   "metadata": {},
   "outputs": [],
   "source": [
    "x1 = df.loc[df['dia_semana']=='Monday']['desde']\n",
    "\n",
    "traza1 = go.Histogram(\n",
    "    x = x1.sort_values(),\n",
    "    y = df.loc[df['dia_semana']=='Monday']['total'],\n",
    "    name = 'Lunes',\n",
    "    opacity = 0.8,\n",
    "    xaxis = 'x1',\n",
    "    yaxis = 'y1',\n",
    "    marker = go.histogram.Marker(\n",
    "        color = 'rgb(95, 182, 239)',\n",
    "    )\n",
    ")"
   ]
  },
  {
   "cell_type": "markdown",
   "metadata": {},
   "source": [
    "Viernes"
   ]
  },
  {
   "cell_type": "code",
   "execution_count": null,
   "metadata": {},
   "outputs": [],
   "source": [
    "x2 = df.loc[df['dia_semana']=='Friday']['desde']\n",
    "\n",
    "traza2 = go.Histogram(\n",
    "    x = x2.sort_values(),\n",
    "    y = df.loc[df['dia_semana']=='Friday']['total'],\n",
    "    name = 'Viernes',\n",
    "    opacity = 0.8,\n",
    "    xaxis = 'x1',\n",
    "    yaxis = 'y1',\n",
    "    marker = go.histogram.Marker(\n",
    "        color = 'rgb(300, 150, 100)',\n",
    "    )\n",
    ")"
   ]
  },
  {
   "cell_type": "markdown",
   "metadata": {},
   "source": [
    "Sabados"
   ]
  },
  {
   "cell_type": "code",
   "execution_count": null,
   "metadata": {},
   "outputs": [],
   "source": [
    "x3 = df.loc[df['dia_semana']=='Saturday']['desde']\n",
    "\n",
    "traza3 = go.Histogram(\n",
    "    x = x3.sort_values(),\n",
    "    y = df.loc[df['dia_semana']=='Saturday']['total'],\n",
    "    name = 'Sabados',\n",
    "    opacity = 0.8,\n",
    "    xaxis = 'x1',\n",
    "    yaxis = 'y1',\n",
    "    marker = go.histogram.Marker(\n",
    "        color = 'rgb(200, 104, 50)',\n",
    "    )\n",
    ")"
   ]
  },
  {
   "cell_type": "markdown",
   "metadata": {},
   "source": [
    "Retocamos la estetica del gráfico."
   ]
  },
  {
   "cell_type": "code",
   "execution_count": null,
   "metadata": {},
   "outputs": [],
   "source": [
    "plantilla = go.Layout(title='Histogramas por día de semana')"
   ]
  },
  {
   "cell_type": "markdown",
   "metadata": {},
   "source": [
    "Ahora unimos todas las trazas en una figura de Graphing Objects"
   ]
  },
  {
   "cell_type": "code",
   "execution_count": null,
   "metadata": {},
   "outputs": [],
   "source": [
    "fig = go.Figure(data=[traza1, traza2, traza3], layout=plantilla)\n",
    "\n",
    "fig.show()"
   ]
  },
  {
   "cell_type": "markdown",
   "metadata": {},
   "source": [
    "### Torta 2D\n",
    "\n",
    "Creamos un objeto gráfico a partir de los datos instanciados en una figura de plotly express."
   ]
  },
  {
   "cell_type": "code",
   "execution_count": null,
   "metadata": {},
   "outputs": [],
   "source": [
    "store = px.sunburst(df,path=['linea', 'estacion'])\n",
    "\n",
    "traza = go.Sunburst(labels=store['data'][0]['labels'].tolist(),\n",
    "                            parents=store['data'][0]['parents'].tolist())\n",
    "\n",
    "fig = go.Figure(data=[traza])\n",
    "\n",
    "fig.show()"
   ]
  },
  {
   "cell_type": "markdown",
   "metadata": {},
   "source": [
    "### Series de tiempo\n",
    "\n",
    "Utilizaremos las series financieras de Apple, Google y Amazon."
   ]
  },
  {
   "cell_type": "code",
   "execution_count": null,
   "metadata": {},
   "outputs": [],
   "source": [
    "df = pd.read_csv('https://datasets-humai.s3.amazonaws.com/datasets/data_financiera.csv')"
   ]
  },
  {
   "cell_type": "markdown",
   "metadata": {},
   "source": [
    "Gráficamos las tres series de tiempo con las siguientes líneas de código."
   ]
  },
  {
   "cell_type": "code",
   "execution_count": null,
   "metadata": {},
   "outputs": [],
   "source": [
    "columnas = ['AAPL','AMZN', 'GOOGL']\n",
    "\n",
    "fig = go.Figure([{\n",
    "    'x': df.Date,\n",
    "    'y': df[col],\n",
    "    'name': col\n",
    "}  for col in columnas])\n",
    "\n",
    "fig.update_xaxes(rangeslider_visible=True)\n",
    "fig.update_layout(title='Amazon vs Google vs Apple')\n",
    "fig.show()"
   ]
  },
  {
   "cell_type": "markdown",
   "metadata": {},
   "source": [
    "### OHLC\n",
    "\n",
    "Vamos a utilizar una serie financiera, en especifico la de Apple. "
   ]
  },
  {
   "cell_type": "code",
   "execution_count": null,
   "metadata": {},
   "outputs": [],
   "source": [
    "df = pd.read_csv('https://raw.githubusercontent.com/plotly/datasets/master/finance-charts-apple.csv')"
   ]
  },
  {
   "cell_type": "code",
   "execution_count": null,
   "metadata": {},
   "outputs": [],
   "source": [
    "df.head(5)"
   ]
  },
  {
   "cell_type": "markdown",
   "metadata": {},
   "source": [
    "Por sus siglas en inglés OHLC es Open High Low Close."
   ]
  },
  {
   "cell_type": "code",
   "execution_count": null,
   "metadata": {},
   "outputs": [],
   "source": [
    "fig = go.Figure(data=go.Ohlc(x=df['Date'],\n",
    "                open=df['AAPL.Open'],\n",
    "                high=df['AAPL.High'],\n",
    "                low=df['AAPL.Low'],\n",
    "                close=df['AAPL.Close']))\n",
    "\n",
    "\n",
    "fig.update_layout(\n",
    "    title='OHLC de Apple',\n",
    "    yaxis_title='AAPL',\n",
    "    shapes = [dict(\n",
    "        x0='2016-12-09', x1='2016-12-09', y0=0, y1=1, xref='x', yref='paper',   #con esta linea de codigo hacemos la linea vertical\n",
    "        line_width=2)],\n",
    "    annotations=[dict(\n",
    "        x='2016-12-09', y=0.60, xref='x', yref='paper',\n",
    "        showarrow=True, xanchor='right', text='Apple actualizó el software')]    #con esta linea nos encargamos de la anotación\n",
    ")\n",
    "\n",
    "\n",
    "fig.show()"
   ]
  },
  {
   "cell_type": "markdown",
   "metadata": {},
   "source": [
    "## Ejercicio\n",
    "\n",
    "Continuando con el ejemplo anterior, realice el gráfico de la OHLC. Investigue la [documentación](https://plotly.com/python/ohlc-charts/) para agregarle ulteriores modificaciones. Además considere agregarle al gráfico la media móvil ('mavg') y su volumén diario ('AAPL.Volume') "
   ]
  },
  {
   "cell_type": "code",
   "execution_count": null,
   "metadata": {},
   "outputs": [],
   "source": [
    "# Traza 1 \n",
    "traza1 = go.Ohlc(x=df['Date'], \n",
    "                 open=df['AAPL.Open'],\n",
    "                 high=df['AAPL.High'], \n",
    "                 low=df['AAPL.Low'], \n",
    "                 close=df['AAPL.Close'],\n",
    "                 name='OHLC'\n",
    "                )\n",
    "\n",
    "# Traza 2 \n",
    "traza2 = go.Scatter(x=df['Date'], \n",
    "                    y=df['mavg'],\n",
    "                    marker_color='rgba(10, 182, 250, .9)',\n",
    "                    name='Media Movil')\n",
    "\n",
    "# Traza 3 \n",
    "traza3 = go.Histogram(x=df['Date'],y=df['AAPL.Volume'],\n",
    "                      name='Volumen')"
   ]
  },
  {
   "cell_type": "code",
   "execution_count": null,
   "metadata": {},
   "outputs": [],
   "source": [
    "fig = go.Figure(data=[traza1,traza2,traza3])\n",
    "fig.show()"
   ]
  }
 ],
 "metadata": {
  "kernelspec": {
   "display_name": "Python (base)",
   "language": "python",
   "name": "base"
  },
  "language_info": {
   "codemirror_mode": {
    "name": "ipython",
    "version": 3
   },
   "file_extension": ".py",
   "mimetype": "text/x-python",
   "name": "python",
   "nbconvert_exporter": "python",
   "pygments_lexer": "ipython3",
   "version": "3.7.3"
  }
 },
 "nbformat": 4,
 "nbformat_minor": 4
}
